{
 "cells": [
  {
   "cell_type": "markdown",
   "id": "01f07286-80ef-4029-a878-360d168cbe12",
   "metadata": {},
   "source": [
    "<img src=\"https://cf-courses-data.s3.us.cloud-object-storage.appdomain.cloud/IBMDeveloperSkillsNetwork-DL0120EN-SkillsNetwork/images/IDSN-logo.png\" width=\"300\" alt=\"cognitiveclass.ai logo\">\n",
    "\n",
    "<h1 align=\"center\"><font size=\"5\">RESTRICTED BOLTZMANN MACHINES</font></h1>\n"
   ]
  },
  {
   "cell_type": "markdown",
   "id": "f5d5bdfc-8a12-41f1-bb60-ab3ce35a1355",
   "metadata": {},
   "source": [
    "Estimated time needed: **25** minutes\n"
   ]
  },
  {
   "cell_type": "markdown",
   "id": "319ae04e-2281-4fc5-a2b5-348e64c2d0d1",
   "metadata": {},
   "source": [
    "<h3>Introduction</h3>\n",
    "<b>Restricted Boltzmann Machine (RBM):</b>  RBMs are shallow neural nets that learn to reconstruct data by themselves in an unsupervised fashion.  \n",
    "\n",
    "\n",
    "<h4>Why are RBMs important?</h4>\n",
    "An RBM are a basic form of autoencoder.  It can automatically extract <b>meaningful</b> features from a given input.\n",
    "\n",
    "\n",
    "<h4>How does it work?</h4>\n",
    "RBM is a 2 layer neural network. Simply, RBM takes the inputs and translates those into a set of binary values that represents them in the hidden layer. Then, these numbers can be translated back to reconstruct the inputs. Through several forward and backward passes, the RBM will be trained, and a trained RBM can reveal which features are the most important ones when detecting patterns.   \n",
    "\n",
    "\n",
    "<h4>What are the applications of an RBM?</h4>\n",
    "RBM is useful for <a href='http://www.cs.utoronto.ca/~hinton/absps/netflixICML.pdf?utm_medium=Exinfluencer&utm_source=Exinfluencer&utm_content=000026UJ&utm_term=10006555&utm_id=NA-SkillsNetwork-Channel-SkillsNetworkCoursesIBMDeveloperSkillsNetworkDL0120ENSkillsNetwork954-2022-01-01'>  Collaborative Filtering</a>, dimensionality reduction, classification, regression, feature learning, topic modeling and even <b>Deep Belief Networks</b>.\n",
    "\n",
    "<h4>Is RBM a generative or Discriminative model?</h4>\n",
    "RBM is a generative model. Let me explain it by first, see what is different between discriminative and generative models: \n",
    "\n",
    "<b>Discriminative:</b> Consider a classification problem where we want to learn to distinguish between Sedan cars (y = 1) and SUV cars (y = 0), based on some features of cars. Given a training set, an algorithm like logistic regression tries to find a straight line, or <i>decision boundary</i>, that separates the suv and sedan.  \n",
    "\n",
    "<b>Generative:</b> looking at cars, we can build a model of what Sedan cars look like. Then, looking at SUVs, we can build a separate model of what SUV cars look like. Finally, to classify a new car, we can match the new car against the Sedan model, and match it against the SUV model, to see whether the new car looks more like the SUV or Sedan. \n",
    "\n",
    "Generative Models specify a probability distribution over a dataset of input vectors. We can carry out both supervised and unsupervised tasks with generative models:\n",
    "<ul>\n",
    "    <li>In an unsupervised task, we try to form a model for $P(x)$, where $P$ is the probability given $x$ as an input vector.</li>\n",
    "    <li>In the supervised task, we first form a model for $P(x|y)$, where $P$ is the probability of $x$ given $y$(the label for $x$). For example, if $y = 0$ indicates that a car is an SUV, and $y = 1$ indicates that a car is a sedan, then $p(x|y = 0)$ models the distribution of SUV features, and $p(x|y = 1)$ models the distribution of sedan features. If we manage to find $P(x|y)$ and $P(y)$, then we can use <b>Bayes rule</b> to estimate $P(y|x)$, because:   \n",
    "        $$p(y|x) = \\frac{p(x|y)p(y)}{p(x)}$$</li>\n",
    "</ul>\n",
    "Now the question is, can we build a generative model, and then use it to create synthetic data by directly sampling from the modeled probability distributions? Lets see. \n"
   ]
  },
  {
   "cell_type": "markdown",
   "id": "05a35afa-9b48-4c9e-a681-3fa85e29550b",
   "metadata": {},
   "source": [
    "<h2>Table of Contents</h2>\n",
    "<ol>\n",
    "    <li><a href=\"#ref1\">Initialization</a></li>\n",
    "    <li><a href=\"#ref2\">RBM layers</a></li>\n",
    "    <li><a href=\"#ref3\">What RBM can do after training?</a></li>\n",
    "    <li><a href=\"#ref4\">How to train the model?</a></li>\n",
    "    <li><a href=\"#ref5\">Learned features</a></li>\n",
    "</ol>\n",
    "<p></p>\n",
    "</div>\n",
    "<br>\n",
    "\n",
    "<hr>\n"
   ]
  },
  {
   "cell_type": "markdown",
   "id": "d053a8e3-a5b0-40cc-8ffa-cbcbd3b99530",
   "metadata": {},
   "source": [
    "<a id=\"ref1\"></a>\n",
    "<h3>Initialization</h3>\n",
    "\n",
    "First, we have to load the utility file which contains different utility functions that are not connected\n",
    "in any way to the networks presented in the tutorials, but rather help in\n",
    "processing the outputs into a more understandable way.\n"
   ]
  },
  {
   "cell_type": "code",
   "execution_count": 1,
   "id": "857e9e9b-b981-4cb1-8d25-07152d91adb3",
   "metadata": {},
   "outputs": [],
   "source": [
    "import urllib.request\n",
    "with urllib.request.urlopen(\"https://cf-courses-data.s3.us.cloud-object-storage.appdomain.cloud/IBMDeveloperSkillsNetwork-DL0120EN-SkillsNetwork/labs/Week4/data/utils.py\") as url:\n",
    "    response = url.read()\n",
    "target = open('utils.py', 'w')\n",
    "target.write(response.decode('utf-8'))\n",
    "target.close()"
   ]
  },
  {
   "cell_type": "markdown",
   "id": "66a8e92b-ba72-4ee4-8b8a-d2488626f167",
   "metadata": {},
   "source": [
    "<h2>Installing TensorFlow </h2>\n",
    "\n",
    "We will installing TensorFlow version 2.2.0 and its required prerequistes.  Also installing pillow...\n"
   ]
  },
  {
   "cell_type": "code",
   "execution_count": 2,
   "id": "2b97624c-c207-4a3f-9231-62086be99a4c",
   "metadata": {},
   "outputs": [
    {
     "name": "stdout",
     "output_type": "stream",
     "text": [
      "Collecting grpcio==1.24.3\n",
      "  Using cached grpcio-1.24.3.tar.gz (14.0 MB)\n",
      "  Preparing metadata (setup.py): started\n",
      "  Preparing metadata (setup.py): finished with status 'done'\n",
      "Requirement already satisfied: six>=1.5.2 in c:\\users\\erlangga\\anaconda3\\envs\\tensorflow\\lib\\site-packages (from grpcio==1.24.3) (1.16.0)\n",
      "Building wheels for collected packages: grpcio\n",
      "  Building wheel for grpcio (setup.py): started\n",
      "  Building wheel for grpcio (setup.py): finished with status 'error'\n",
      "  Running setup.py clean for grpcio\n",
      "Failed to build grpcio\n",
      "Installing collected packages: grpcio\n",
      "  Attempting uninstall: grpcio\n",
      "    Found existing installation: grpcio 1.42.0\n",
      "    Uninstalling grpcio-1.42.0:\n",
      "      Successfully uninstalled grpcio-1.42.0\n",
      "  Running setup.py install for grpcio: started\n",
      "  Running setup.py install for grpcio: finished with status 'error'\n",
      "  Rolling back uninstall of grpcio\n",
      "  Moving to c:\\users\\erlangga\\anaconda3\\envs\\tensorflow\\lib\\site-packages\\grpc\\\n",
      "   from C:\\Users\\Erlangga\\anaconda3\\envs\\tensorflow\\Lib\\site-packages\\~rpc\n",
      "  Moving to c:\\users\\erlangga\\anaconda3\\envs\\tensorflow\\lib\\site-packages\\grpcio-1.42.0.dist-info\\\n",
      "   from C:\\Users\\Erlangga\\anaconda3\\envs\\tensorflow\\Lib\\site-packages\\~rpcio-1.42.0.dist-info\n"
     ]
    },
    {
     "name": "stderr",
     "output_type": "stream",
     "text": [
      "  error: subprocess-exited-with-error\n",
      "  \n",
      "  python setup.py bdist_wheel did not run successfully.\n",
      "  exit code: 1\n",
      "  \n",
      "  [62 lines of output]\n",
      "  Found cython-generated files...\n",
      "  running bdist_wheel\n",
      "  running build\n",
      "  running build_py\n",
      "  running build_project_metadata\n",
      "  creating python_build\n",
      "  creating python_build\\lib.win-amd64-cpython-38\n",
      "  creating python_build\\lib.win-amd64-cpython-38\\grpc\n",
      "  copying src\\python\\grpcio\\grpc\\_auth.py -> python_build\\lib.win-amd64-cpython-38\\grpc\n",
      "  copying src\\python\\grpcio\\grpc\\_channel.py -> python_build\\lib.win-amd64-cpython-38\\grpc\n",
      "  copying src\\python\\grpcio\\grpc\\_common.py -> python_build\\lib.win-amd64-cpython-38\\grpc\n",
      "  copying src\\python\\grpcio\\grpc\\_compression.py -> python_build\\lib.win-amd64-cpython-38\\grpc\n",
      "  copying src\\python\\grpcio\\grpc\\_grpcio_metadata.py -> python_build\\lib.win-amd64-cpython-38\\grpc\n",
      "  copying src\\python\\grpcio\\grpc\\_interceptor.py -> python_build\\lib.win-amd64-cpython-38\\grpc\n",
      "  copying src\\python\\grpcio\\grpc\\_plugin_wrapping.py -> python_build\\lib.win-amd64-cpython-38\\grpc\n",
      "  copying src\\python\\grpcio\\grpc\\_server.py -> python_build\\lib.win-amd64-cpython-38\\grpc\n",
      "  copying src\\python\\grpcio\\grpc\\_utilities.py -> python_build\\lib.win-amd64-cpython-38\\grpc\n",
      "  copying src\\python\\grpcio\\grpc\\__init__.py -> python_build\\lib.win-amd64-cpython-38\\grpc\n",
      "  creating python_build\\lib.win-amd64-cpython-38\\grpc\\beta\n",
      "  copying src\\python\\grpcio\\grpc\\beta\\implementations.py -> python_build\\lib.win-amd64-cpython-38\\grpc\\beta\n",
      "  copying src\\python\\grpcio\\grpc\\beta\\interfaces.py -> python_build\\lib.win-amd64-cpython-38\\grpc\\beta\n",
      "  copying src\\python\\grpcio\\grpc\\beta\\utilities.py -> python_build\\lib.win-amd64-cpython-38\\grpc\\beta\n",
      "  copying src\\python\\grpcio\\grpc\\beta\\_client_adaptations.py -> python_build\\lib.win-amd64-cpython-38\\grpc\\beta\n",
      "  copying src\\python\\grpcio\\grpc\\beta\\_metadata.py -> python_build\\lib.win-amd64-cpython-38\\grpc\\beta\n",
      "  copying src\\python\\grpcio\\grpc\\beta\\_server_adaptations.py -> python_build\\lib.win-amd64-cpython-38\\grpc\\beta\n",
      "  copying src\\python\\grpcio\\grpc\\beta\\__init__.py -> python_build\\lib.win-amd64-cpython-38\\grpc\\beta\n",
      "  creating python_build\\lib.win-amd64-cpython-38\\grpc\\experimental\n",
      "  copying src\\python\\grpcio\\grpc\\experimental\\gevent.py -> python_build\\lib.win-amd64-cpython-38\\grpc\\experimental\n",
      "  copying src\\python\\grpcio\\grpc\\experimental\\session_cache.py -> python_build\\lib.win-amd64-cpython-38\\grpc\\experimental\n",
      "  copying src\\python\\grpcio\\grpc\\experimental\\__init__.py -> python_build\\lib.win-amd64-cpython-38\\grpc\\experimental\n",
      "  creating python_build\\lib.win-amd64-cpython-38\\grpc\\framework\n",
      "  copying src\\python\\grpcio\\grpc\\framework\\__init__.py -> python_build\\lib.win-amd64-cpython-38\\grpc\\framework\n",
      "  creating python_build\\lib.win-amd64-cpython-38\\grpc\\_cython\n",
      "  copying src\\python\\grpcio\\grpc\\_cython\\__init__.py -> python_build\\lib.win-amd64-cpython-38\\grpc\\_cython\n",
      "  creating python_build\\lib.win-amd64-cpython-38\\grpc\\framework\\common\n",
      "  copying src\\python\\grpcio\\grpc\\framework\\common\\cardinality.py -> python_build\\lib.win-amd64-cpython-38\\grpc\\framework\\common\n",
      "  copying src\\python\\grpcio\\grpc\\framework\\common\\style.py -> python_build\\lib.win-amd64-cpython-38\\grpc\\framework\\common\n",
      "  copying src\\python\\grpcio\\grpc\\framework\\common\\__init__.py -> python_build\\lib.win-amd64-cpython-38\\grpc\\framework\\common\n",
      "  creating python_build\\lib.win-amd64-cpython-38\\grpc\\framework\\foundation\n",
      "  copying src\\python\\grpcio\\grpc\\framework\\foundation\\abandonment.py -> python_build\\lib.win-amd64-cpython-38\\grpc\\framework\\foundation\n",
      "  copying src\\python\\grpcio\\grpc\\framework\\foundation\\callable_util.py -> python_build\\lib.win-amd64-cpython-38\\grpc\\framework\\foundation\n",
      "  copying src\\python\\grpcio\\grpc\\framework\\foundation\\future.py -> python_build\\lib.win-amd64-cpython-38\\grpc\\framework\\foundation\n",
      "  copying src\\python\\grpcio\\grpc\\framework\\foundation\\logging_pool.py -> python_build\\lib.win-amd64-cpython-38\\grpc\\framework\\foundation\n",
      "  copying src\\python\\grpcio\\grpc\\framework\\foundation\\stream.py -> python_build\\lib.win-amd64-cpython-38\\grpc\\framework\\foundation\n",
      "  copying src\\python\\grpcio\\grpc\\framework\\foundation\\stream_util.py -> python_build\\lib.win-amd64-cpython-38\\grpc\\framework\\foundation\n",
      "  copying src\\python\\grpcio\\grpc\\framework\\foundation\\__init__.py -> python_build\\lib.win-amd64-cpython-38\\grpc\\framework\\foundation\n",
      "  creating python_build\\lib.win-amd64-cpython-38\\grpc\\framework\\interfaces\n",
      "  copying src\\python\\grpcio\\grpc\\framework\\interfaces\\__init__.py -> python_build\\lib.win-amd64-cpython-38\\grpc\\framework\\interfaces\n",
      "  creating python_build\\lib.win-amd64-cpython-38\\grpc\\framework\\interfaces\\base\n",
      "  copying src\\python\\grpcio\\grpc\\framework\\interfaces\\base\\base.py -> python_build\\lib.win-amd64-cpython-38\\grpc\\framework\\interfaces\\base\n",
      "  copying src\\python\\grpcio\\grpc\\framework\\interfaces\\base\\utilities.py -> python_build\\lib.win-amd64-cpython-38\\grpc\\framework\\interfaces\\base\n",
      "  copying src\\python\\grpcio\\grpc\\framework\\interfaces\\base\\__init__.py -> python_build\\lib.win-amd64-cpython-38\\grpc\\framework\\interfaces\\base\n",
      "  creating python_build\\lib.win-amd64-cpython-38\\grpc\\framework\\interfaces\\face\n",
      "  copying src\\python\\grpcio\\grpc\\framework\\interfaces\\face\\face.py -> python_build\\lib.win-amd64-cpython-38\\grpc\\framework\\interfaces\\face\n",
      "  copying src\\python\\grpcio\\grpc\\framework\\interfaces\\face\\utilities.py -> python_build\\lib.win-amd64-cpython-38\\grpc\\framework\\interfaces\\face\n",
      "  copying src\\python\\grpcio\\grpc\\framework\\interfaces\\face\\__init__.py -> python_build\\lib.win-amd64-cpython-38\\grpc\\framework\\interfaces\\face\n",
      "  creating python_build\\lib.win-amd64-cpython-38\\grpc\\_cython\\_cygrpc\n",
      "  copying src\\python\\grpcio\\grpc\\_cython\\_cygrpc\\__init__.py -> python_build\\lib.win-amd64-cpython-38\\grpc\\_cython\\_cygrpc\n",
      "  creating python_build\\lib.win-amd64-cpython-38\\grpc\\_cython\\_credentials\n",
      "  copying src\\python\\grpcio\\grpc\\_cython\\_credentials\\roots.pem -> python_build\\lib.win-amd64-cpython-38\\grpc\\_cython\\_credentials\n",
      "  running build_ext\n",
      "  error: [WinError 2] The system cannot find the file specified\n",
      "  [end of output]\n",
      "  \n",
      "  note: This error originates from a subprocess, and is likely not a problem with pip.\n",
      "  ERROR: Failed building wheel for grpcio\n",
      "  error: subprocess-exited-with-error\n",
      "  \n",
      "  Running setup.py install for grpcio did not run successfully.\n",
      "  exit code: 1\n",
      "  \n",
      "  [64 lines of output]\n",
      "  Found cython-generated files...\n",
      "  running install\n",
      "  C:\\Users\\Erlangga\\anaconda3\\envs\\tensorflow\\lib\\site-packages\\setuptools\\command\\install.py:34: SetuptoolsDeprecationWarning: setup.py install is deprecated. Use build and pip and other standards-based tools.\n",
      "    warnings.warn(\n",
      "  running build\n",
      "  running build_py\n",
      "  running build_project_metadata\n",
      "  creating python_build\n",
      "  creating python_build\\lib.win-amd64-cpython-38\n",
      "  creating python_build\\lib.win-amd64-cpython-38\\grpc\n",
      "  copying src\\python\\grpcio\\grpc\\_auth.py -> python_build\\lib.win-amd64-cpython-38\\grpc\n",
      "  copying src\\python\\grpcio\\grpc\\_channel.py -> python_build\\lib.win-amd64-cpython-38\\grpc\n",
      "  copying src\\python\\grpcio\\grpc\\_common.py -> python_build\\lib.win-amd64-cpython-38\\grpc\n",
      "  copying src\\python\\grpcio\\grpc\\_compression.py -> python_build\\lib.win-amd64-cpython-38\\grpc\n",
      "  copying src\\python\\grpcio\\grpc\\_grpcio_metadata.py -> python_build\\lib.win-amd64-cpython-38\\grpc\n",
      "  copying src\\python\\grpcio\\grpc\\_interceptor.py -> python_build\\lib.win-amd64-cpython-38\\grpc\n",
      "  copying src\\python\\grpcio\\grpc\\_plugin_wrapping.py -> python_build\\lib.win-amd64-cpython-38\\grpc\n",
      "  copying src\\python\\grpcio\\grpc\\_server.py -> python_build\\lib.win-amd64-cpython-38\\grpc\n",
      "  copying src\\python\\grpcio\\grpc\\_utilities.py -> python_build\\lib.win-amd64-cpython-38\\grpc\n",
      "  copying src\\python\\grpcio\\grpc\\__init__.py -> python_build\\lib.win-amd64-cpython-38\\grpc\n",
      "  creating python_build\\lib.win-amd64-cpython-38\\grpc\\beta\n",
      "  copying src\\python\\grpcio\\grpc\\beta\\implementations.py -> python_build\\lib.win-amd64-cpython-38\\grpc\\beta\n",
      "  copying src\\python\\grpcio\\grpc\\beta\\interfaces.py -> python_build\\lib.win-amd64-cpython-38\\grpc\\beta\n",
      "  copying src\\python\\grpcio\\grpc\\beta\\utilities.py -> python_build\\lib.win-amd64-cpython-38\\grpc\\beta\n",
      "  copying src\\python\\grpcio\\grpc\\beta\\_client_adaptations.py -> python_build\\lib.win-amd64-cpython-38\\grpc\\beta\n",
      "  copying src\\python\\grpcio\\grpc\\beta\\_metadata.py -> python_build\\lib.win-amd64-cpython-38\\grpc\\beta\n",
      "  copying src\\python\\grpcio\\grpc\\beta\\_server_adaptations.py -> python_build\\lib.win-amd64-cpython-38\\grpc\\beta\n",
      "  copying src\\python\\grpcio\\grpc\\beta\\__init__.py -> python_build\\lib.win-amd64-cpython-38\\grpc\\beta\n",
      "  creating python_build\\lib.win-amd64-cpython-38\\grpc\\experimental\n",
      "  copying src\\python\\grpcio\\grpc\\experimental\\gevent.py -> python_build\\lib.win-amd64-cpython-38\\grpc\\experimental\n",
      "  copying src\\python\\grpcio\\grpc\\experimental\\session_cache.py -> python_build\\lib.win-amd64-cpython-38\\grpc\\experimental\n",
      "  copying src\\python\\grpcio\\grpc\\experimental\\__init__.py -> python_build\\lib.win-amd64-cpython-38\\grpc\\experimental\n",
      "  creating python_build\\lib.win-amd64-cpython-38\\grpc\\framework\n",
      "  copying src\\python\\grpcio\\grpc\\framework\\__init__.py -> python_build\\lib.win-amd64-cpython-38\\grpc\\framework\n",
      "  creating python_build\\lib.win-amd64-cpython-38\\grpc\\_cython\n",
      "  copying src\\python\\grpcio\\grpc\\_cython\\__init__.py -> python_build\\lib.win-amd64-cpython-38\\grpc\\_cython\n",
      "  creating python_build\\lib.win-amd64-cpython-38\\grpc\\framework\\common\n",
      "  copying src\\python\\grpcio\\grpc\\framework\\common\\cardinality.py -> python_build\\lib.win-amd64-cpython-38\\grpc\\framework\\common\n",
      "  copying src\\python\\grpcio\\grpc\\framework\\common\\style.py -> python_build\\lib.win-amd64-cpython-38\\grpc\\framework\\common\n",
      "  copying src\\python\\grpcio\\grpc\\framework\\common\\__init__.py -> python_build\\lib.win-amd64-cpython-38\\grpc\\framework\\common\n",
      "  creating python_build\\lib.win-amd64-cpython-38\\grpc\\framework\\foundation\n",
      "  copying src\\python\\grpcio\\grpc\\framework\\foundation\\abandonment.py -> python_build\\lib.win-amd64-cpython-38\\grpc\\framework\\foundation\n",
      "  copying src\\python\\grpcio\\grpc\\framework\\foundation\\callable_util.py -> python_build\\lib.win-amd64-cpython-38\\grpc\\framework\\foundation\n",
      "  copying src\\python\\grpcio\\grpc\\framework\\foundation\\future.py -> python_build\\lib.win-amd64-cpython-38\\grpc\\framework\\foundation\n",
      "  copying src\\python\\grpcio\\grpc\\framework\\foundation\\logging_pool.py -> python_build\\lib.win-amd64-cpython-38\\grpc\\framework\\foundation\n",
      "  copying src\\python\\grpcio\\grpc\\framework\\foundation\\stream.py -> python_build\\lib.win-amd64-cpython-38\\grpc\\framework\\foundation\n",
      "  copying src\\python\\grpcio\\grpc\\framework\\foundation\\stream_util.py -> python_build\\lib.win-amd64-cpython-38\\grpc\\framework\\foundation\n",
      "  copying src\\python\\grpcio\\grpc\\framework\\foundation\\__init__.py -> python_build\\lib.win-amd64-cpython-38\\grpc\\framework\\foundation\n",
      "  creating python_build\\lib.win-amd64-cpython-38\\grpc\\framework\\interfaces\n",
      "  copying src\\python\\grpcio\\grpc\\framework\\interfaces\\__init__.py -> python_build\\lib.win-amd64-cpython-38\\grpc\\framework\\interfaces\n",
      "  creating python_build\\lib.win-amd64-cpython-38\\grpc\\framework\\interfaces\\base\n",
      "  copying src\\python\\grpcio\\grpc\\framework\\interfaces\\base\\base.py -> python_build\\lib.win-amd64-cpython-38\\grpc\\framework\\interfaces\\base\n",
      "  copying src\\python\\grpcio\\grpc\\framework\\interfaces\\base\\utilities.py -> python_build\\lib.win-amd64-cpython-38\\grpc\\framework\\interfaces\\base\n",
      "  copying src\\python\\grpcio\\grpc\\framework\\interfaces\\base\\__init__.py -> python_build\\lib.win-amd64-cpython-38\\grpc\\framework\\interfaces\\base\n",
      "  creating python_build\\lib.win-amd64-cpython-38\\grpc\\framework\\interfaces\\face\n",
      "  copying src\\python\\grpcio\\grpc\\framework\\interfaces\\face\\face.py -> python_build\\lib.win-amd64-cpython-38\\grpc\\framework\\interfaces\\face\n",
      "  copying src\\python\\grpcio\\grpc\\framework\\interfaces\\face\\utilities.py -> python_build\\lib.win-amd64-cpython-38\\grpc\\framework\\interfaces\\face\n",
      "  copying src\\python\\grpcio\\grpc\\framework\\interfaces\\face\\__init__.py -> python_build\\lib.win-amd64-cpython-38\\grpc\\framework\\interfaces\\face\n",
      "  creating python_build\\lib.win-amd64-cpython-38\\grpc\\_cython\\_cygrpc\n",
      "  copying src\\python\\grpcio\\grpc\\_cython\\_cygrpc\\__init__.py -> python_build\\lib.win-amd64-cpython-38\\grpc\\_cython\\_cygrpc\n",
      "  creating python_build\\lib.win-amd64-cpython-38\\grpc\\_cython\\_credentials\n",
      "  copying src\\python\\grpcio\\grpc\\_cython\\_credentials\\roots.pem -> python_build\\lib.win-amd64-cpython-38\\grpc\\_cython\\_credentials\n",
      "  running build_ext\n",
      "  error: [WinError 2] The system cannot find the file specified\n",
      "  [end of output]\n",
      "  \n",
      "  note: This error originates from a subprocess, and is likely not a problem with pip.\n",
      "error: legacy-install-failure\n",
      "\n",
      "Encountered error while trying to install package.\n",
      "\n",
      "grpcio\n",
      "\n",
      "note: This is an issue with the package mentioned above, not pip.\n",
      "hint: See above for output from the failure.\n"
     ]
    },
    {
     "name": "stdout",
     "output_type": "stream",
     "text": [
      "Requirement already satisfied: tensorflow==2.2.0 in c:\\users\\erlangga\\anaconda3\\envs\\tensorflow\\lib\\site-packages (2.2.0)\n",
      "Requirement already satisfied: keras-preprocessing>=1.1.0 in c:\\users\\erlangga\\anaconda3\\envs\\tensorflow\\lib\\site-packages (from tensorflow==2.2.0) (1.1.2)\n",
      "Requirement already satisfied: gast==0.3.3 in c:\\users\\erlangga\\anaconda3\\envs\\tensorflow\\lib\\site-packages (from tensorflow==2.2.0) (0.3.3)\n",
      "Requirement already satisfied: grpcio>=1.8.6 in c:\\users\\erlangga\\anaconda3\\envs\\tensorflow\\lib\\site-packages (from tensorflow==2.2.0) (1.42.0)\n",
      "Requirement already satisfied: scipy==1.4.1 in c:\\users\\erlangga\\anaconda3\\envs\\tensorflow\\lib\\site-packages (from tensorflow==2.2.0) (1.4.1)\n",
      "Requirement already satisfied: astunparse==1.6.3 in c:\\users\\erlangga\\anaconda3\\envs\\tensorflow\\lib\\site-packages (from tensorflow==2.2.0) (1.6.3)\n",
      "Requirement already satisfied: wrapt>=1.11.1 in c:\\users\\erlangga\\anaconda3\\envs\\tensorflow\\lib\\site-packages (from tensorflow==2.2.0) (1.14.1)\n",
      "Requirement already satisfied: tensorflow-estimator<2.3.0,>=2.2.0 in c:\\users\\erlangga\\anaconda3\\envs\\tensorflow\\lib\\site-packages (from tensorflow==2.2.0) (2.2.0)\n",
      "Requirement already satisfied: termcolor>=1.1.0 in c:\\users\\erlangga\\anaconda3\\envs\\tensorflow\\lib\\site-packages (from tensorflow==2.2.0) (2.1.0)\n",
      "Requirement already satisfied: tensorboard<2.3.0,>=2.2.0 in c:\\users\\erlangga\\anaconda3\\envs\\tensorflow\\lib\\site-packages (from tensorflow==2.2.0) (2.2.2)\n",
      "Requirement already satisfied: google-pasta>=0.1.8 in c:\\users\\erlangga\\anaconda3\\envs\\tensorflow\\lib\\site-packages (from tensorflow==2.2.0) (0.2.0)\n",
      "Requirement already satisfied: h5py<2.11.0,>=2.10.0 in c:\\users\\erlangga\\anaconda3\\envs\\tensorflow\\lib\\site-packages (from tensorflow==2.2.0) (2.10.0)\n",
      "Requirement already satisfied: wheel>=0.26 in c:\\users\\erlangga\\anaconda3\\envs\\tensorflow\\lib\\site-packages (from tensorflow==2.2.0) (0.37.1)\n",
      "Requirement already satisfied: absl-py>=0.7.0 in c:\\users\\erlangga\\anaconda3\\envs\\tensorflow\\lib\\site-packages (from tensorflow==2.2.0) (1.3.0)\n",
      "Requirement already satisfied: numpy<2.0,>=1.16.0 in c:\\users\\erlangga\\anaconda3\\envs\\tensorflow\\lib\\site-packages (from tensorflow==2.2.0) (1.21.4)\n",
      "Requirement already satisfied: six>=1.12.0 in c:\\users\\erlangga\\anaconda3\\envs\\tensorflow\\lib\\site-packages (from tensorflow==2.2.0) (1.16.0)\n",
      "Requirement already satisfied: opt-einsum>=2.3.2 in c:\\users\\erlangga\\anaconda3\\envs\\tensorflow\\lib\\site-packages (from tensorflow==2.2.0) (3.3.0)\n",
      "Requirement already satisfied: protobuf>=3.8.0 in c:\\users\\erlangga\\anaconda3\\envs\\tensorflow\\lib\\site-packages (from tensorflow==2.2.0) (3.20.1)\n",
      "Requirement already satisfied: markdown>=2.6.8 in c:\\users\\erlangga\\anaconda3\\envs\\tensorflow\\lib\\site-packages (from tensorboard<2.3.0,>=2.2.0->tensorflow==2.2.0) (3.3.4)\n",
      "Requirement already satisfied: requests<3,>=2.21.0 in c:\\users\\erlangga\\anaconda3\\envs\\tensorflow\\lib\\site-packages (from tensorboard<2.3.0,>=2.2.0->tensorflow==2.2.0) (2.28.1)\n",
      "Requirement already satisfied: setuptools>=41.0.0 in c:\\users\\erlangga\\anaconda3\\envs\\tensorflow\\lib\\site-packages (from tensorboard<2.3.0,>=2.2.0->tensorflow==2.2.0) (65.5.0)\n",
      "Requirement already satisfied: tensorboard-plugin-wit>=1.6.0 in c:\\users\\erlangga\\anaconda3\\envs\\tensorflow\\lib\\site-packages (from tensorboard<2.3.0,>=2.2.0->tensorflow==2.2.0) (1.8.1)\n",
      "Requirement already satisfied: werkzeug>=0.11.15 in c:\\users\\erlangga\\anaconda3\\envs\\tensorflow\\lib\\site-packages (from tensorboard<2.3.0,>=2.2.0->tensorflow==2.2.0) (2.0.3)\n",
      "Requirement already satisfied: google-auth<2,>=1.6.3 in c:\\users\\erlangga\\anaconda3\\envs\\tensorflow\\lib\\site-packages (from tensorboard<2.3.0,>=2.2.0->tensorflow==2.2.0) (1.35.0)\n",
      "Requirement already satisfied: google-auth-oauthlib<0.5,>=0.4.1 in c:\\users\\erlangga\\anaconda3\\envs\\tensorflow\\lib\\site-packages (from tensorboard<2.3.0,>=2.2.0->tensorflow==2.2.0) (0.4.4)\n",
      "Requirement already satisfied: pyasn1-modules>=0.2.1 in c:\\users\\erlangga\\anaconda3\\envs\\tensorflow\\lib\\site-packages (from google-auth<2,>=1.6.3->tensorboard<2.3.0,>=2.2.0->tensorflow==2.2.0) (0.2.8)\n",
      "Requirement already satisfied: cachetools<5.0,>=2.0.0 in c:\\users\\erlangga\\anaconda3\\envs\\tensorflow\\lib\\site-packages (from google-auth<2,>=1.6.3->tensorboard<2.3.0,>=2.2.0->tensorflow==2.2.0) (4.2.2)\n",
      "Requirement already satisfied: rsa<5,>=3.1.4 in c:\\users\\erlangga\\anaconda3\\envs\\tensorflow\\lib\\site-packages (from google-auth<2,>=1.6.3->tensorboard<2.3.0,>=2.2.0->tensorflow==2.2.0) (4.7.2)\n",
      "Requirement already satisfied: requests-oauthlib>=0.7.0 in c:\\users\\erlangga\\anaconda3\\envs\\tensorflow\\lib\\site-packages (from google-auth-oauthlib<0.5,>=0.4.1->tensorboard<2.3.0,>=2.2.0->tensorflow==2.2.0) (1.3.0)\n",
      "Requirement already satisfied: certifi>=2017.4.17 in c:\\users\\erlangga\\anaconda3\\envs\\tensorflow\\lib\\site-packages (from requests<3,>=2.21.0->tensorboard<2.3.0,>=2.2.0->tensorflow==2.2.0) (2022.9.24)\n",
      "Requirement already satisfied: idna<4,>=2.5 in c:\\users\\erlangga\\anaconda3\\envs\\tensorflow\\lib\\site-packages (from requests<3,>=2.21.0->tensorboard<2.3.0,>=2.2.0->tensorflow==2.2.0) (3.4)\n",
      "Requirement already satisfied: urllib3<1.27,>=1.21.1 in c:\\users\\erlangga\\anaconda3\\envs\\tensorflow\\lib\\site-packages (from requests<3,>=2.21.0->tensorboard<2.3.0,>=2.2.0->tensorflow==2.2.0) (1.26.13)\n",
      "Requirement already satisfied: charset-normalizer<3,>=2 in c:\\users\\erlangga\\anaconda3\\envs\\tensorflow\\lib\\site-packages (from requests<3,>=2.21.0->tensorboard<2.3.0,>=2.2.0->tensorflow==2.2.0) (2.0.4)\n",
      "Requirement already satisfied: pyasn1<0.5.0,>=0.4.6 in c:\\users\\erlangga\\anaconda3\\envs\\tensorflow\\lib\\site-packages (from pyasn1-modules>=0.2.1->google-auth<2,>=1.6.3->tensorboard<2.3.0,>=2.2.0->tensorflow==2.2.0) (0.4.8)\n",
      "Requirement already satisfied: oauthlib>=3.0.0 in c:\\users\\erlangga\\anaconda3\\envs\\tensorflow\\lib\\site-packages (from requests-oauthlib>=0.7.0->google-auth-oauthlib<0.5,>=0.4.1->tensorboard<2.3.0,>=2.2.0->tensorflow==2.2.0) (3.2.1)\n",
      "Collecting pillow==8.1.0\n",
      "  Downloading Pillow-8.1.0-cp38-cp38-win_amd64.whl (2.2 MB)\n",
      "     ---------------------------------------- 2.2/2.2 MB 2.8 MB/s eta 0:00:00\n",
      "Installing collected packages: pillow\n",
      "  Attempting uninstall: pillow\n",
      "    Found existing installation: Pillow 9.4.0\n",
      "    Uninstalling Pillow-9.4.0:\n",
      "      Successfully uninstalled Pillow-9.4.0\n",
      "Successfully installed pillow-8.1.0\n"
     ]
    }
   ],
   "source": [
    "!pip install grpcio==1.24.3\n",
    "!pip install tensorflow==2.2.0\n",
    "!pip install pillow==8.1.0"
   ]
  },
  {
   "cell_type": "markdown",
   "id": "9016fbe0-d742-4f10-9c23-43f77e1c7517",
   "metadata": {},
   "source": [
    "<b>Notice:</b> This notebook has been created with TensorFlow version 2.2, and might not work with other versions. Therefore we check:\n"
   ]
  },
  {
   "cell_type": "code",
   "execution_count": 3,
   "id": "10e5f505-f9ee-41df-90b7-7efaf6e8f61a",
   "metadata": {},
   "outputs": [],
   "source": [
    "import tensorflow as tf\n",
    "from IPython.display import Markdown, display\n",
    "\n",
    "def printmd(string):\n",
    "    display(Markdown('# <span style=\"color:red\">'+string+'</span>'))\n",
    "\n",
    "\n",
    "if not tf.__version__ == '2.2.0':\n",
    "    printmd('<<<<<!!!!! ERROR !!!! please upgrade to TensorFlow 2.2.0, or restart your Kernel (Kernel->Restart & Clear Output)>>>>>')"
   ]
  },
  {
   "cell_type": "markdown",
   "id": "80a06060-cb46-4965-87f9-d03106107871",
   "metadata": {},
   "source": [
    "Now, we load in all the packages that we use to create the net including the TensorFlow package:\n"
   ]
  },
  {
   "cell_type": "code",
   "execution_count": 4,
   "id": "19962063-e4c2-4b62-83fa-3d3cd5f449fb",
   "metadata": {},
   "outputs": [],
   "source": [
    "import tensorflow as tf\n",
    "import numpy as np\n",
    "\n",
    "from PIL import Image\n",
    "from utils import tile_raster_images\n",
    "import matplotlib.pyplot as plt\n",
    "%matplotlib inline"
   ]
  },
  {
   "cell_type": "markdown",
   "id": "ddfd20cd-beb3-4ac0-820d-9df8f626a1df",
   "metadata": {},
   "source": [
    "<hr>\n"
   ]
  },
  {
   "cell_type": "markdown",
   "id": "88e6b035-b921-4c5b-8c23-325319d8662c",
   "metadata": {},
   "source": [
    "<a id=\"ref2\"></a>\n",
    "<h3>RBM layers</h3>\n",
    "\n",
    "An RBM has two layers. The first layer of the RBM is called the <b>visible</b> (or input layer). Imagine that our toy example, has only vectors with 7 values, so the visible layer must have $V=7$ input nodes. \n",
    "The second layer is the <b>hidden</b> layer, which has $H$ neurons in our case. Each hidden node takes on values of either 0 or 1 (i.e., $h_i = 1$ or $h_i$ = 0), with a probability that is a logistic function of the inputs it receives from the other $V$ visible units, called for example, $p(h_i = 1)$. For our toy sample, we'll use 2 nodes in the hidden layer, so $H = 2$.\n",
    "\n",
    "<center><img src=\"https://ibm.box.com/shared/static/eu26opvcefgls6vnwuo29uwp0nudmokh.png\" alt=\"RBM Model\" style=\"width: 400px;\"></center>\n"
   ]
  },
  {
   "cell_type": "markdown",
   "id": "3e38f93a-a951-44ee-9116-695fd738cbc1",
   "metadata": {},
   "source": [
    "     \n",
    "\n",
    "Each node in the first layer also has a <b>bias</b>. We will denote the bias as $v_{bias}$, and this single value is shared among the $V$ visible units.\n",
    "\n",
    "The <b>bias</b> of the second is defined similarly as $h_{bias}$, and this single value among the $H$ hidden units.\n"
   ]
  },
  {
   "cell_type": "code",
   "execution_count": 5,
   "id": "f52776ea-2dce-4183-904a-149c92e563a5",
   "metadata": {},
   "outputs": [],
   "source": [
    "v_bias = tf.Variable(tf.zeros([7]), tf.float32)\n",
    "h_bias = tf.Variable(tf.zeros([2]), tf.float32)"
   ]
  },
  {
   "cell_type": "markdown",
   "id": "529f55e7-d096-4602-b58f-b1f32110fd08",
   "metadata": {},
   "source": [
    "We have to define weights among the input layer and hidden layer nodes. In the weight matrix, the number of rows are equal to the input nodes, and the number of columns are equal to the output nodes. We define a tensor $\\mathbf{W}$ of shape = (7,2), where the number of visible neurons = 7, and the number of hidden neurons = 2. \n"
   ]
  },
  {
   "cell_type": "code",
   "execution_count": 6,
   "id": "672b23eb-362f-4400-bdd0-00f40352d4b4",
   "metadata": {},
   "outputs": [],
   "source": [
    "W = tf.constant(np.random.normal(loc=0.0, scale=1.0, size=(7, 2)).astype(np.float32))"
   ]
  },
  {
   "cell_type": "markdown",
   "id": "75bc4ef6-b509-4769-aab8-c254ffa7db2e",
   "metadata": {},
   "source": [
    "<hr>\n"
   ]
  },
  {
   "cell_type": "markdown",
   "id": "92e94464-b583-4b07-b2b5-c620c5b740fb",
   "metadata": {},
   "source": [
    "<a id=\"ref3\"></a>\n",
    "<h3>What RBM can do after training?</h3>\n",
    "Think of RBM as a model that has been trained based on images of a dataset of many SUV and sedan cars. Also, imagine that the RBM network has only two hidden nodes, where one node encodes the weight and, and the other encodes the size.  \n",
    "In a sense, the different configurations represent different cars, where one is an SUV and the other is Sedan.  In a training process, through many forward and backward passes, the RBM adjust its weights to send a stronger signal to either the SUV node (0, 1) or the sedan node (1, 0) in the hidden layer, given the pixels of images. Now, given an SUV in hidden layer, which distribution of pixels should we expect? RBM can give you 2 things. First, it encodes your images in hidden layer. Second, it gives you the probability of observing a case, given some hidden values.\n",
    "\n",
    "\n",
    "<h3>The Inference Process</h3>\n",
    "\n",
    "RBM has two phases:\n",
    "<ul>\n",
    "    <li>Forward Pass</li>  \n",
    "    <li>Backward Pass or Reconstruction</li>\n",
    "</ul>\n",
    "\n",
    "<b>Phase 1) Forward pass:</b>  \n",
    "\n",
    "Input one training sample (one image) $\\mathbf{x}$ through all visible nodes, and pass it to all hidden nodes. Processing happens in each node in the hidden layer. This computation begins by making stochastic decisions about whether to transmit that input or not (i.e. to determine the state of each hidden layer).  First, the probability vector is computed using the input feature vector $\\mathbf{x}$, the weight matrix $\\mathbf{W}$, and the bias term $h_{bias}$, as \n",
    "\n",
    "\n",
    "$$p({h_j}|\\mathbf x)= \\sigma( \\sum_{i=1}^V W_{ij} x_i + h_{bias} )$$, \n",
    "\n",
    "where $\\sigma(z) = (1+e^{-z})^{-1}$ is the logistic function.\n",
    "\n",
    "\n",
    "So, what does $p({h_j})$ represent? It is the <b>probability distribution</b> of the hidden units. That is, RBM uses inputs $x_i$ to make predictions about hidden node activations. For example, imagine that the hidden node activation values are [0.51 0.84] for the first training item. It tells you that the conditional probability for each hidden neuron for Phase 1 is: \n",
    "\n",
    "$$p(h_{1} = 1|\\mathbf{v}) = 0.51$$\n",
    "$$p(h_{2} = 1|\\mathbf{v}) = 0.84$$\n",
    "\n",
    "As a result, for each row in the training set, vector of probabilities is generated.  In TensorFlow, this is referred to as a `tensor` with a shape of (1,2). \n",
    "\n",
    "We then turn unit $j$ with probability $p(h_{j}|\\mathbf{v})$, and turn it off with probability $1 - p(h_{j}|\\mathbf{v})$ by generating a uniform random number vector $\\mathbf{\\xi}$, and comparing it to the activation probability as \n",
    "\n",
    "<center>If $\\xi_j>p(h_{j}|\\mathbf{v})$, then $h_j=1$, else $h_j=0$.</center>\n",
    "\n",
    "\n",
    "Therefore, the conditional probability of a configuration of $\\mathbf{h}$ given $\\mathbf{v}$ (for a training sample) is:\n",
    "\n",
    "$$p(\\mathbf{h} \\mid \\mathbf{v}) = \\prod_{j=1}^H p(h_j \\mid \\mathbf{v})$$\n",
    "\n",
    "\n",
    "where $H$ is the number of hidden units.\n",
    "\n"
   ]
  },
  {
   "cell_type": "markdown",
   "id": "500551e7-41d7-454a-9038-da94818a745a",
   "metadata": {},
   "source": [
    "Before we go further, let's look at a toy example for one case out of all input. Assume that we have a trained RBM, and a very simple input vector, such as [1.0, 0.0, 0.0, 1.0, 0.0, 0.0, 0.0].   \n",
    "Let's see what the output of forward pass would look like:\n"
   ]
  },
  {
   "cell_type": "code",
   "execution_count": 7,
   "id": "e8bff607-8a09-42b8-b070-026199f3a57b",
   "metadata": {},
   "outputs": [
    {
     "name": "stdout",
     "output_type": "stream",
     "text": [
      "Input:  tf.Tensor([[1. 0. 0. 1. 0. 0. 0.]], shape=(1, 7), dtype=float32)\n",
      "hb:  tf.Tensor([0.1 0.1], shape=(2,), dtype=float32)\n",
      "w:  tf.Tensor(\n",
      "[[-0.12147844  0.13859902]\n",
      " [ 0.80185145 -1.2803805 ]\n",
      " [ 0.13534191  0.40473035]\n",
      " [-1.0941788   0.08504733]\n",
      " [ 0.33671683  0.47056365]\n",
      " [ 1.1626912  -0.11862793]\n",
      " [ 0.97294986  0.21521078]], shape=(7, 2), dtype=float32)\n",
      "p(h|v):  tf.Tensor([[0.24681772 0.58021265]], shape=(1, 2), dtype=float32)\n",
      "h0 states: tf.Tensor([[0. 0.]], shape=(1, 2), dtype=float32)\n"
     ]
    }
   ],
   "source": [
    "X = tf.constant([[1.0, 0.0, 0.0, 1.0, 0.0, 0.0, 0.0]], tf.float32)\n",
    "\n",
    "v_state = X\n",
    "print (\"Input: \", v_state)\n",
    "\n",
    "h_bias = tf.constant([0.1, 0.1])\n",
    "print (\"hb: \", h_bias)\n",
    "print (\"w: \", W)\n",
    "\n",
    "# Calculate the probabilities of turning the hidden units on:\n",
    "h_prob = tf.nn.sigmoid(tf.matmul(v_state, W) + h_bias)  #probabilities of the hidden units\n",
    "print (\"p(h|v): \", h_prob)\n",
    "\n",
    "# Draw samples from the distribution:\n",
    "h_state = tf.nn.relu(tf.sign(h_prob - tf.random.uniform(tf.shape(h_prob)))) #states\n",
    "print (\"h0 states:\", h_state)"
   ]
  },
  {
   "cell_type": "markdown",
   "id": "8833c826-45d1-4b21-8f32-1f46a13c678e",
   "metadata": {},
   "source": [
    "<b>Phase 2) Backward Pass (Reconstruction):</b>\n",
    "The RBM reconstructs data by making several forward and backward passes between the visible and hidden layers.\n",
    "\n",
    "So, in the second phase (i.e. reconstruction phase), the samples from the hidden layer (i.e. $\\mathbf h$) becomes the input in the backward pass. The same weight matrix and visible layer biases are used to passed to the sigmoid function. The reproduced output is a reconstruction which is an approximation of the original input.\n"
   ]
  },
  {
   "cell_type": "code",
   "execution_count": 8,
   "id": "f45d72f1-c5de-4791-ad54-7650070f85e2",
   "metadata": {},
   "outputs": [
    {
     "name": "stdout",
     "output_type": "stream",
     "text": [
      "b:  tf.Tensor([0.1 0.2 0.1 0.1 0.1 0.2 0.1], shape=(7,), dtype=float32)\n",
      "p(vi∣h):  tf.Tensor(\n",
      "[[0.5249792  0.54983395 0.5249792  0.5249792  0.5249792  0.54983395\n",
      "  0.5249792 ]], shape=(1, 7), dtype=float32)\n",
      "v probability states:  tf.Tensor([[0. 0. 1. 0. 0. 1. 0.]], shape=(1, 7), dtype=float32)\n"
     ]
    }
   ],
   "source": [
    "vb = tf.constant([0.1, 0.2, 0.1, 0.1, 0.1, 0.2, 0.1])\n",
    "print (\"b: \", vb)\n",
    "v_prob = tf.nn.sigmoid(tf.matmul(h_state, tf.transpose(W)) + vb)\n",
    "print (\"p(vi∣h): \", v_prob)\n",
    "v_state = tf.nn.relu(tf.sign(v_prob - tf.random.uniform(tf.shape(v_prob))))\n",
    "print (\"v probability states: \", v_state)"
   ]
  },
  {
   "cell_type": "markdown",
   "id": "fcff2cf0-6fab-4fc7-a5cf-55f7d6e7fdfe",
   "metadata": {},
   "source": [
    "RBM learns a probability distribution over the input, and then, after being trained, the RBM can generate new samples from the learned probability distribution. As you know, <b>probability distribution</b>, is a mathematical function that provides the probabilities of occurrence of different possible outcomes in an experiment.\n",
    "\n",
    "The (conditional) probability distribution over the visible units v is given by\n",
    "\n",
    "$$p(\\mathbf{v} \\mid \\mathbf{h}) = \\prod_{i=1}^V p(v_i \\mid \\mathbf{h}),$$\n",
    "\n",
    "\n",
    "where,\n",
    "\n",
    "$$p(v_i \\mid \\mathbf{h}) = \\sigma\\left(\\sum_{j=1}^H W_{ji} h_j + v_{bias} \\right)$$\n",
    "\n",
    "so, given current state of hidden units and weights, what is the probability of generating [1. 0. 0. 1. 0. 0. 0.] in reconstruction phase, based on the above <b>probability distribution</b> function?\n"
   ]
  },
  {
   "cell_type": "code",
   "execution_count": 9,
   "id": "34ff40ed-3666-488a-8fae-56328ca18590",
   "metadata": {},
   "outputs": [
    {
     "name": "stdout",
     "output_type": "stream",
     "text": [
      "input X: [[1. 0. 0. 1. 0. 0. 0.]]\n",
      "probablity vector: [0.5249792  0.54983395 0.5249792  0.5249792  0.5249792  0.54983395\n",
      " 0.5249792 ]\n",
      "probability of generating X:  0.0059864256\n"
     ]
    }
   ],
   "source": [
    "inp = X\n",
    "print(\"input X:\" , inp.numpy())\n",
    "\n",
    "print(\"probablity vector:\" , v_prob[0].numpy())\n",
    "v_probability = 1\n",
    "\n",
    "for elm, p in zip(inp[0],v_prob[0]) :\n",
    "    if elm ==1:\n",
    "        v_probability *= p\n",
    "    else:\n",
    "        v_probability *= (1-p)\n",
    "\n",
    "print(\"probability of generating X: \" , v_probability.numpy())"
   ]
  },
  {
   "cell_type": "markdown",
   "id": "0e12dc71-309e-49c7-878c-65942b96e57f",
   "metadata": {},
   "source": [
    "How similar are vectors $\\mathbf{x}$ and $\\mathbf{v}$? Of course, the reconstructed values most likely will not look anything like the input vector, because our network has not been trained yet. Our objective is to train the model in such a way that the input vector and reconstructed vector to be same. Therefore, based on how different the input values look to the ones that we just reconstructed, the weights are adjusted. \n"
   ]
  },
  {
   "cell_type": "markdown",
   "id": "799dc8f5-c77b-4167-a433-e97c77533772",
   "metadata": {},
   "source": [
    "<hr>\n"
   ]
  },
  {
   "cell_type": "markdown",
   "id": "f2437d23-4dd3-4afa-945e-d3147f5d14e3",
   "metadata": {},
   "source": [
    "\n",
    "<h2>MNIST</h2>\n"
   ]
  },
  {
   "cell_type": "markdown",
   "id": "15b2be65-ab17-4a78-ac29-8b161b1f4fd2",
   "metadata": {},
   "source": [
    "We will be using the MNIST dataset to practice the usage of RBMs. The following cell loads the MNIST dataset.\n"
   ]
  },
  {
   "cell_type": "code",
   "execution_count": 10,
   "id": "6961801e-2dfe-4d97-a73b-532ed8f1db24",
   "metadata": {},
   "outputs": [],
   "source": [
    "#loading training and test data\n",
    "mnist = tf.keras.datasets.mnist\n",
    "(trX, trY), (teX, teY) = mnist.load_data()\n",
    "\n",
    "# showing an example of the Flatten class and operation\n",
    "from tensorflow.keras.layers import Flatten\n",
    "flatten = Flatten(dtype='float32')\n",
    "trX = flatten(trX/255.0)\n",
    "trY = flatten(trY/255.0)"
   ]
  },
  {
   "cell_type": "markdown",
   "id": "fccfd8c3-5754-4b04-9f29-19a9d312b4a5",
   "metadata": {},
   "source": [
    "Lets look at the dimension of the images.\n"
   ]
  },
  {
   "cell_type": "markdown",
   "id": "209e51b7-03cc-4eed-bbd4-1fbcf4df48cb",
   "metadata": {},
   "source": [
    "MNIST images have 784 pixels, so the visible layer must have 784 input nodes.  For our case, we'll use 50 nodes in the hidden layer, so i = 50.\n"
   ]
  },
  {
   "cell_type": "code",
   "execution_count": 11,
   "id": "4dfe0887-deda-4a9a-bb42-84dbb4e1c4b9",
   "metadata": {},
   "outputs": [],
   "source": [
    "vb = tf.Variable(tf.zeros([784]), tf.float32)\n",
    "hb = tf.Variable(tf.zeros([50]), tf.float32)"
   ]
  },
  {
   "cell_type": "markdown",
   "id": "e4c4ce3c-9f73-4f77-9d48-36c105b75a29",
   "metadata": {},
   "source": [
    "Let $\\mathbf W$ be the Tensor of 784x50 (784 - number of visible neurons, 50 - number of hidden neurons) that represents weights between the neurons. \n"
   ]
  },
  {
   "cell_type": "code",
   "execution_count": 12,
   "id": "0b344068-8e88-489c-82fe-d7c377dc8e75",
   "metadata": {},
   "outputs": [],
   "source": [
    "W = tf.Variable(tf.zeros([784,50]), tf.float32)"
   ]
  },
  {
   "cell_type": "markdown",
   "id": "75e582c7-7f02-46cc-b07e-97850fae26a5",
   "metadata": {},
   "source": [
    "Lets define the visible layer:\n"
   ]
  },
  {
   "cell_type": "code",
   "execution_count": 13,
   "id": "901b27e3-7354-4169-adf5-a47962a4822d",
   "metadata": {},
   "outputs": [
    {
     "data": {
      "text/plain": [
       "<tf.Tensor: shape=(1, 50), dtype=float32, numpy=\n",
       "array([[0., 0., 0., 0., 0., 0., 0., 0., 0., 0., 0., 0., 0., 0., 0., 0.,\n",
       "        0., 0., 0., 0., 0., 0., 0., 0., 0., 0., 0., 0., 0., 0., 0., 0.,\n",
       "        0., 0., 0., 0., 0., 0., 0., 0., 0., 0., 0., 0., 0., 0., 0., 0.,\n",
       "        0., 0.]], dtype=float32)>"
      ]
     },
     "execution_count": 13,
     "metadata": {},
     "output_type": "execute_result"
    }
   ],
   "source": [
    "v0_state = tf.Variable(tf.zeros([784]), tf.float32)\n",
    "\n",
    "#testing to see if the matrix product works\n",
    "tf.matmul( [v0_state], W)"
   ]
  },
  {
   "cell_type": "markdown",
   "id": "399fc661-b744-40dc-a69e-a1414af26133",
   "metadata": {},
   "source": [
    "Now, we can define hidden layer:\n"
   ]
  },
  {
   "cell_type": "code",
   "execution_count": 14,
   "id": "56ed0f5f-3ddd-40c2-ae50-0de4643eec94",
   "metadata": {},
   "outputs": [
    {
     "name": "stdout",
     "output_type": "stream",
     "text": [
      "h0_state shape:  tf.Tensor([ 1 50], shape=(2,), dtype=int32)\n",
      "first 15 hidden states:  tf.Tensor([1. 1. 0. 1. 0. 0. 1. 0. 0. 0. 1. 1. 1. 0. 0.], shape=(15,), dtype=float32)\n"
     ]
    }
   ],
   "source": [
    "#computing the hidden nodes probability vector and checking shape\n",
    "h0_prob = tf.nn.sigmoid(tf.matmul([v0_state], W) + hb)  #probabilities of the hidden units\n",
    "print(\"h0_state shape: \" , tf.shape(h0_prob))\n",
    "\n",
    "#defining a function to return only the generated hidden states \n",
    "def hidden_layer(v0_state, W, hb):\n",
    "    h0_prob = tf.nn.sigmoid(tf.matmul([v0_state], W) + hb)  #probabilities of the hidden units\n",
    "    h0_state = tf.nn.relu(tf.sign(h0_prob - tf.random.uniform(tf.shape(h0_prob)))) #sample_h_given_X\n",
    "    return h0_state\n",
    "\n",
    "\n",
    "h0_state = hidden_layer(v0_state, W, hb)\n",
    "print(\"first 15 hidden states: \", h0_state[0][0:15])"
   ]
  },
  {
   "cell_type": "markdown",
   "id": "9da341a7-0ac4-46fc-b667-f1fe038e8ee8",
   "metadata": {},
   "source": [
    "Now, we define reconstruction part:\n"
   ]
  },
  {
   "cell_type": "code",
   "execution_count": 15,
   "id": "61f7a00c-e5bc-4006-8241-d31782d40877",
   "metadata": {},
   "outputs": [
    {
     "name": "stdout",
     "output_type": "stream",
     "text": [
      "hidden state shape:  (1, 50)\n",
      "v0 state shape:   (784,)\n",
      "v1 state shape:   (784,)\n"
     ]
    }
   ],
   "source": [
    "def reconstructed_output(h0_state, W, vb):\n",
    "    v1_prob = tf.nn.sigmoid(tf.matmul(h0_state, tf.transpose(W)) + vb) \n",
    "    v1_state = tf.nn.relu(tf.sign(v1_prob - tf.random.uniform(tf.shape(v1_prob)))) #sample_v_given_h\n",
    "    return v1_state[0]\n",
    "\n",
    "v1_state = reconstructed_output(h0_state, W, vb)\n",
    "print(\"hidden state shape: \", h0_state.shape)\n",
    "print(\"v0 state shape:  \", v0_state.shape)\n",
    "print(\"v1 state shape:  \", v1_state.shape)"
   ]
  },
  {
   "cell_type": "markdown",
   "id": "dec54ffd-0a3e-4087-970c-ab48b9fcb6ac",
   "metadata": {},
   "source": [
    "<h3>What is the objective function?</h3>\n",
    "\n",
    "<b>Goal</b>: Maximize the likelihood of our data being drawn from that distribution\n",
    "\n",
    "<b>Calculate error:</b>  \n",
    "In each epoch, we compute the \"error\" as a sum of the squared difference between step 1 and step n,\n",
    "e.g the error shows the difference between the data and its reconstruction.\n",
    "\n",
    "<b>Note:</b> tf.reduce_mean computes the mean of elements across dimensions of a tensor.\n"
   ]
  },
  {
   "cell_type": "code",
   "execution_count": 16,
   "id": "388bdb81-8794-49e3-b5f6-8b5dfeb33741",
   "metadata": {},
   "outputs": [
    {
     "name": "stdout",
     "output_type": "stream",
     "text": [
      "error 0.50510204\n"
     ]
    }
   ],
   "source": [
    "def error(v0_state, v1_state):\n",
    "    return tf.reduce_mean(tf.square(v0_state - v1_state))\n",
    "\n",
    "err = tf.reduce_mean(tf.square(v0_state - v1_state))\n",
    "print(\"error\" , err.numpy())"
   ]
  },
  {
   "cell_type": "markdown",
   "id": "ec8ff37e-485c-40b5-ad39-426eea1b7b2f",
   "metadata": {},
   "source": [
    "<a id=\"ref4\"></a>\n",
    "<h3>Training the Model</h3>\n",
    "<b>Warning...</b> The following part is math-heavy, but you can skip it if you just want to run the cells in the next section.\n",
    "\n",
    "As mentioned, we want to give a high probability to the input data we train on. So, in order to train an RBM, we have to maximize the product of probabilities assigned to all rows $\\mathbf{v}$ (images) in the training set $\\mathbf{V}$ (a matrix, where each row of it is treated as a visible vector $\\mathbf{v}$)\n",
    "\n",
    "$$\\arg \\max_W \\prod_{\\mathbf{v}\\in\\mathbf{V}_T} p(\\mathbf{v})$$\n",
    "\n",
    "\n",
    "which is equivalent to maximizing the expectation of the log probability, given as\n",
    "\n",
    "$$\\arg\\max_W\\left[ \\mathbb{E} \\left(\\prod_{\\mathbf v\\in \\mathbf V}\\text{log} \\left(p(\\mathbf v)\\right) \\right) \\right].$$\n",
    "\n",
    "\n",
    "So, we have to update the weights $W_{ij}$  to increase $p(\\mathbf{v})$ for all $\\mathbf{v}$ in our training data during training. So we have to calculate the derivative:\n",
    "\n",
    "\n",
    "$$\\frac{\\partial \\log p(\\mathbf v)}{\\partial W_{ij}}$$\n",
    "\n",
    "This cannot be easily done by typical <b>gradient descent (SGD)</b>, so we can use another approach, which has 2 steps:\n",
    "<ol>\n",
    "    <li>Gibbs Sampling</li>\n",
    "    <li>Contrastive Divergence</li>\n",
    "</ol>    \n",
    "    \n",
    "<h3>Gibbs Sampling</h3>   \n",
    "\n",
    "<h4>Gibbs Sampling Step 1</h4> \n",
    "Given an input vector $\\mathbf{v}$, we are using $p(\\mathbf{h}|\\mathbf{v})$ to predict the hidden values $\\mathbf{h}$. \n",
    "  $$p({h_j}|\\mathbf v)= \\sigma\\left(\\sum_{i=1}^V W_{ij} v_i + h_{bias} \\right)$$\n",
    "The samples are generated from this distribution by generating the uniform random variate vector $\\mathbf{\\xi} \\sim U[0,1]$ of length $H$ and comparing to the computed probabilities as\n",
    "\n",
    "\n",
    "<center>If $\\xi_j>p(h_{j}|\\mathbf{v})$, then $h_j=1$, else $h_j=0$.</center>\n",
    "\n",
    "\n",
    "<h4>Gibbs Sampling Step 2</h4> \n",
    "Then, knowing the hidden values, we use $p(\\mathbf v| \\mathbf h)$ for reconstructing of new input values v. \n",
    "\n",
    "   $$p({v_i}|\\mathbf h)= \\sigma\\left(\\sum_{j=1}^H W^{T}_{ij} h_j + v_{bias} \\right)$$\n",
    "\n",
    "\n",
    "The samples are generated from this distribution by generating a uniform random variate vector $\\mathbf{\\xi} \\sim U[0,1]$ of length $V$ and comparing to the computed probabilities as\n",
    "\n",
    "<center>If $\\xi_i>p(v_{i}|\\mathbf{h})$, then $v_i=1$, else $v_i=0$.</center>\n",
    "\n",
    "Let vectors $\\mathbf v_k$ and $\\mathbf h_k$ be for the $k$th iteration.  In general, the $kth$ state is generrated as: \n",
    "\n",
    "\n",
    "    \n",
    "<b>Iteration</b> $k$: \n",
    "\n",
    "$$\\mathbf v_{k-1} \\Rightarrow p(\\mathbf h_{k-1}|\\mathbf v_{k-1})\\Rightarrow \\mathbf h_{k-1}\\Rightarrow p(\\mathbf v_{k}|\\mathbf h_{k-1})\\Rightarrow \\mathbf v_k$$       \n",
    "    \n",
    "<h3>Contrastive Divergence (CD-k)</h3>\n",
    "The update of the weight matrix is done during the Contrastive Divergence step. \n",
    "\n",
    "Vectors v0 and vk are used to calculate the activation probabilities for hidden values h0 and hk. The difference between the outer products of those probabilities with input vectors v0 and vk results in the update matrix:\n",
    "\n",
    "\n",
    "$$\\Delta \\mathbf W_k =\\mathbf v_k \\otimes \\mathbf h_k - \\mathbf v_{k-1} \\otimes \\mathbf h_{k-1}$$\n",
    "\n",
    "Contrastive Divergence is actually matrix of values that is computed and used to adjust values of the $\\mathbf W$ matrix. Changing $\\mathbf W$ incrementally leads to training of the  $\\mathbf W$ values. Then, on each step (epoch), $\\mathbf W$ is updated using the following:\n",
    "\n",
    "$$\\mathbf W_k = \\mathbf W_{k-1} + \\alpha * \\Delta \\mathbf W_k$$\n",
    "\n",
    "\n",
    "\n",
    "Reconstruction steps:\n",
    "<ul>\n",
    "    <li> Get one data point from data set, like <i>x</i>, and pass it through the following steps:</li>\n",
    "    \n",
    "<b>Iteration</b> $k=1$: \n",
    "    \n",
    "Sampling (starting with input image)\n",
    "    $$\\mathbf x = \\mathbf v_0 \\Rightarrow p(\\mathbf h_0|\\mathbf v_0)\\Rightarrow \\mathbf h_0 \\Rightarrow p(\\mathbf v_1|\\mathbf h_0)\\Rightarrow \\mathbf v_1$$   \n",
    "    followed by the CD-k step\n",
    "$$\\Delta \\mathbf W_1 =\\mathbf v_1 \\otimes \\mathbf h_1 - \\mathbf v_{0} \\otimes \\mathbf h_{0}$$     \n",
    "$$\\mathbf W_1 = \\mathbf W_{0} + \\alpha * \\Delta \\mathbf W_1$$ \n",
    " \n",
    "<li> $\\mathbf v_1$ is the reconstruction of $\\mathbf x$ sent to the next iteration).</li>\n",
    "\n",
    "<b>Iteration</b> $k=2$: \n",
    "\n",
    "Sampling (starting with $\\mathbf v_1$)\n",
    "\n",
    "$$\\mathbf v_1 \\Rightarrow p(\\mathbf h_1|\\mathbf v_1)\\Rightarrow \\mathbf h_1\\Rightarrow p(\\mathbf v_2|\\mathbf h_1)\\Rightarrow \\mathbf v_2$$   \n",
    "\n",
    "followed by the CD-k step\n",
    "$$\\Delta \\mathbf W_2 =\\mathbf v_2 \\otimes \\mathbf h_2 - \\mathbf v_{1} \\otimes \\mathbf h_{1}$$     \n",
    "$$\\mathbf W_2 = \\mathbf W_{1} + \\alpha * \\Delta \\mathbf W_2$$ \n",
    "\n",
    "<li> $\\mathbf v_2$ is the reconstruction of $\\mathbf v_1$ sent to the next iteration).</li>    \n",
    "      \n",
    "<b>Iteration</b> $k=K$:\n",
    "    \n",
    "Sampling (starting with $\\mathbf v_{K-1}$)\n",
    "\n",
    "$$\\mathbf v_{K-1} \\Rightarrow p(\\mathbf h_{K-1}|\\mathbf v_{K-1})\\Rightarrow \\mathbf h_{K-1}\\Rightarrow p(\\mathbf v_K|\\mathbf h_{K-1})\\Rightarrow \\mathbf v_K$$   \n",
    "\n",
    "followed by the CD-k step\n",
    "$$\\Delta \\mathbf W_K =\\mathbf v_K \\otimes \\mathbf h_K - \\mathbf v_{K-1} \\otimes \\mathbf h_{K-1}$$     \n",
    "$$\\mathbf W_K = \\mathbf W_{K-1} + \\alpha * \\Delta \\mathbf W_K$$ \n",
    "    \n",
    "<b>What is $\\alpha$?</b>  \n",
    "Here, alpha is some small step size, and is also known as the \"learning rate\".\n"
   ]
  },
  {
   "cell_type": "markdown",
   "id": "9fb289f5-549d-438b-ab75-fc44d85e92ae",
   "metadata": {},
   "source": [
    "$K$ is adjustable, and good performance can be achieved with $K=1$, so that we just take one set of sampling steps per image.\n"
   ]
  },
  {
   "cell_type": "code",
   "execution_count": 17,
   "id": "f2578e6f-ddda-4a44-a017-26fcbe6883cf",
   "metadata": {},
   "outputs": [],
   "source": [
    "h1_prob = tf.nn.sigmoid(tf.matmul([v1_state], W) + hb)\n",
    "h1_state = tf.nn.relu(tf.sign(h1_prob - tf.random.uniform(tf.shape(h1_prob)))) #sample_h_given_X"
   ]
  },
  {
   "cell_type": "markdown",
   "id": "1c6e6d1d-cdc5-4104-bac6-4c40d4ab0f17",
   "metadata": {},
   "source": [
    "Lets look at the error of the first run:\n"
   ]
  },
  {
   "cell_type": "code",
   "execution_count": 18,
   "id": "f77fdd33-0914-44fc-ba7f-66d5c4cfb5c3",
   "metadata": {},
   "outputs": [
    {
     "name": "stdout",
     "output_type": "stream",
     "text": [
      "error:  tf.Tensor(0.50510204, shape=(), dtype=float32)\n"
     ]
    }
   ],
   "source": [
    "print(\"error: \", error(v0_state, v1_state))"
   ]
  },
  {
   "cell_type": "code",
   "execution_count": 19,
   "id": "0eaaea33-38ed-49e0-86a7-b0282e107f68",
   "metadata": {},
   "outputs": [
    {
     "name": "stdout",
     "output_type": "stream",
     "text": [
      "Epoch: 0 batch #: 1  of 300 sample #: 199 reconstruction error: 0.165554\n",
      "Epoch: 0 batch #: 2  of 300 sample #: 199 reconstruction error: 0.193190\n",
      "Epoch: 0 batch #: 3  of 300 sample #: 199 reconstruction error: 0.110921\n",
      "Epoch: 0 batch #: 4  of 300 sample #: 199 reconstruction error: 0.140212\n",
      "Epoch: 0 batch #: 5  of 300 sample #: 199 reconstruction error: 0.110047\n",
      "Epoch: 0 batch #: 6  of 300 sample #: 199 reconstruction error: 0.195988\n",
      "Epoch: 0 batch #: 7  of 300 sample #: 199 reconstruction error: 0.116145\n",
      "Epoch: 0 batch #: 8  of 300 sample #: 199 reconstruction error: 0.124341\n",
      "Epoch: 0 batch #: 9  of 300 sample #: 199 reconstruction error: 0.094360\n",
      "Epoch: 0 batch #: 10  of 300 sample #: 199 reconstruction error: 0.172815\n",
      "Epoch: 0 batch #: 11  of 300 sample #: 199 reconstruction error: 0.079736\n",
      "Epoch: 0 batch #: 12  of 300 sample #: 199 reconstruction error: 0.141828\n",
      "Epoch: 0 batch #: 13  of 300 sample #: 199 reconstruction error: 0.061567\n",
      "Epoch: 0 batch #: 14  of 300 sample #: 199 reconstruction error: 0.113092\n",
      "Epoch: 0 batch #: 15  of 300 sample #: 199 reconstruction error: 0.119073\n",
      "Epoch: 0 batch #: 16  of 300 sample #: 199 reconstruction error: 0.113875\n",
      "Epoch: 0 batch #: 17  of 300 sample #: 199 reconstruction error: 0.065519\n",
      "Epoch: 0 batch #: 18  of 300 sample #: 199 reconstruction error: 0.129523\n",
      "Epoch: 0 batch #: 19  of 300 sample #: 199 reconstruction error: 0.150350\n",
      "Epoch: 0 batch #: 20  of 300 sample #: 199 reconstruction error: 0.088356\n",
      "Epoch: 0 batch #: 21  of 300 sample #: 199 reconstruction error: 0.096251\n",
      "Epoch: 0 batch #: 22  of 300 sample #: 199 reconstruction error: 0.073042\n",
      "Epoch: 0 batch #: 23  of 300 sample #: 199 reconstruction error: 0.098020\n",
      "Epoch: 0 batch #: 24  of 300 sample #: 199 reconstruction error: 0.132392\n",
      "Epoch: 0 batch #: 25  of 300 sample #: 199 reconstruction error: 0.096778\n",
      "Epoch: 0 batch #: 26  of 300 sample #: 199 reconstruction error: 0.107945\n",
      "Epoch: 0 batch #: 27  of 300 sample #: 199 reconstruction error: 0.101285\n",
      "Epoch: 0 batch #: 28  of 300 sample #: 199 reconstruction error: 0.074922\n",
      "Epoch: 0 batch #: 29  of 300 sample #: 199 reconstruction error: 0.084679\n",
      "Epoch: 0 batch #: 30  of 300 sample #: 199 reconstruction error: 0.079079\n",
      "Epoch: 0 batch #: 31  of 300 sample #: 199 reconstruction error: 0.078989\n",
      "Epoch: 0 batch #: 32  of 300 sample #: 199 reconstruction error: 0.103293\n",
      "Epoch: 0 batch #: 33  of 300 sample #: 199 reconstruction error: 0.076099\n",
      "Epoch: 0 batch #: 34  of 300 sample #: 199 reconstruction error: 0.068998\n",
      "Epoch: 0 batch #: 35  of 300 sample #: 199 reconstruction error: 0.065296\n",
      "Epoch: 0 batch #: 36  of 300 sample #: 199 reconstruction error: 0.080207\n",
      "Epoch: 0 batch #: 37  of 300 sample #: 199 reconstruction error: 0.072977\n",
      "Epoch: 0 batch #: 38  of 300 sample #: 199 reconstruction error: 0.080412\n",
      "Epoch: 0 batch #: 39  of 300 sample #: 199 reconstruction error: 0.116197\n",
      "Epoch: 0 batch #: 40  of 300 sample #: 199 reconstruction error: 0.112219\n",
      "Epoch: 0 batch #: 41  of 300 sample #: 199 reconstruction error: 0.067239\n",
      "Epoch: 0 batch #: 42  of 300 sample #: 199 reconstruction error: 0.079795\n",
      "Epoch: 0 batch #: 43  of 300 sample #: 199 reconstruction error: 0.114109\n",
      "Epoch: 0 batch #: 44  of 300 sample #: 199 reconstruction error: 0.084820\n",
      "Epoch: 0 batch #: 45  of 300 sample #: 199 reconstruction error: 0.053514\n",
      "Epoch: 0 batch #: 46  of 300 sample #: 199 reconstruction error: 0.033172\n",
      "Epoch: 0 batch #: 47  of 300 sample #: 199 reconstruction error: 0.045432\n",
      "Epoch: 0 batch #: 48  of 300 sample #: 199 reconstruction error: 0.039781\n",
      "Epoch: 0 batch #: 49  of 300 sample #: 199 reconstruction error: 0.113654\n",
      "Epoch: 0 batch #: 50  of 300 sample #: 199 reconstruction error: 0.056875\n",
      "Epoch: 0 batch #: 51  of 300 sample #: 199 reconstruction error: 0.053562\n",
      "Epoch: 0 batch #: 52  of 300 sample #: 199 reconstruction error: 0.029083\n",
      "Epoch: 0 batch #: 53  of 300 sample #: 199 reconstruction error: 0.107463\n",
      "Epoch: 0 batch #: 54  of 300 sample #: 199 reconstruction error: 0.055551\n",
      "Epoch: 0 batch #: 55  of 300 sample #: 199 reconstruction error: 0.108499\n",
      "Epoch: 0 batch #: 56  of 300 sample #: 199 reconstruction error: 0.063168\n",
      "Epoch: 0 batch #: 57  of 300 sample #: 199 reconstruction error: 0.049440\n",
      "Epoch: 0 batch #: 58  of 300 sample #: 199 reconstruction error: 0.083486\n",
      "Epoch: 0 batch #: 59  of 300 sample #: 199 reconstruction error: 0.054950\n",
      "Epoch: 0 batch #: 60  of 300 sample #: 199 reconstruction error: 0.095525\n",
      "Epoch: 0 batch #: 61  of 300 sample #: 199 reconstruction error: 0.081422\n",
      "Epoch: 0 batch #: 62  of 300 sample #: 199 reconstruction error: 0.083269\n",
      "Epoch: 0 batch #: 63  of 300 sample #: 199 reconstruction error: 0.042776\n",
      "Epoch: 0 batch #: 64  of 300 sample #: 199 reconstruction error: 0.090935\n",
      "Epoch: 0 batch #: 65  of 300 sample #: 199 reconstruction error: 0.094028\n",
      "Epoch: 0 batch #: 66  of 300 sample #: 199 reconstruction error: 0.058825\n",
      "Epoch: 0 batch #: 67  of 300 sample #: 199 reconstruction error: 0.049285\n",
      "Epoch: 0 batch #: 68  of 300 sample #: 199 reconstruction error: 0.058461\n",
      "Epoch: 0 batch #: 69  of 300 sample #: 199 reconstruction error: 0.102615\n",
      "Epoch: 0 batch #: 70  of 300 sample #: 199 reconstruction error: 0.084013\n",
      "Epoch: 0 batch #: 71  of 300 sample #: 199 reconstruction error: 0.078161\n",
      "Epoch: 0 batch #: 72  of 300 sample #: 199 reconstruction error: 0.059324\n",
      "Epoch: 0 batch #: 73  of 300 sample #: 199 reconstruction error: 0.081151\n",
      "Epoch: 0 batch #: 74  of 300 sample #: 199 reconstruction error: 0.100051\n",
      "Epoch: 0 batch #: 75  of 300 sample #: 199 reconstruction error: 0.041390\n",
      "Epoch: 0 batch #: 76  of 300 sample #: 199 reconstruction error: 0.093782\n",
      "Epoch: 0 batch #: 77  of 300 sample #: 199 reconstruction error: 0.127089\n",
      "Epoch: 0 batch #: 78  of 300 sample #: 199 reconstruction error: 0.096656\n",
      "Epoch: 0 batch #: 79  of 300 sample #: 199 reconstruction error: 0.101404\n",
      "Epoch: 0 batch #: 80  of 300 sample #: 199 reconstruction error: 0.038559\n",
      "Epoch: 0 batch #: 81  of 300 sample #: 199 reconstruction error: 0.048758\n",
      "Epoch: 0 batch #: 82  of 300 sample #: 199 reconstruction error: 0.050514\n",
      "Epoch: 0 batch #: 83  of 300 sample #: 199 reconstruction error: 0.098289\n",
      "Epoch: 0 batch #: 84  of 300 sample #: 199 reconstruction error: 0.088637\n",
      "Epoch: 0 batch #: 85  of 300 sample #: 199 reconstruction error: 0.052901\n",
      "Epoch: 0 batch #: 86  of 300 sample #: 199 reconstruction error: 0.094847\n",
      "Epoch: 0 batch #: 87  of 300 sample #: 199 reconstruction error: 0.076366\n",
      "Epoch: 0 batch #: 88  of 300 sample #: 199 reconstruction error: 0.029297\n",
      "Epoch: 0 batch #: 89  of 300 sample #: 199 reconstruction error: 0.065006\n",
      "Epoch: 0 batch #: 90  of 300 sample #: 199 reconstruction error: 0.069142\n",
      "Epoch: 0 batch #: 91  of 300 sample #: 199 reconstruction error: 0.063262\n",
      "Epoch: 0 batch #: 92  of 300 sample #: 199 reconstruction error: 0.057380\n",
      "Epoch: 0 batch #: 93  of 300 sample #: 199 reconstruction error: 0.122350\n",
      "Epoch: 0 batch #: 94  of 300 sample #: 199 reconstruction error: 0.100860\n",
      "Epoch: 0 batch #: 95  of 300 sample #: 199 reconstruction error: 0.071178\n",
      "Epoch: 0 batch #: 96  of 300 sample #: 199 reconstruction error: 0.045982\n",
      "Epoch: 0 batch #: 97  of 300 sample #: 199 reconstruction error: 0.128329\n",
      "Epoch: 0 batch #: 98  of 300 sample #: 199 reconstruction error: 0.102179\n",
      "Epoch: 0 batch #: 99  of 300 sample #: 199 reconstruction error: 0.062193\n",
      "Epoch: 0 batch #: 100  of 300 sample #: 199 reconstruction error: 0.110403\n",
      "Epoch: 0 batch #: 101  of 300 sample #: 199 reconstruction error: 0.077919\n",
      "Epoch: 0 batch #: 102  of 300 sample #: 199 reconstruction error: 0.081396\n",
      "Epoch: 0 batch #: 103  of 300 sample #: 199 reconstruction error: 0.070581\n",
      "Epoch: 0 batch #: 104  of 300 sample #: 199 reconstruction error: 0.067491\n",
      "Epoch: 0 batch #: 105  of 300 sample #: 199 reconstruction error: 0.057045\n",
      "Epoch: 0 batch #: 106  of 300 sample #: 199 reconstruction error: 0.119972\n",
      "Epoch: 0 batch #: 107  of 300 sample #: 199 reconstruction error: 0.141289\n",
      "Epoch: 0 batch #: 108  of 300 sample #: 199 reconstruction error: 0.058458\n",
      "Epoch: 0 batch #: 109  of 300 sample #: 199 reconstruction error: 0.121740\n",
      "Epoch: 0 batch #: 110  of 300 sample #: 199 reconstruction error: 0.064334\n",
      "Epoch: 0 batch #: 111  of 300 sample #: 199 reconstruction error: 0.109140\n"
     ]
    },
    {
     "name": "stdout",
     "output_type": "stream",
     "text": [
      "Epoch: 0 batch #: 112  of 300 sample #: 199 reconstruction error: 0.046898\n",
      "Epoch: 0 batch #: 113  of 300 sample #: 199 reconstruction error: 0.074054\n",
      "Epoch: 0 batch #: 114  of 300 sample #: 199 reconstruction error: 0.061669\n",
      "Epoch: 0 batch #: 115  of 300 sample #: 199 reconstruction error: 0.071005\n",
      "Epoch: 0 batch #: 116  of 300 sample #: 199 reconstruction error: 0.039741\n",
      "Epoch: 0 batch #: 117  of 300 sample #: 199 reconstruction error: 0.038881\n",
      "Epoch: 0 batch #: 118  of 300 sample #: 199 reconstruction error: 0.091468\n",
      "Epoch: 0 batch #: 119  of 300 sample #: 199 reconstruction error: 0.124013\n",
      "Epoch: 0 batch #: 120  of 300 sample #: 199 reconstruction error: 0.070869\n",
      "Epoch: 0 batch #: 121  of 300 sample #: 199 reconstruction error: 0.046914\n",
      "Epoch: 0 batch #: 122  of 300 sample #: 199 reconstruction error: 0.107445\n",
      "Epoch: 0 batch #: 123  of 300 sample #: 199 reconstruction error: 0.062697\n",
      "Epoch: 0 batch #: 124  of 300 sample #: 199 reconstruction error: 0.072288\n",
      "Epoch: 0 batch #: 125  of 300 sample #: 199 reconstruction error: 0.046852\n",
      "Epoch: 0 batch #: 126  of 300 sample #: 199 reconstruction error: 0.081976\n",
      "Epoch: 0 batch #: 127  of 300 sample #: 199 reconstruction error: 0.086383\n",
      "Epoch: 0 batch #: 128  of 300 sample #: 199 reconstruction error: 0.066771\n",
      "Epoch: 0 batch #: 129  of 300 sample #: 199 reconstruction error: 0.059353\n",
      "Epoch: 0 batch #: 130  of 300 sample #: 199 reconstruction error: 0.074739\n",
      "Epoch: 0 batch #: 131  of 300 sample #: 199 reconstruction error: 0.057060\n",
      "Epoch: 0 batch #: 132  of 300 sample #: 199 reconstruction error: 0.044955\n",
      "Epoch: 0 batch #: 133  of 300 sample #: 199 reconstruction error: 0.069410\n",
      "Epoch: 0 batch #: 134  of 300 sample #: 199 reconstruction error: 0.095282\n",
      "Epoch: 0 batch #: 135  of 300 sample #: 199 reconstruction error: 0.102407\n",
      "Epoch: 0 batch #: 136  of 300 sample #: 199 reconstruction error: 0.099313\n",
      "Epoch: 0 batch #: 137  of 300 sample #: 199 reconstruction error: 0.074743\n",
      "Epoch: 0 batch #: 138  of 300 sample #: 199 reconstruction error: 0.078630\n",
      "Epoch: 0 batch #: 139  of 300 sample #: 199 reconstruction error: 0.120794\n",
      "Epoch: 0 batch #: 140  of 300 sample #: 199 reconstruction error: 0.083999\n",
      "Epoch: 0 batch #: 141  of 300 sample #: 199 reconstruction error: 0.087577\n",
      "Epoch: 0 batch #: 142  of 300 sample #: 199 reconstruction error: 0.060896\n",
      "Epoch: 0 batch #: 143  of 300 sample #: 199 reconstruction error: 0.047658\n",
      "Epoch: 0 batch #: 144  of 300 sample #: 199 reconstruction error: 0.062356\n",
      "Epoch: 0 batch #: 145  of 300 sample #: 199 reconstruction error: 0.104241\n",
      "Epoch: 0 batch #: 146  of 300 sample #: 199 reconstruction error: 0.102489\n",
      "Epoch: 0 batch #: 147  of 300 sample #: 199 reconstruction error: 0.069560\n",
      "Epoch: 0 batch #: 148  of 300 sample #: 199 reconstruction error: 0.079041\n",
      "Epoch: 0 batch #: 149  of 300 sample #: 199 reconstruction error: 0.045468\n",
      "Epoch: 0 batch #: 150  of 300 sample #: 199 reconstruction error: 0.050692\n",
      "Epoch: 0 batch #: 151  of 300 sample #: 199 reconstruction error: 0.101765\n",
      "Epoch: 0 batch #: 152  of 300 sample #: 199 reconstruction error: 0.095109\n",
      "Epoch: 0 batch #: 153  of 300 sample #: 199 reconstruction error: 0.065974\n",
      "Epoch: 0 batch #: 154  of 300 sample #: 199 reconstruction error: 0.072061\n",
      "Epoch: 0 batch #: 155  of 300 sample #: 199 reconstruction error: 0.059256\n",
      "Epoch: 0 batch #: 156  of 300 sample #: 199 reconstruction error: 0.060346\n",
      "Epoch: 0 batch #: 157  of 300 sample #: 199 reconstruction error: 0.074937\n",
      "Epoch: 0 batch #: 158  of 300 sample #: 199 reconstruction error: 0.076557\n",
      "Epoch: 0 batch #: 159  of 300 sample #: 199 reconstruction error: 0.061752\n",
      "Epoch: 0 batch #: 160  of 300 sample #: 199 reconstruction error: 0.078056\n",
      "Epoch: 0 batch #: 161  of 300 sample #: 199 reconstruction error: 0.093684\n",
      "Epoch: 0 batch #: 162  of 300 sample #: 199 reconstruction error: 0.110732\n",
      "Epoch: 0 batch #: 163  of 300 sample #: 199 reconstruction error: 0.039532\n",
      "Epoch: 0 batch #: 164  of 300 sample #: 199 reconstruction error: 0.084443\n",
      "Epoch: 0 batch #: 165  of 300 sample #: 199 reconstruction error: 0.079784\n",
      "Epoch: 0 batch #: 166  of 300 sample #: 199 reconstruction error: 0.047995\n",
      "Epoch: 0 batch #: 167  of 300 sample #: 199 reconstruction error: 0.078181\n",
      "Epoch: 0 batch #: 168  of 300 sample #: 199 reconstruction error: 0.050987\n",
      "Epoch: 0 batch #: 169  of 300 sample #: 199 reconstruction error: 0.032539\n",
      "Epoch: 0 batch #: 170  of 300 sample #: 199 reconstruction error: 0.060009\n",
      "Epoch: 0 batch #: 171  of 300 sample #: 199 reconstruction error: 0.023343\n",
      "Epoch: 0 batch #: 172  of 300 sample #: 199 reconstruction error: 0.054438\n",
      "Epoch: 0 batch #: 173  of 300 sample #: 199 reconstruction error: 0.076085\n",
      "Epoch: 0 batch #: 174  of 300 sample #: 199 reconstruction error: 0.107363\n",
      "Epoch: 0 batch #: 175  of 300 sample #: 199 reconstruction error: 0.067996\n",
      "Epoch: 0 batch #: 176  of 300 sample #: 199 reconstruction error: 0.033471\n",
      "Epoch: 0 batch #: 177  of 300 sample #: 199 reconstruction error: 0.027344\n",
      "Epoch: 0 batch #: 178  of 300 sample #: 199 reconstruction error: 0.127509\n",
      "Epoch: 0 batch #: 179  of 300 sample #: 199 reconstruction error: 0.071253\n",
      "Epoch: 0 batch #: 180  of 300 sample #: 199 reconstruction error: 0.070596\n",
      "Epoch: 0 batch #: 181  of 300 sample #: 199 reconstruction error: 0.094562\n",
      "Epoch: 0 batch #: 182  of 300 sample #: 199 reconstruction error: 0.066112\n",
      "Epoch: 0 batch #: 183  of 300 sample #: 199 reconstruction error: 0.110009\n",
      "Epoch: 0 batch #: 184  of 300 sample #: 199 reconstruction error: 0.061857\n",
      "Epoch: 0 batch #: 185  of 300 sample #: 199 reconstruction error: 0.065075\n",
      "Epoch: 0 batch #: 186  of 300 sample #: 199 reconstruction error: 0.117970\n",
      "Epoch: 0 batch #: 187  of 300 sample #: 199 reconstruction error: 0.052971\n",
      "Epoch: 0 batch #: 188  of 300 sample #: 199 reconstruction error: 0.105933\n",
      "Epoch: 0 batch #: 189  of 300 sample #: 199 reconstruction error: 0.084919\n",
      "Epoch: 0 batch #: 190  of 300 sample #: 199 reconstruction error: 0.068720\n",
      "Epoch: 0 batch #: 191  of 300 sample #: 199 reconstruction error: 0.105938\n",
      "Epoch: 0 batch #: 192  of 300 sample #: 199 reconstruction error: 0.138036\n",
      "Epoch: 0 batch #: 193  of 300 sample #: 199 reconstruction error: 0.117439\n",
      "Epoch: 0 batch #: 194  of 300 sample #: 199 reconstruction error: 0.080214\n",
      "Epoch: 0 batch #: 195  of 300 sample #: 199 reconstruction error: 0.045013\n",
      "Epoch: 0 batch #: 196  of 300 sample #: 199 reconstruction error: 0.043096\n",
      "Epoch: 0 batch #: 197  of 300 sample #: 199 reconstruction error: 0.049248\n",
      "Epoch: 0 batch #: 198  of 300 sample #: 199 reconstruction error: 0.091264\n",
      "Epoch: 0 batch #: 199  of 300 sample #: 199 reconstruction error: 0.070300\n",
      "Epoch: 0 batch #: 200  of 300 sample #: 199 reconstruction error: 0.096299\n",
      "Epoch: 0 batch #: 201  of 300 sample #: 199 reconstruction error: 0.096505\n",
      "Epoch: 0 batch #: 202  of 300 sample #: 199 reconstruction error: 0.020590\n",
      "Epoch: 0 batch #: 203  of 300 sample #: 199 reconstruction error: 0.092202\n",
      "Epoch: 0 batch #: 204  of 300 sample #: 199 reconstruction error: 0.044222\n",
      "Epoch: 0 batch #: 205  of 300 sample #: 199 reconstruction error: 0.019990\n",
      "Epoch: 0 batch #: 206  of 300 sample #: 199 reconstruction error: 0.067034\n",
      "Epoch: 0 batch #: 207  of 300 sample #: 199 reconstruction error: 0.095974\n",
      "Epoch: 0 batch #: 208  of 300 sample #: 199 reconstruction error: 0.052784\n",
      "Epoch: 0 batch #: 209  of 300 sample #: 199 reconstruction error: 0.025739\n",
      "Epoch: 0 batch #: 210  of 300 sample #: 199 reconstruction error: 0.106400\n",
      "Epoch: 0 batch #: 211  of 300 sample #: 199 reconstruction error: 0.088553\n",
      "Epoch: 0 batch #: 212  of 300 sample #: 199 reconstruction error: 0.079955\n",
      "Epoch: 0 batch #: 213  of 300 sample #: 199 reconstruction error: 0.093535\n",
      "Epoch: 0 batch #: 214  of 300 sample #: 199 reconstruction error: 0.100203\n",
      "Epoch: 0 batch #: 215  of 300 sample #: 199 reconstruction error: 0.023505\n",
      "Epoch: 0 batch #: 216  of 300 sample #: 199 reconstruction error: 0.094255\n",
      "Epoch: 0 batch #: 217  of 300 sample #: 199 reconstruction error: 0.083002\n",
      "Epoch: 0 batch #: 218  of 300 sample #: 199 reconstruction error: 0.084898\n",
      "Epoch: 0 batch #: 219  of 300 sample #: 199 reconstruction error: 0.073832\n",
      "Epoch: 0 batch #: 220  of 300 sample #: 199 reconstruction error: 0.053083\n",
      "Epoch: 0 batch #: 221  of 300 sample #: 199 reconstruction error: 0.077954\n"
     ]
    },
    {
     "name": "stdout",
     "output_type": "stream",
     "text": [
      "Epoch: 0 batch #: 222  of 300 sample #: 199 reconstruction error: 0.077598\n",
      "Epoch: 0 batch #: 223  of 300 sample #: 199 reconstruction error: 0.068571\n",
      "Epoch: 0 batch #: 224  of 300 sample #: 199 reconstruction error: 0.061705\n",
      "Epoch: 0 batch #: 225  of 300 sample #: 199 reconstruction error: 0.063931\n",
      "Epoch: 0 batch #: 226  of 300 sample #: 199 reconstruction error: 0.123596\n",
      "Epoch: 0 batch #: 227  of 300 sample #: 199 reconstruction error: 0.076176\n",
      "Epoch: 0 batch #: 228  of 300 sample #: 199 reconstruction error: 0.070682\n",
      "Epoch: 0 batch #: 229  of 300 sample #: 199 reconstruction error: 0.083018\n",
      "Epoch: 0 batch #: 230  of 300 sample #: 199 reconstruction error: 0.027956\n",
      "Epoch: 0 batch #: 231  of 300 sample #: 199 reconstruction error: 0.029811\n",
      "Epoch: 0 batch #: 232  of 300 sample #: 199 reconstruction error: 0.085715\n",
      "Epoch: 0 batch #: 233  of 300 sample #: 199 reconstruction error: 0.083825\n",
      "Epoch: 0 batch #: 234  of 300 sample #: 199 reconstruction error: 0.071019\n",
      "Epoch: 0 batch #: 235  of 300 sample #: 199 reconstruction error: 0.060451\n",
      "Epoch: 0 batch #: 236  of 300 sample #: 199 reconstruction error: 0.096335\n",
      "Epoch: 0 batch #: 237  of 300 sample #: 199 reconstruction error: 0.082961\n",
      "Epoch: 0 batch #: 238  of 300 sample #: 199 reconstruction error: 0.116311\n",
      "Epoch: 0 batch #: 239  of 300 sample #: 199 reconstruction error: 0.030611\n",
      "Epoch: 0 batch #: 240  of 300 sample #: 199 reconstruction error: 0.093620\n",
      "Epoch: 0 batch #: 241  of 300 sample #: 199 reconstruction error: 0.085046\n",
      "Epoch: 0 batch #: 242  of 300 sample #: 199 reconstruction error: 0.066803\n",
      "Epoch: 0 batch #: 243  of 300 sample #: 199 reconstruction error: 0.064072\n",
      "Epoch: 0 batch #: 244  of 300 sample #: 199 reconstruction error: 0.078977\n",
      "Epoch: 0 batch #: 245  of 300 sample #: 199 reconstruction error: 0.057961\n",
      "Epoch: 0 batch #: 246  of 300 sample #: 199 reconstruction error: 0.092902\n",
      "Epoch: 0 batch #: 247  of 300 sample #: 199 reconstruction error: 0.047386\n",
      "Epoch: 0 batch #: 248  of 300 sample #: 199 reconstruction error: 0.068452\n",
      "Epoch: 0 batch #: 249  of 300 sample #: 199 reconstruction error: 0.037113\n",
      "Epoch: 0 batch #: 250  of 300 sample #: 199 reconstruction error: 0.100532\n",
      "Epoch: 0 batch #: 251  of 300 sample #: 199 reconstruction error: 0.044680\n",
      "Epoch: 0 batch #: 252  of 300 sample #: 199 reconstruction error: 0.061829\n",
      "Epoch: 0 batch #: 253  of 300 sample #: 199 reconstruction error: 0.058696\n",
      "Epoch: 0 batch #: 254  of 300 sample #: 199 reconstruction error: 0.034140\n",
      "Epoch: 0 batch #: 255  of 300 sample #: 199 reconstruction error: 0.036045\n",
      "Epoch: 0 batch #: 256  of 300 sample #: 199 reconstruction error: 0.076214\n",
      "Epoch: 0 batch #: 257  of 300 sample #: 199 reconstruction error: 0.069930\n",
      "Epoch: 0 batch #: 258  of 300 sample #: 199 reconstruction error: 0.078615\n",
      "Epoch: 0 batch #: 259  of 300 sample #: 199 reconstruction error: 0.083972\n",
      "Epoch: 0 batch #: 260  of 300 sample #: 199 reconstruction error: 0.102180\n",
      "Epoch: 0 batch #: 261  of 300 sample #: 199 reconstruction error: 0.034647\n",
      "Epoch: 0 batch #: 262  of 300 sample #: 199 reconstruction error: 0.047571\n",
      "Epoch: 0 batch #: 263  of 300 sample #: 199 reconstruction error: 0.084659\n",
      "Epoch: 0 batch #: 264  of 300 sample #: 199 reconstruction error: 0.079912\n",
      "Epoch: 0 batch #: 265  of 300 sample #: 199 reconstruction error: 0.069648\n",
      "Epoch: 0 batch #: 266  of 300 sample #: 199 reconstruction error: 0.038165\n",
      "Epoch: 0 batch #: 267  of 300 sample #: 199 reconstruction error: 0.067426\n",
      "Epoch: 0 batch #: 268  of 300 sample #: 199 reconstruction error: 0.020768\n",
      "Epoch: 0 batch #: 269  of 300 sample #: 199 reconstruction error: 0.093080\n",
      "Epoch: 0 batch #: 270  of 300 sample #: 199 reconstruction error: 0.084177\n",
      "Epoch: 0 batch #: 271  of 300 sample #: 199 reconstruction error: 0.049425\n",
      "Epoch: 0 batch #: 272  of 300 sample #: 199 reconstruction error: 0.049176\n",
      "Epoch: 0 batch #: 273  of 300 sample #: 199 reconstruction error: 0.040006\n",
      "Epoch: 0 batch #: 274  of 300 sample #: 199 reconstruction error: 0.058888\n",
      "Epoch: 0 batch #: 275  of 300 sample #: 199 reconstruction error: 0.106384\n",
      "Epoch: 0 batch #: 276  of 300 sample #: 199 reconstruction error: 0.073436\n",
      "Epoch: 0 batch #: 277  of 300 sample #: 199 reconstruction error: 0.078691\n",
      "Epoch: 0 batch #: 278  of 300 sample #: 199 reconstruction error: 0.062096\n",
      "Epoch: 0 batch #: 279  of 300 sample #: 199 reconstruction error: 0.045318\n",
      "Epoch: 0 batch #: 280  of 300 sample #: 199 reconstruction error: 0.072497\n",
      "Epoch: 0 batch #: 281  of 300 sample #: 199 reconstruction error: 0.060829\n",
      "Epoch: 0 batch #: 282  of 300 sample #: 199 reconstruction error: 0.087774\n",
      "Epoch: 0 batch #: 283  of 300 sample #: 199 reconstruction error: 0.051484\n",
      "Epoch: 0 batch #: 284  of 300 sample #: 199 reconstruction error: 0.049157\n",
      "Epoch: 0 batch #: 285  of 300 sample #: 199 reconstruction error: 0.064055\n",
      "Epoch: 0 batch #: 286  of 300 sample #: 199 reconstruction error: 0.077366\n",
      "Epoch: 0 batch #: 287  of 300 sample #: 199 reconstruction error: 0.064157\n",
      "Epoch: 0 batch #: 288  of 300 sample #: 199 reconstruction error: 0.026782\n",
      "Epoch: 0 batch #: 289  of 300 sample #: 199 reconstruction error: 0.078684\n",
      "Epoch: 0 batch #: 290  of 300 sample #: 199 reconstruction error: 0.095007\n",
      "Epoch: 0 batch #: 291  of 300 sample #: 199 reconstruction error: 0.088485\n",
      "Epoch: 0 batch #: 292  of 300 sample #: 199 reconstruction error: 0.064880\n",
      "Epoch: 0 batch #: 293  of 300 sample #: 199 reconstruction error: 0.058716\n",
      "Epoch: 0 batch #: 294  of 300 sample #: 199 reconstruction error: 0.083026\n",
      "Epoch: 0 batch #: 295  of 300 sample #: 199 reconstruction error: 0.070605\n",
      "Epoch: 0 batch #: 296  of 300 sample #: 199 reconstruction error: 0.026288\n",
      "Epoch: 0 batch #: 297  of 300 sample #: 199 reconstruction error: 0.102531\n",
      "Epoch: 0 batch #: 298  of 300 sample #: 199 reconstruction error: 0.054023\n",
      "Epoch: 0 batch #: 299  of 300 sample #: 199 reconstruction error: 0.044388\n",
      "Epoch: 0 batch #: 300  of 300 sample #: 199 reconstruction error: 0.082870\n"
     ]
    }
   ],
   "source": [
    "#Parameters\n",
    "alpha = 0.01\n",
    "epochs = 1\n",
    "batchsize = 200\n",
    "weights = []\n",
    "errors = []\n",
    "batch_number = 0\n",
    "K = 1\n",
    "\n",
    "#creating datasets\n",
    "train_ds = \\\n",
    "    tf.data.Dataset.from_tensor_slices((trX, trY)).batch(batchsize)\n",
    "\n",
    "for epoch in range(epochs):\n",
    "    for batch_x, batch_y in train_ds:\n",
    "        batch_number += 1\n",
    "        for i_sample in range(batchsize):           \n",
    "            for k in range(K):\n",
    "                v0_state = batch_x[i_sample]\n",
    "                h0_state = hidden_layer(v0_state, W, hb)\n",
    "                v1_state = reconstructed_output(h0_state, W, vb)\n",
    "                h1_state = hidden_layer(v1_state, W, hb)\n",
    "\n",
    "                delta_W = tf.matmul(tf.transpose([v0_state]), h0_state) - tf.matmul(tf.transpose([v1_state]), h1_state)\n",
    "                W = W + alpha * delta_W\n",
    "\n",
    "                vb = vb + alpha * tf.reduce_mean(v0_state - v1_state, 0)\n",
    "                hb = hb + alpha * tf.reduce_mean(h0_state - h1_state, 0) \n",
    "\n",
    "                v0_state = v1_state\n",
    "\n",
    "            if i_sample == batchsize-1:\n",
    "                err = error(batch_x[i_sample], v1_state)\n",
    "                errors.append(err)\n",
    "                weights.append(W)\n",
    "                print ( 'Epoch: %d' % epoch, \n",
    "                       \"batch #: %i \" % batch_number, \"of %i\" % int(60e3/batchsize), \n",
    "                       \"sample #: %i\" % i_sample,\n",
    "                       'reconstruction error: %f' % err)\n",
    "\n"
   ]
  },
  {
   "cell_type": "markdown",
   "id": "7e47d2b5-9359-440b-bb24-6e5c643641c4",
   "metadata": {},
   "source": [
    "Let's take a look at the errors at the end of each batch:\n"
   ]
  },
  {
   "cell_type": "code",
   "execution_count": 20,
   "id": "a7a8ff46-ee21-4203-8a58-1b31d785b637",
   "metadata": {},
   "outputs": [
    {
     "data": {
      "image/png": "[encoded data removed]",
      "text/plain": [
       "<Figure size 640x480 with 1 Axes>"
      ]
     },
     "metadata": {},
     "output_type": "display_data"
    }
   ],
   "source": [
    "plt.plot(errors)\n",
    "plt.xlabel(\"Batch Number\")\n",
    "plt.ylabel(\"Error\")\n",
    "plt.show()"
   ]
  },
  {
   "cell_type": "markdown",
   "id": "b6f757cb-aa3f-4771-83ec-e75b7f256af6",
   "metadata": {},
   "source": [
    "What is the final weight matrix $W$ after training?\n"
   ]
  },
  {
   "cell_type": "code",
   "execution_count": 21,
   "id": "0f675e2c-11d4-4d40-b929-8a22fa4ce9f7",
   "metadata": {},
   "outputs": [
    {
     "name": "stdout",
     "output_type": "stream",
     "text": [
      "[[-0.22000003 -0.25000003 -0.36999992 ... -0.55999976 -0.43999985\n",
      "  -0.34999993]\n",
      " [-0.20000002 -0.22000003 -0.31999996 ... -0.5399998  -0.35999992\n",
      "  -0.34999993]\n",
      " [-0.22000003 -0.19000001 -0.34999993 ... -0.5199998  -0.29\n",
      "  -0.28      ]\n",
      " ...\n",
      " [-0.24000004 -0.14999999 -0.30999997 ... -0.5299998  -0.42999986\n",
      "  -0.3899999 ]\n",
      " [-0.26000002 -0.20000002 -0.3799999  ... -0.6099997  -0.36999992\n",
      "  -0.30999997]\n",
      " [-0.23000003 -0.22000003 -0.3799999  ... -0.6099997  -0.36999992\n",
      "  -0.36999992]]\n"
     ]
    }
   ],
   "source": [
    "print(W.numpy()) # a weight matrix of shape (50,784)"
   ]
  },
  {
   "cell_type": "markdown",
   "id": "4e59a233-1621-439a-ba96-c287cf771358",
   "metadata": {},
   "source": [
    "<a id=\"ref5\"></a>\n",
    "<h3>Learned features</h3> \n"
   ]
  },
  {
   "cell_type": "markdown",
   "id": "7cbd618a-008e-4917-b93e-ea9b3fe6d11c",
   "metadata": {},
   "source": [
    "We can take each hidden unit and visualize the connections between that hidden unit and each element in the input vector. In our case, we have 50 hidden units. Lets visualize those.\n"
   ]
  },
  {
   "cell_type": "markdown",
   "id": "69f6112c-6e49-4173-921f-ff90b6efe35d",
   "metadata": {},
   "source": [
    "Let's plot the current weights:\n",
    "<b>tile_raster_images</b> helps in generating an easy to grasp image from a set of samples or weights. It transforms the <b>uw</b> (with one flattened image per row of size 784), into an array (of size $28\\times28$) in which images are reshaped and laid out like tiles on a floor.\n"
   ]
  },
  {
   "cell_type": "code",
   "execution_count": 22,
   "id": "b4145110-8de2-4066-a3d4-04c288565e70",
   "metadata": {},
   "outputs": [
    {
     "data": {
      "image/png": "[encoded data removed]",
      "text/plain": [
       "<Figure size 1800x1800 with 1 Axes>"
      ]
     },
     "metadata": {},
     "output_type": "display_data"
    }
   ],
   "source": [
    "tile_raster_images(X=W.numpy().T, img_shape=(28, 28), tile_shape=(5, 10), tile_spacing=(1, 1))\n",
    "import matplotlib.pyplot as plt\n",
    "from PIL import Image\n",
    "%matplotlib inline\n",
    "image = Image.fromarray(tile_raster_images(X=W.numpy().T, img_shape=(28, 28) ,tile_shape=(5, 10), tile_spacing=(1, 1)))\n",
    "### Plot image\n",
    "plt.rcParams['figure.figsize'] = (18.0, 18.0)\n",
    "imgplot = plt.imshow(image)\n",
    "imgplot.set_cmap('gray')  "
   ]
  },
  {
   "cell_type": "markdown",
   "id": "973e6099-ccb0-47aa-8097-1f723d841a10",
   "metadata": {},
   "source": [
    "Each tile in the above visualization corresponds to a vector of connections between a hidden unit and visible layer's units. \n"
   ]
  },
  {
   "cell_type": "markdown",
   "id": "ac14661d-213a-4fe0-ba3e-2aab339fb008",
   "metadata": {},
   "source": [
    "Let's look at one of the learned weights corresponding to one of hidden units for example. In this particular square, the gray color represents weight = 0, and the whiter it is, the more positive the weights are (closer to 1). Conversely, the darker pixels are, the more negative the weights. The positive pixels will increase the probability of activation in hidden units (after multiplying by input/visible pixels), and negative pixels will decrease the probability of a unit hidden to be 1 (activated). So, why is this important?  So we can see that this specific square (hidden unit) can detect a feature (e.g. a \"/\" shape) and if it exists in the input.\n"
   ]
  },
  {
   "cell_type": "code",
   "execution_count": 23,
   "id": "407781d9-760f-470d-8f60-65a479ce0b80",
   "metadata": {},
   "outputs": [
    {
     "data": {
      "image/png": "[encoded data removed]",
      "text/plain": [
       "<Figure size 400x400 with 1 Axes>"
      ]
     },
     "metadata": {},
     "output_type": "display_data"
    }
   ],
   "source": [
    "from PIL import Image\n",
    "image = Image.fromarray(tile_raster_images(X =W.numpy().T[10:11], img_shape=(28, 28),tile_shape=(1, 1), tile_spacing=(1, 1)))\n",
    "### Plot image\n",
    "plt.rcParams['figure.figsize'] = (4.0, 4.0)\n",
    "imgplot = plt.imshow(image)\n",
    "imgplot.set_cmap('gray')  "
   ]
  },
  {
   "cell_type": "markdown",
   "id": "c83d8035-1382-41c6-a053-f27574f16b1e",
   "metadata": {},
   "source": [
    "Let's look at the reconstruction of an image now. Imagine that we have a destructed image of figure 3. Lets see if our trained network can fix it:\n",
    "\n",
    "First we plot the image:\n"
   ]
  },
  {
   "cell_type": "code",
   "execution_count": 24,
   "id": "b1bbaf3a-e38e-4ca2-9cc2-af62a31fa329",
   "metadata": {},
   "outputs": [
    {
     "name": "stderr",
     "output_type": "stream",
     "text": [
      "--2023-01-18 11:48:12--  https://ibm.box.com/shared/static/vvm1b63uvuxq88vbw9znpwu5ol380mco.jpg\n",
      "Resolving ibm.box.com (ibm.box.com)... 74.112.186.144\n",
      "Connecting to ibm.box.com (ibm.box.com)|74.112.186.144|:443... connected.\n",
      "HTTP request sent, awaiting response... 301 Moved Permanently\n",
      "Location: /public/static/vvm1b63uvuxq88vbw9znpwu5ol380mco.jpg [following]\n",
      "--2023-01-18 11:48:13--  https://ibm.box.com/public/static/vvm1b63uvuxq88vbw9znpwu5ol380mco.jpg\n",
      "Reusing existing connection to ibm.box.com:443.\n",
      "HTTP request sent, awaiting response... 301 Moved Permanently\n",
      "Location: https://ibm.ent.box.com/public/static/vvm1b63uvuxq88vbw9znpwu5ol380mco.jpg [following]\n",
      "--2023-01-18 11:48:14--  https://ibm.ent.box.com/public/static/vvm1b63uvuxq88vbw9znpwu5ol380mco.jpg\n",
      "Resolving ibm.ent.box.com (ibm.ent.box.com)... 74.112.186.144\n",
      "Connecting to ibm.ent.box.com (ibm.ent.box.com)|74.112.186.144|:443... connected.\n",
      "HTTP request sent, awaiting response... 302 Found\n",
      "Location: https://dl2.boxcloud.com/d/1/b1!wvWZsSY1bkdfHj71oB0eh1mRKKOJFxROH30AaHUM8petJip-gDA1USQXLmsMdMF0V-051E3baVmIHKxve6ggeVh1756b-TDqy-nBiUxs_ytyrUgaJVC1TwmkZW_yeEETowwhvmjWWDZ0-1tIrgy_qI1UmaI2kwMP79M8Lj7MGa4IP4WfCYdPAVTVWdw2JVC5TB77Hf7a5Pw_zeMKpU7NW5wHlvhN_oxX0YwX64Fv2UXbrIVJ59UfWKDKCFvul8X8rOHCFpFNBfsaACMx6ZroD2cUXe5E2TAwUwsbsKnMSOLYN9oNpE_xQ3dGWkE8JNDxVw06SEbzJgrf8gR0hSA6oFTg6W9ro8i-xnHYjACZ9shXOsRi96k6eqRUS9V8142gTrk3lPdshdJgc9TfYhLkqQhdfoTeu156zJZEhtDL83I2yZoxryv8IdeNGaCcQxa873MG1hs-x73Vpg9Lrt33PB4DYEIgktVagVFXivtzwZ6eBWe6Bq7m2R4He7XhBQmpwqNsMm_hHxOj0_Qpr1k4DBfIUHImyVCbYoDmqU0UODrdfKU1-wWfjfanhcj-qEJsPtcw49TM-Q2dnHFW3ZsTxRSLwgXMU-p7Rg5IUNmrLy-RjIuxvnaq9S64azetIHkTniitpYLkDsBddB9sVXW_TSaq71QmB8ImFebaUsXrXPNZVrN1UhWsZrMnUSnJBce-JwGmrbFWEr_29eOvv0IfUmXqUjqVbszfkIdZQNYqfAIcaj8vprPUJ-fvXDoIqEaMnGJFUSBGr1WiDZsR3zSaAgq2XjiBeJhs82kcprCjrwp2PUQGs-l0r-3KVFQ1bliS-E64QxHHdd2HCc7aByJHik8U5_cvQF2n6g8Iv4DY9olYfE0ugDPu02GP93BW9Z2NdK2KedwfULQ8YLQ0QHoF6QXuQQSTQjBdgohibfhlwBz6ZK2uOf1b1WQS3dN5gh6AJiDWgiFaQNUGwBumUS0S-c18-etQ6CEYszF77x5v3RMH3uX_Zl7VPKcSie84TVVTsmVba4nxaG-DEDg61kLjDpjU7todRH9whqaxlc8_AU-iKcAzHzLIcCbv_Hu0dj0sYqFoOD8q8Tblq-VU6gR-cWJdx9gxKdF9DBvgkFld2YmgbkxQat5hWvnV78vKVCrxg-KhRYGYe8_4MN9hdPwe04k9gfZTfvqELetBtK5rWCvPyUyLr-pxBhpOxqtGzDJZxT6jIpMObZ38ONP9zoHq5LLXWIRzSHEFuJEIEYLDupPeQfAtcp3VdYAenSAw64lUJfo2YIoYsjQydRh6fAMA9Kj8MbEeYJxSkQihaqy7NzctzFQpowyq2zjJ1tMIfguq_iIexKD92QHJ-c1Khf1-jwD44S0bDqfo8SrjvCzazjapOOfKTmGLfGY_3bw8J3k6JnTRGVqk0r05EtuQ1IiEEIs3rBM./download [following]\n",
      "--2023-01-18 11:48:15--  https://dl2.boxcloud.com/d/1/b1!wvWZsSY1bkdfHj71oB0eh1mRKKOJFxROH30AaHUM8petJip-gDA1USQXLmsMdMF0V-051E3baVmIHKxve6ggeVh1756b-TDqy-nBiUxs_ytyrUgaJVC1TwmkZW_yeEETowwhvmjWWDZ0-1tIrgy_qI1UmaI2kwMP79M8Lj7MGa4IP4WfCYdPAVTVWdw2JVC5TB77Hf7a5Pw_zeMKpU7NW5wHlvhN_oxX0YwX64Fv2UXbrIVJ59UfWKDKCFvul8X8rOHCFpFNBfsaACMx6ZroD2cUXe5E2TAwUwsbsKnMSOLYN9oNpE_xQ3dGWkE8JNDxVw06SEbzJgrf8gR0hSA6oFTg6W9ro8i-xnHYjACZ9shXOsRi96k6eqRUS9V8142gTrk3lPdshdJgc9TfYhLkqQhdfoTeu156zJZEhtDL83I2yZoxryv8IdeNGaCcQxa873MG1hs-x73Vpg9Lrt33PB4DYEIgktVagVFXivtzwZ6eBWe6Bq7m2R4He7XhBQmpwqNsMm_hHxOj0_Qpr1k4DBfIUHImyVCbYoDmqU0UODrdfKU1-wWfjfanhcj-qEJsPtcw49TM-Q2dnHFW3ZsTxRSLwgXMU-p7Rg5IUNmrLy-RjIuxvnaq9S64azetIHkTniitpYLkDsBddB9sVXW_TSaq71QmB8ImFebaUsXrXPNZVrN1UhWsZrMnUSnJBce-JwGmrbFWEr_29eOvv0IfUmXqUjqVbszfkIdZQNYqfAIcaj8vprPUJ-fvXDoIqEaMnGJFUSBGr1WiDZsR3zSaAgq2XjiBeJhs82kcprCjrwp2PUQGs-l0r-3KVFQ1bliS-E64QxHHdd2HCc7aByJHik8U5_cvQF2n6g8Iv4DY9olYfE0ugDPu02GP93BW9Z2NdK2KedwfULQ8YLQ0QHoF6QXuQQSTQjBdgohibfhlwBz6ZK2uOf1b1WQS3dN5gh6AJiDWgiFaQNUGwBumUS0S-c18-etQ6CEYszF77x5v3RMH3uX_Zl7VPKcSie84TVVTsmVba4nxaG-DEDg61kLjDpjU7todRH9whqaxlc8_AU-iKcAzHzLIcCbv_Hu0dj0sYqFoOD8q8Tblq-VU6gR-cWJdx9gxKdF9DBvgkFld2YmgbkxQat5hWvnV78vKVCrxg-KhRYGYe8_4MN9hdPwe04k9gfZTfvqELetBtK5rWCvPyUyLr-pxBhpOxqtGzDJZxT6jIpMObZ38ONP9zoHq5LLXWIRzSHEFuJEIEYLDupPeQfAtcp3VdYAenSAw64lUJfo2YIoYsjQydRh6fAMA9Kj8MbEeYJxSkQihaqy7NzctzFQpowyq2zjJ1tMIfguq_iIexKD92QHJ-c1Khf1-jwD44S0bDqfo8SrjvCzazjapOOfKTmGLfGY_3bw8J3k6JnTRGVqk0r05EtuQ1IiEEIs3rBM./download\n",
      "Resolving dl2.boxcloud.com (dl2.boxcloud.com)... 74.112.186.128\n",
      "Connecting to dl2.boxcloud.com (dl2.boxcloud.com)|74.112.186.128|:443... connected.\n",
      "HTTP request sent, awaiting response... 200 OK\n",
      "Length: 24383 (24K) [image/jpeg]\n",
      "Saving to: 'destructed3.jpg'\n",
      "\n",
      "     0K .......... .......... ...                             100%  962K=0,02s\n",
      "\n",
      "2023-01-18 11:48:16 (962 KB/s) - 'destructed3.jpg' saved [24383/24383]\n",
      "\n"
     ]
    },
    {
     "data": {
      "image/png": "[encoded data removed]",
      "text/plain": [
       "<PIL.JpegImagePlugin.JpegImageFile image mode=RGB size=181x181 at 0x18F5A986C70>"
      ]
     },
     "execution_count": 24,
     "metadata": {},
     "output_type": "execute_result"
    }
   ],
   "source": [
    "!wget -O destructed3.jpg  https://ibm.box.com/shared/static/vvm1b63uvuxq88vbw9znpwu5ol380mco.jpg\n",
    "img = Image.open('destructed3.jpg')\n",
    "img"
   ]
  },
  {
   "cell_type": "markdown",
   "id": "808815e9-046f-4d10-94c9-3b98b96febd1",
   "metadata": {},
   "source": [
    "Now let's pass this image through the neural net:\n"
   ]
  },
  {
   "cell_type": "code",
   "execution_count": 25,
   "id": "dbd78428-7885-49eb-b254-aab559bd27b9",
   "metadata": {},
   "outputs": [],
   "source": [
    "# convert the image to a 1d numpy array\n",
    "sample_case = np.array(img.convert('I').resize((28,28))).ravel().reshape((1, -1))/255.0\n",
    "\n",
    "sample_case = tf.cast(sample_case, dtype=tf.float32)"
   ]
  },
  {
   "cell_type": "markdown",
   "id": "e0cf9b54-e75a-44d7-a815-1f3eedfa3570",
   "metadata": {},
   "source": [
    "Feed the sample case into the network and reconstruct the output:\n"
   ]
  },
  {
   "cell_type": "code",
   "execution_count": 26,
   "id": "4672fc93-31e6-4e51-91b4-46bfa15ae4f3",
   "metadata": {},
   "outputs": [
    {
     "name": "stdout",
     "output_type": "stream",
     "text": [
      "Probability nodes in hidden layer: tf.Tensor(\n",
      "[[9.99991655e-01 2.15232372e-04 1.42604113e-04 1.02784274e-11\n",
      "  3.88502485e-05 8.20613932e-05 8.95488560e-01 9.72369492e-01\n",
      "  1.60729499e-14 9.87543166e-01 3.20920349e-16 4.50804830e-03\n",
      "  9.99998331e-01 7.75848925e-02 1.00000000e+00 1.00000000e+00\n",
      "  1.04626366e-07 9.99995172e-01 1.40952870e-05 1.00352334e-15\n",
      "  3.31373470e-12 9.69898939e-01 9.91563098e-09 5.00835071e-08\n",
      "  9.87428844e-01 6.94919944e-09 8.12379512e-05 9.39700484e-01\n",
      "  1.02875756e-13 1.65915701e-11 1.29847024e-07 9.99999762e-01\n",
      "  1.00000000e+00 9.26713824e-01 3.84377019e-13 9.40233469e-03\n",
      "  1.45358867e-14 2.92091698e-11 9.90216649e-05 6.67414730e-18\n",
      "  5.59571385e-03 3.05720270e-02 1.04514003e-01 9.87110019e-01\n",
      "  1.00000000e+00 9.29667830e-01 8.25459659e-02 9.99976814e-01\n",
      "  1.64366871e-01 1.28397130e-06]], shape=(1, 50), dtype=float32)\n",
      "activated nodes in hidden layer: tf.Tensor(\n",
      "[[1. 0. 0. 0. 0. 0. 1. 1. 0. 1. 0. 0. 1. 0. 1. 1. 0. 1. 0. 0. 0. 1. 0. 0.\n",
      "  1. 0. 0. 1. 0. 0. 0. 1. 1. 1. 0. 0. 0. 0. 0. 0. 0. 0. 0. 1. 1. 1. 0. 1.\n",
      "  0. 0.]], shape=(1, 50), dtype=float32)\n",
      "tf.Tensor(\n",
      "[[2.11149454e-04 2.35676765e-04 2.45273113e-04 2.04890966e-04\n",
      "  1.67816877e-04 1.83612108e-04 2.13235617e-04 1.41531229e-04\n",
      "  2.15411186e-04 2.02864408e-04 1.96903944e-04 2.63154507e-04\n",
      "  1.75476074e-04 2.08854675e-04 2.65538692e-04 2.31593847e-04\n",
      "  1.45882368e-04 1.54912472e-04 2.60382891e-04 1.94877386e-04\n",
      "  2.21967697e-04 2.17556953e-04 2.35676765e-04 1.44362450e-04\n",
      "  2.30997801e-04 1.40160322e-04 1.48832798e-04 2.57879496e-04\n",
      "  3.62306833e-04 2.52753496e-04 2.17556953e-04 2.21967697e-04\n",
      "  1.49488449e-04 2.72274017e-04 1.55299902e-04 2.12043524e-04\n",
      "  1.96099281e-04 3.05175781e-04 3.07261944e-04 3.23086977e-04\n",
      "  2.26557255e-04 3.32385302e-04 2.06381083e-04 2.69830227e-04\n",
      "  4.45693731e-04 3.94701958e-04 3.06904316e-04 3.41862440e-04\n",
      "  4.71889973e-04 2.36749649e-04 2.53885984e-04 2.68399715e-04\n",
      "  1.32024288e-04 2.00867653e-04 1.53362751e-04 3.62306833e-04\n",
      "  1.18234231e-04 3.08722258e-04 2.96682119e-04 1.53720379e-04\n",
      "  1.84893608e-04 2.16335058e-04 3.06963921e-04 3.22729349e-04\n",
      "  4.44948673e-04 2.52634287e-04 1.04380561e-04 9.95981536e-05\n",
      "  1.32679939e-04 7.45809157e-05 8.96264173e-05 7.97041357e-05\n",
      "  8.65020120e-05 8.32043588e-05 1.05768806e-04 8.91534582e-05\n",
      "  9.64992360e-05 2.65389681e-04 4.93228436e-04 2.05069780e-04\n",
      "  2.40206718e-04 2.39491463e-04 1.30653381e-04 2.35676765e-04\n",
      "  1.96903944e-04 2.45273113e-04 4.01467085e-04 3.20702791e-04\n",
      "  2.30312347e-04 2.23577023e-04 2.69472599e-04 4.16636467e-04\n",
      "  1.92463398e-04 1.45256519e-04 1.24037266e-04 9.33285337e-05\n",
      "  4.95063214e-05 1.29431486e-04 2.34872103e-04 2.25633383e-04\n",
      "  6.94960356e-04 9.61273909e-04 1.77028775e-03 1.24490261e-03\n",
      "  3.74615192e-04 2.07662582e-04 2.08437443e-04 3.04430723e-04\n",
      "  3.54349613e-04 3.57389450e-04 2.00033188e-04 2.63065100e-04\n",
      "  1.96903944e-04 2.39938498e-04 2.52813101e-04 3.30805779e-04\n",
      "  5.68717718e-04 6.36607409e-04 6.41167164e-04 1.57421827e-03\n",
      "  1.14443898e-03 2.24086642e-03 1.62351131e-03 2.80714035e-03\n",
      "  5.72213531e-03 1.37425661e-02 1.52890086e-02 3.96095216e-02\n",
      "  5.64804673e-02 8.27332437e-02 3.12436521e-02 2.27217078e-02\n",
      "  1.85400248e-03 1.16905570e-03 1.91614032e-03 1.49321556e-03\n",
      "  1.40619278e-03 5.42908907e-04 5.86748123e-04 1.99556351e-04\n",
      "  1.96844339e-04 1.72913074e-04 2.44140625e-04 3.02404165e-04\n",
      "  1.38357282e-03 1.73652172e-03 1.59251690e-03 6.13316894e-03\n",
      "  1.20600164e-02 3.24082971e-02 2.69800723e-02 4.18596566e-02\n",
      "  1.18611723e-01 3.64130437e-01 8.25550079e-01 8.80042911e-01\n",
      "  8.72793019e-01 8.23352933e-01 6.88889086e-01 3.67839158e-01\n",
      "  6.00019991e-02 2.15095878e-02 5.76367974e-03 3.12051177e-03\n",
      "  2.75474787e-03 1.05294585e-03 4.12702560e-04 2.23040581e-04\n",
      "  2.71081924e-04 2.67297029e-04 3.05503607e-04 7.95543194e-04\n",
      "  1.85269117e-03 2.98988819e-03 6.47455454e-03 2.13111639e-02\n",
      "  3.52933705e-02 5.44369221e-02 1.22931659e-01 4.46083844e-01\n",
      "  8.22325468e-01 9.61128116e-01 9.85219121e-01 9.76045847e-01\n",
      "  9.41110015e-01 7.75444806e-01 8.05945396e-01 7.51554251e-01\n",
      "  4.02540743e-01 1.11574590e-01 1.89639330e-02 8.72349739e-03\n",
      "  8.27568769e-03 1.83624029e-03 1.40458345e-03 2.69949436e-04\n",
      "  2.30252743e-04 3.78012657e-04 4.21375036e-04 1.24105811e-03\n",
      "  3.09002399e-03 9.18042660e-03 2.32714415e-02 2.52362490e-02\n",
      "  4.60450053e-02 1.75073266e-01 2.63317108e-01 8.21017325e-01\n",
      "  9.02420044e-01 9.22206461e-01 9.41029549e-01 8.29537928e-01\n",
      "  6.58305287e-01 4.20484334e-01 5.64452231e-01 8.26879084e-01\n",
      "  7.94297576e-01 4.02510047e-01 6.55398965e-02 1.94522142e-02\n",
      "  1.19035840e-02 3.71688604e-03 1.15481019e-03 2.94268131e-04\n",
      "  4.11570072e-04 2.77578831e-04 9.57369804e-04 9.00089741e-04\n",
      "  2.34520435e-03 6.15400076e-03 2.74934769e-02 8.81206095e-02\n",
      "  8.48864913e-02 1.47625893e-01 2.57834941e-01 4.98869389e-01\n",
      "  7.91039467e-01 7.55885601e-01 4.05470073e-01 1.11090451e-01\n",
      "  1.03480995e-01 1.42598450e-01 2.32189775e-01 8.34964395e-01\n",
      "  9.08826530e-01 8.49628568e-01 1.69950783e-01 4.20635343e-02\n",
      "  1.12464726e-02 3.39543819e-03 1.42180920e-03 1.46895647e-04\n",
      "  2.43693590e-04 3.68058681e-04 8.09580088e-04 1.25756860e-03\n",
      "  9.23484564e-04 1.45659447e-02 2.84585357e-02 7.03028440e-02\n",
      "  1.31039798e-01 7.94890821e-02 2.49057442e-01 2.92618692e-01\n",
      "  2.16998160e-01 1.46988988e-01 3.73083651e-02 2.80169249e-02\n",
      "  6.70483410e-02 1.77737594e-01 6.92117214e-01 9.03285742e-01\n",
      "  9.07931685e-01 8.05455804e-01 2.42144018e-01 5.98036051e-02\n",
      "  9.07614827e-03 3.73190641e-03 7.00891018e-04 2.87085772e-04\n",
      "  1.59740448e-04 4.40895557e-04 5.80102205e-04 5.83112240e-04\n",
      "  1.38607621e-03 1.83880329e-03 8.14247131e-03 2.24577785e-02\n",
      "  1.73519850e-02 6.27384186e-02 7.17153847e-02 4.33885455e-02\n",
      "  3.80668342e-02 3.15414965e-02 2.90825665e-02 8.39321911e-02\n",
      "  3.24706078e-01 7.03480661e-01 9.30795908e-01 9.11975026e-01\n",
      "  8.84134650e-01 3.36599588e-01 4.54576910e-02 6.47863746e-03\n",
      "  5.16781211e-03 9.92357731e-04 4.73588705e-04 3.73184681e-04\n",
      "  2.44468451e-04 3.63707542e-04 1.51386857e-03 6.71446323e-04\n",
      "  8.72522593e-04 2.23070383e-03 7.03850389e-03 7.09140301e-03\n",
      "  1.07901692e-02 1.21550858e-02 2.26270854e-02 1.50229037e-02\n",
      "  7.03838170e-02 2.43225753e-01 3.00345808e-01 6.69995248e-01\n",
      "  7.89697409e-01 8.78621578e-01 9.24286664e-01 7.72873163e-01\n",
      "  4.88044977e-01 2.80344784e-02 2.85908580e-03 2.81885266e-03\n",
      "  8.09609890e-04 9.20087099e-04 5.19126654e-04 2.91973352e-04\n",
      "  2.25156546e-04 2.68071890e-04 6.73979521e-04 6.64621592e-04\n",
      "  8.56369734e-04 3.18124890e-03 7.96926022e-03 1.09876692e-02\n",
      "  9.03236866e-03 2.31898427e-02 2.49854624e-02 6.95520043e-02\n",
      "  3.79972547e-01 6.55372858e-01 8.95251513e-01 9.18466806e-01\n",
      "  9.21734214e-01 8.98674369e-01 7.72520304e-01 4.90528256e-01\n",
      "  1.28465205e-01 4.99948859e-03 1.10739470e-03 6.39647245e-04\n",
      "  1.17361546e-03 5.41210175e-04 4.08381224e-04 2.43723392e-04\n",
      "  2.41309404e-04 2.10344791e-04 7.65264034e-04 6.56813383e-04\n",
      "  2.98261642e-04 2.12207437e-03 1.47942305e-02 2.35010087e-02\n",
      "  3.38860154e-02 2.87613273e-02 6.51235580e-02 2.81453073e-01\n",
      "  8.29069734e-01 9.20596302e-01 9.50665593e-01 9.34298873e-01\n",
      "  9.49175119e-01 8.54299068e-01 6.84538603e-01 2.85865813e-01\n",
      "  6.87445104e-02 2.13572383e-03 6.49333000e-04 8.41170549e-04\n",
      "  6.62267208e-04 4.10050154e-04 3.48836184e-04 1.53243542e-04\n",
      "  2.87175179e-04 3.64273787e-04 3.16083431e-04 1.09794736e-03\n",
      "  3.67760658e-04 1.84121728e-03 1.94300115e-02 1.28582120e-02\n",
      "  1.57643855e-02 5.54271042e-02 8.65672529e-02 2.49452800e-01\n",
      "  6.15556955e-01 8.48330796e-01 6.96413994e-01 7.49447644e-01\n",
      "  8.48495364e-01 7.55079031e-01 5.22675991e-01 1.35935754e-01\n",
      "  1.39739811e-02 1.61790848e-03 6.24746084e-04 1.23432279e-03\n",
      "  1.38738751e-03 2.51501799e-04 3.00496817e-04 1.68591738e-04\n",
      "  1.67965889e-04 2.10314989e-04 3.72231007e-04 7.19964504e-04\n",
      "  1.69372559e-03 1.63072348e-03 7.53039122e-03 1.34523809e-02\n",
      "  1.61825716e-02 1.66561902e-02 4.24708128e-02 5.82872927e-02\n",
      "  1.46277755e-01 1.94776893e-01 7.65630007e-02 1.57144010e-01\n",
      "  4.38644230e-01 5.76784253e-01 3.71828943e-01 5.88366091e-02\n",
      "  3.18014622e-03 1.44347548e-03 1.61784887e-03 1.97526813e-03\n",
      "  1.66806579e-03 3.39001417e-04 2.39551067e-04 3.07261944e-04\n",
      "  1.80661678e-04 1.88499689e-04 3.78906727e-04 2.09361315e-03\n",
      "  2.60859728e-03 5.52076101e-03 1.83085501e-02 1.76561177e-02\n",
      "  1.92959607e-02 7.39684701e-03 8.31484795e-03 1.42455995e-02\n",
      "  1.21112764e-02 1.54554844e-02 6.71115518e-03 3.17791700e-02\n",
      "  1.99924320e-01 3.99514586e-01 3.14619213e-01 1.32455230e-02\n",
      "  1.31484866e-03 5.03540039e-04 2.45180726e-03 2.76970863e-03\n",
      "  1.43349171e-03 3.46451998e-04 3.84151936e-04 2.76356936e-04\n",
      "  1.24394894e-04 1.72704458e-04 4.19914722e-04 3.31434608e-03\n",
      "  7.18367100e-03 3.98650467e-02 9.12067592e-02 2.18250453e-02\n",
      "  9.67088342e-03 6.14589453e-03 2.28133798e-03 1.02043152e-03\n",
      "  3.52934003e-03 2.53301859e-03 6.98179007e-04 1.19126141e-02\n",
      "  1.23144627e-01 4.54459548e-01 2.49463618e-01 1.63959861e-02\n",
      "  1.67551637e-03 8.44120979e-04 3.04529071e-03 4.09826636e-03\n",
      "  1.16673112e-03 5.31136990e-04 5.20080328e-04 2.44438648e-04\n",
      "  1.76846981e-04 3.58730555e-04 1.38720870e-03 7.16561079e-03\n",
      "  1.77747607e-02 8.25996995e-02 1.49668574e-01 4.08053398e-02\n",
      "  8.79430771e-03 5.05861640e-03 3.10912728e-03 3.58331203e-03\n",
      "  1.74853206e-03 1.22261047e-03 2.31873989e-03 8.75470042e-03\n",
      "  1.41076982e-01 5.51477611e-01 3.74504447e-01 4.99238670e-02\n",
      "  7.95710087e-03 3.33333015e-03 2.36651301e-03 5.31265140e-03\n",
      "  1.80962682e-03 6.44862652e-04 2.96711922e-04 2.96264887e-04\n",
      "  2.81035900e-04 3.07947397e-04 2.10833549e-03 2.72333026e-02\n",
      "  5.04058599e-02 2.13355869e-01 2.69860238e-01 1.40102714e-01\n",
      "  1.96318030e-02 1.96499825e-02 3.86190414e-02 2.91831493e-02\n",
      "  9.68167186e-03 2.68980861e-03 2.58243084e-03 1.97056830e-02\n",
      "  3.03318918e-01 8.33733082e-01 7.06290007e-01 1.09349281e-01\n",
      "  1.80860162e-02 5.95515966e-03 3.57028842e-03 3.33213806e-03\n",
      "  1.28158927e-03 4.30434942e-04 9.14484262e-04 1.55538321e-04\n",
      "  2.35676765e-04 2.92986631e-04 2.62624025e-03 4.14195061e-02\n",
      "  1.27175272e-01 3.67663741e-01 4.38988268e-01 2.48475969e-01\n",
      "  9.62516367e-02 1.52313381e-01 1.22152865e-01 1.41426772e-01\n",
      "  1.39105618e-02 4.67142463e-03 1.19617581e-02 1.04840875e-01\n",
      "  8.39439273e-01 9.39946413e-01 8.46179366e-01 2.33776420e-01\n",
      "  1.98242664e-02 5.20697236e-03 3.49995494e-03 1.92025304e-03\n",
      "  2.61843204e-03 1.00350380e-03 5.59002161e-04 2.22355127e-04\n",
      "  2.01374292e-04 1.74611807e-04 2.04965472e-03 4.46629524e-02\n",
      "  1.51249260e-01 4.26793575e-01 5.59654713e-01 6.55856907e-01\n",
      "  6.18798018e-01 5.67272902e-01 3.19170535e-01 2.62809038e-01\n",
      "  7.95763731e-02 5.89294732e-02 2.08246142e-01 6.54086232e-01\n",
      "  9.35336351e-01 9.54517305e-01 7.26815283e-01 1.60899222e-01\n",
      "  2.06328034e-02 3.98725271e-03 2.52854824e-03 2.50566006e-03\n",
      "  1.90237164e-03 1.55532360e-03 4.29183245e-04 2.46167183e-04\n",
      "  2.33858824e-04 1.84804201e-04 1.76268816e-03 2.12927759e-02\n",
      "  1.21062070e-01 4.06512618e-01 5.59412122e-01 8.93688917e-01\n",
      "  8.98118734e-01 7.71628618e-01 7.11492658e-01 7.54690707e-01\n",
      "  3.87411416e-01 2.97585964e-01 5.71819186e-01 8.75670314e-01\n",
      "  8.76737714e-01 8.26593637e-01 3.38176548e-01 5.16315103e-02\n",
      "  1.59512758e-02 2.40004063e-03 1.90010667e-03 1.17987394e-03\n",
      "  1.39439106e-03 5.76376915e-04 2.50250101e-04 1.72138214e-04\n",
      "  2.06977129e-04 1.64479017e-04 4.74989414e-04 6.24626875e-03\n",
      "  3.70874405e-02 1.74610287e-01 3.48773897e-01 6.87112510e-01\n",
      "  8.98168862e-01 9.62247372e-01 9.16956782e-01 6.76084161e-01\n",
      "  5.31345427e-01 4.06687677e-01 5.97014070e-01 6.81893647e-01\n",
      "  4.31810945e-01 3.09223622e-01 1.14375293e-01 1.43490434e-02\n",
      "  5.98403811e-03 1.34253502e-03 9.47684050e-04 1.33240223e-03\n",
      "  5.82963228e-04 3.41027975e-04 2.09897757e-04 2.00867653e-04\n",
      "  2.65687704e-04 2.15351582e-04 2.99334526e-04 1.09225512e-03\n",
      "  1.12575889e-02 5.80782592e-02 1.61794066e-01 4.38923776e-01\n",
      "  6.97282434e-01 8.14545155e-01 6.88230038e-01 4.05282527e-01\n",
      "  3.14783901e-01 1.76864177e-01 2.19202459e-01 9.97202694e-02\n",
      "  1.26353115e-01 9.76229012e-02 3.43186855e-02 4.41884995e-03\n",
      "  1.26034021e-03 2.79575586e-04 3.72409821e-04 4.06086445e-04\n",
      "  4.44531441e-04 3.03030014e-04 1.91926956e-04 1.81734562e-04\n",
      "  2.63065100e-04 2.26497650e-04 1.97708607e-04 1.70558691e-04\n",
      "  4.50849533e-04 1.52769685e-03 7.06696510e-03 1.89811885e-02\n",
      "  6.61504269e-02 2.79968381e-02 4.81289625e-03 3.05330753e-03\n",
      "  4.11304832e-03 1.59329176e-03 3.15842032e-03 5.20744920e-03\n",
      "  1.65801644e-02 1.53268874e-02 4.72071767e-03 1.26326084e-03\n",
      "  3.60846519e-04 1.76519156e-04 3.30030918e-04 4.39345837e-04\n",
      "  2.25573778e-04 2.13027000e-04 2.52425671e-04 1.47342682e-04\n",
      "  2.45273113e-04 2.96622515e-04 2.04890966e-04 1.80840492e-04\n",
      "  3.46988440e-04 5.09500504e-04 1.47953629e-03 6.82651997e-04\n",
      "  4.34815884e-04 6.04659319e-04 1.32799149e-04 7.19525924e-05\n",
      "  9.21438113e-05 1.59770250e-04 5.88417053e-04 1.48722529e-03\n",
      "  2.05323100e-03 3.54778767e-03 1.03914738e-03 6.17206097e-04\n",
      "  3.30299139e-04 1.75237656e-04 5.15609980e-04 1.72227621e-04\n",
      "  1.83284283e-04 1.99526548e-04 1.34706497e-04 2.35676765e-04\n",
      "  1.37358904e-04 1.98870897e-04 2.42829323e-04 2.47746706e-04\n",
      "  2.24590302e-04 2.62469053e-04 2.71886587e-04 4.16278839e-04\n",
      "  3.96996737e-04 7.02053308e-04 5.01722097e-04 3.54021788e-04\n",
      "  8.64207745e-04 9.90450382e-04 8.46147537e-04 5.37306070e-04\n",
      "  1.08453631e-03 7.56442547e-04 3.59624624e-04 2.61008739e-04\n",
      "  2.96920538e-04 2.60651112e-04 1.59263611e-04 2.48074532e-04\n",
      "  2.04890966e-04 2.19762325e-04 1.79946423e-04 1.08058142e-04]], shape=(1, 784), dtype=float32)\n"
     ]
    }
   ],
   "source": [
    "hh0_p = tf.nn.sigmoid(tf.matmul(sample_case, W) + hb)\n",
    "hh0_s = tf.round(hh0_p)\n",
    "\n",
    "print(\"Probability nodes in hidden layer:\" ,hh0_p)\n",
    "print(\"activated nodes in hidden layer:\" ,hh0_s)\n",
    "\n",
    "# reconstruct\n",
    "vv1_p = tf.nn.sigmoid(tf.matmul(hh0_s, tf.transpose(W)) + vb)\n",
    "\n",
    "print(vv1_p)\n",
    "#rec_prob = sess.run(vv1_p, feed_dict={ hh0_s: hh0_s_val, W: prv_w, vb: prv_vb})"
   ]
  },
  {
   "cell_type": "markdown",
   "id": "0265daa8-7ab7-4936-bea1-f728fc1b7d77",
   "metadata": {},
   "source": [
    "Here we plot the reconstructed image:\n"
   ]
  },
  {
   "cell_type": "code",
   "execution_count": 27,
   "id": "f4f68aad-7ddc-432f-8bd4-7c3e55bcdeed",
   "metadata": {},
   "outputs": [
    {
     "data": {
      "image/png": "[encoded data removed]",
      "text/plain": [
       "<Figure size 400x400 with 1 Axes>"
      ]
     },
     "metadata": {},
     "output_type": "display_data"
    }
   ],
   "source": [
    "img = Image.fromarray(tile_raster_images(X=vv1_p.numpy(), img_shape=(28, 28),tile_shape=(1, 1), tile_spacing=(1, 1)))\n",
    "plt.rcParams['figure.figsize'] = (4.0, 4.0)\n",
    "imgplot = plt.imshow(img)\n",
    "imgplot.set_cmap('gray') "
   ]
  },
  {
   "cell_type": "markdown",
   "id": "96a61fff-f125-411e-af93-80d008689235",
   "metadata": {},
   "source": [
    "<hr>\n",
    "\n",
    "## Want to learn more?\n",
    "\n",
    "Also, you can use __Watson Studio__ to run these notebooks faster with bigger datasets.__Watson Studio__ is IBM’s leading cloud solution for data scientists, built by data scientists. With Jupyter notebooks, RStudio, Apache Spark and popular libraries pre-packaged in the cloud, __Watson Studio__ enables data scientists to collaborate on their projects without having to install anything. Join the fast-growing community of __Watson Studio__ users today with a free account at [Watson Studio](https://cocl.us/ML0120EN_DSX).This is the end of this lesson. Thank you for reading this notebook, and good luck on your studies.\n"
   ]
  },
  {
   "cell_type": "markdown",
   "id": "f2b0faae-1220-4b2d-b1ee-8b221c0bc39a",
   "metadata": {},
   "source": [
    "### Thanks for completing this lesson!\n",
    "\n",
    "Notebook created by: <a href = \"https://ca.linkedin.com/in/saeedaghabozorgi?utm_medium=Exinfluencer&utm_source=Exinfluencer&utm_content=000026UJ&utm_term=10006555&utm_id=NA-SkillsNetwork-Channel-SkillsNetworkCoursesIBMDeveloperSkillsNetworkDL0120ENSkillsNetwork954-2022-01-01\">Saeed Aghabozorgi</a>\n",
    "\n",
    "Updated to TF 2.X by  <a href=\"https://ca.linkedin.com/in/nilmeier?utm_medium=Exinfluencer&utm_source=Exinfluencer&utm_content=000026UJ&utm_term=10006555&utm_id=NA-SkillsNetwork-Channel-SkillsNetworkCoursesIBMDeveloperSkillsNetworkDL0120ENSkillsNetwork954-2022-01-01\"> Jerome Nilmeier</a><br />\n"
   ]
  },
  {
   "cell_type": "markdown",
   "id": "58a3583c-bb2b-4f80-9c87-cd7b3b031f72",
   "metadata": {},
   "source": [
    "### References:\n",
    "https://en.wikipedia.org/wiki/Restricted_Boltzmann_machine  \n",
    "http://deeplearning.net/tutorial/rbm.html  \n",
    "http://www.cs.utoronto.ca/~hinton/absps/netflixICML.pdf<br>\n",
    "http://imonad.com/rbm/restricted-boltzmann-machine/  \n"
   ]
  },
  {
   "cell_type": "markdown",
   "id": "98d1f6f0-931e-45ae-95d7-43183b4c8dff",
   "metadata": {},
   "source": [
    "<hr>\n",
    "\n",
    "Copyright &copy; 2018 [Cognitive Class](https://cocl.us/DX0108EN_CC). This notebook and its source code are released under the terms of the [MIT License](https://bigdatauniversity.com/mit-license/?utm_medium=Exinfluencer&utm_source=Exinfluencer&utm_content=000026UJ&utm_term=10006555&utm_id=NA-SkillsNetwork-Channel-SkillsNetworkCoursesIBMDeveloperSkillsNetworkDL0120ENSkillsNetwork954-2022-01-01).\n"
   ]
  }
 ],
 "metadata": {
  "kernelspec": {
   "display_name": "Python [conda env:tensorflow] *",
   "language": "python",
   "name": "conda-env-tensorflow-py"
  },
  "language_info": {
   "codemirror_mode": {
    "name": "ipython",
    "version": 3
   },
   "file_extension": ".py",
   "mimetype": "text/x-python",
   "name": "python",
   "nbconvert_exporter": "python",
   "pygments_lexer": "ipython3",
   "version": "3.8.15"
  }
 },
 "nbformat": 4,
 "nbformat_minor": 4
}
