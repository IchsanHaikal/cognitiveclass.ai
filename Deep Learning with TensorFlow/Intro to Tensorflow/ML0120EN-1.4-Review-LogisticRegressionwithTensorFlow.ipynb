{
 "cells": [
  {
   "cell_type": "markdown",
   "id": "c2cfb6ff-93ea-4cd0-95f3-54da9a3c99af",
   "metadata": {},
   "source": [
    "<img src=\"https://cf-courses-data.s3.us.cloud-object-storage.appdomain.cloud/IBMDeveloperSkillsNetwork-DL0120EN-SkillsNetwork/images/IDSN-logo.png\" width=\"300\" alt=\"cognitiveclass.ai logo\">\n"
   ]
  },
  {
   "cell_type": "markdown",
   "id": "fe306966-c468-48c2-9f49-66b8a9c1b823",
   "metadata": {},
   "source": [
    "<h2>LOGISTIC REGRESSION WITH TENSORFLOW</h2>\n",
    "Estimated time needed: <b>25</b> minutes\n",
    "\n",
    "<h3>Objective for this Notebook<h3>    \n",
    "<h5> 1. What is different between Linear and Logistic Regression?</h5>\n",
    "<h5> 2. Utilizing Logistic Regression in TensorFlow. </h5>\n",
    "<h5> 3. Training the model </h5>\n"
   ]
  },
  {
   "cell_type": "markdown",
   "id": "dc447220-3714-429f-a6ca-ad35c859e554",
   "metadata": {},
   "source": [
    "## Table of Contents\n",
    "\n",
    "Logistic Regression is one of most important techniques in data science. It is usually used to solve the classic classification problem.\n",
    "\n",
    "<div class=\"alert alert-block alert-info\" style=\"margin-top: 20px\">\n",
    "<font size = 3><strong>This lesson covers the following concepts of Logistics Regression:</strong></font>\n",
    "<br>\n",
    "<h2>Table of Contents</h2>\n",
    "\n",
    "<ol>\n",
    "    <li><a href=\"#ref1\">Linear Regression vs Logistic Regression</a></li>\n",
    "    <li><a href=\"#ref2\">Utilizing Logistic Regression in TensorFlow</a></li>\n",
    "    <li><a href=\"#ref3\">Training</a></li>\n",
    "</ol>    \n",
    "</div>\n",
    "<p></p>\n",
    "<br>\n",
    "\n",
    "<hr>\n"
   ]
  },
  {
   "cell_type": "markdown",
   "id": "718bed5e-4550-4189-95ef-10c1fc2198a9",
   "metadata": {},
   "source": [
    "<a id=\"ref1\"></a>\n",
    "\n",
    "<h2>What is different between Linear and Logistic Regression?</h2>\n",
    "\n",
    "While Linear Regression is suited for estimating continuous values (e.g. estimating house price), it is not the best tool for predicting the class in which an observed data point belongs. In order to provide estimate for classification, we need some sort of guidance on what would be the <b>most probable class</b> for that data point. For this, we use <b>Logistic Regression</b>.\n",
    "\n",
    "<div class=\"alert alert-success alertsuccess\" style=\"margin-top: 20px\">\n",
    "<font size=\"3\"><strong>Recall linear regression:</strong></font>\n",
    "<br>\n",
    "<br>\n",
    "Linear regression finds a function that relates a continuous dependent variable, <i>y</i>, to some predictors (independent variables <i>x1</i>, <i>x2</i>, etc.). Simple linear regression assumes a function of the form:\n",
    "<br><br>\n",
    "$$\n",
    "y = w0 + w1 \\times x1 + w2 \\times x2 + \\cdots\n",
    "$$\n",
    "<br>\n",
    "and finds the values of <i>w0</i>, <i>w1</i>, <i>w2</i>, etc. The term <i>w0</i> is the \"intercept\" or \"constant term\" (it's shown as <i>b</i> in the formula below):\n",
    "<br><br>\n",
    "$$\n",
    "Y = W X + b\n",
    "$$\n",
    "<p></p>\n",
    "\n",
    "</div>\n",
    "\n",
    "Logistic Regression is a variation of Linear Regression, useful when the observed dependent variable, <i>y</i>, is categorical. It produces a formula that predicts the probability of the class label as a function of the independent variables.\n",
    "\n",
    "Despite the name logistic <i>regression</i>, it is actually a <b>probabilistic classification</b> model. Logistic regression fits a special s-shaped curve by taking the linear regression and transforming the numeric estimate into a probability with the following function:\n",
    "\n",
    "$$\n",
    "ProbabilityOfaClass = \\theta(y) = \\frac{e^y}{1 + e^y} = exp(y) / (1 + exp(y)) = p \n",
    "$$\n",
    "\n",
    "which produces p-values between 0 (as y approaches minus infinity $-\\infty$) and 1 (as y approaches plus infinity $+\\infty$). This now becomes a special kind of non-linear regression.\n",
    "\n",
    "In this equation, <i>y</i> is the regression result (the sum of the variables weighted by the coefficients), <code>exp</code> is the exponential function and $\\theta(y)$ is the <a href=\"http://en.wikipedia.org/wiki/Logistic_function?utm_medium=Exinfluencer&utm_source=Exinfluencer&utm_content=000026UJ&utm_term=10006555&utm_id=NA-SkillsNetwork-Channel-SkillsNetworkCoursesIBMDeveloperSkillsNetworkDL0120ENSkillsNetwork954-2022-01-01\">logistic function</a>, also called logistic curve. It is a common \"S\" shape (sigmoid curve), and was first developed for modeling population growth.\n",
    "\n",
    "You might also have seen this function before, in another configuration:\n",
    "\n",
    "$$\n",
    "ProbabilityOfaClass = \\theta(y) = \\frac{1}{1+e^{-y}}\n",
    "$$\n",
    "\n",
    "So, briefly, Logistic Regression passes the input through the logistic/sigmoid function but then treats the result as a probability:\n",
    "\n",
    "<img src=\"https://ibm.box.com/shared/static/kgv9alcghmjcv97op4d6onkyxevk23b1.png\" width=\"400\" align=\"center\">\n"
   ]
  },
  {
   "cell_type": "markdown",
   "id": "c7da7e5a-735c-4732-90a4-583deeec081c",
   "metadata": {},
   "source": [
    "* * *\n"
   ]
  },
  {
   "cell_type": "markdown",
   "id": "439729eb-d88f-45b8-b1bf-ca81f06d7a45",
   "metadata": {},
   "source": [
    "<a id=\"ref2\"></a>\n",
    "\n",
    "<h2>Utilizing Logistic Regression in TensorFlow</h2>\n",
    "\n",
    "We begin by installing TensorFlow version 2.2.0 and its required prerequistes.\n"
   ]
  },
  {
   "cell_type": "code",
   "execution_count": 1,
   "id": "17ca94cf-b1a0-4a54-aaba-6b2e8f99e0ca",
   "metadata": {},
   "outputs": [
    {
     "name": "stdout",
     "output_type": "stream",
     "text": [
      "Collecting grpcio==1.24.3\n",
      "  Using cached grpcio-1.24.3.tar.gz (14.0 MB)\n",
      "  Preparing metadata (setup.py): started\n",
      "  Preparing metadata (setup.py): finished with status 'done'\n",
      "Requirement already satisfied: six>=1.5.2 in c:\\users\\erlangga\\anaconda3\\envs\\tensorflow\\lib\\site-packages (from grpcio==1.24.3) (1.16.0)\n",
      "Building wheels for collected packages: grpcio\n",
      "  Building wheel for grpcio (setup.py): started\n",
      "  Building wheel for grpcio (setup.py): finished with status 'error'\n",
      "  Running setup.py clean for grpcio\n",
      "Failed to build grpcio\n",
      "Installing collected packages: grpcio\n",
      "  Attempting uninstall: grpcio\n",
      "    Found existing installation: grpcio 1.42.0\n",
      "    Uninstalling grpcio-1.42.0:\n",
      "      Successfully uninstalled grpcio-1.42.0\n",
      "  Running setup.py install for grpcio: started\n",
      "  Running setup.py install for grpcio: finished with status 'error'\n",
      "  Rolling back uninstall of grpcio\n",
      "  Moving to c:\\users\\erlangga\\anaconda3\\envs\\tensorflow\\lib\\site-packages\\grpc\\\n",
      "   from C:\\Users\\Erlangga\\anaconda3\\envs\\tensorflow\\Lib\\site-packages\\~rpc\n",
      "  Moving to c:\\users\\erlangga\\anaconda3\\envs\\tensorflow\\lib\\site-packages\\grpcio-1.42.0.dist-info\\\n",
      "   from C:\\Users\\Erlangga\\anaconda3\\envs\\tensorflow\\Lib\\site-packages\\~rpcio-1.42.0.dist-info\n"
     ]
    },
    {
     "name": "stderr",
     "output_type": "stream",
     "text": [
      "  error: subprocess-exited-with-error\n",
      "  \n",
      "  python setup.py bdist_wheel did not run successfully.\n",
      "  exit code: 1\n",
      "  \n",
      "  [62 lines of output]\n",
      "  Found cython-generated files...\n",
      "  running bdist_wheel\n",
      "  running build\n",
      "  running build_py\n",
      "  running build_project_metadata\n",
      "  creating python_build\n",
      "  creating python_build\\lib.win-amd64-cpython-38\n",
      "  creating python_build\\lib.win-amd64-cpython-38\\grpc\n",
      "  copying src\\python\\grpcio\\grpc\\_auth.py -> python_build\\lib.win-amd64-cpython-38\\grpc\n",
      "  copying src\\python\\grpcio\\grpc\\_channel.py -> python_build\\lib.win-amd64-cpython-38\\grpc\n",
      "  copying src\\python\\grpcio\\grpc\\_common.py -> python_build\\lib.win-amd64-cpython-38\\grpc\n",
      "  copying src\\python\\grpcio\\grpc\\_compression.py -> python_build\\lib.win-amd64-cpython-38\\grpc\n",
      "  copying src\\python\\grpcio\\grpc\\_grpcio_metadata.py -> python_build\\lib.win-amd64-cpython-38\\grpc\n",
      "  copying src\\python\\grpcio\\grpc\\_interceptor.py -> python_build\\lib.win-amd64-cpython-38\\grpc\n",
      "  copying src\\python\\grpcio\\grpc\\_plugin_wrapping.py -> python_build\\lib.win-amd64-cpython-38\\grpc\n",
      "  copying src\\python\\grpcio\\grpc\\_server.py -> python_build\\lib.win-amd64-cpython-38\\grpc\n",
      "  copying src\\python\\grpcio\\grpc\\_utilities.py -> python_build\\lib.win-amd64-cpython-38\\grpc\n",
      "  copying src\\python\\grpcio\\grpc\\__init__.py -> python_build\\lib.win-amd64-cpython-38\\grpc\n",
      "  creating python_build\\lib.win-amd64-cpython-38\\grpc\\beta\n",
      "  copying src\\python\\grpcio\\grpc\\beta\\implementations.py -> python_build\\lib.win-amd64-cpython-38\\grpc\\beta\n",
      "  copying src\\python\\grpcio\\grpc\\beta\\interfaces.py -> python_build\\lib.win-amd64-cpython-38\\grpc\\beta\n",
      "  copying src\\python\\grpcio\\grpc\\beta\\utilities.py -> python_build\\lib.win-amd64-cpython-38\\grpc\\beta\n",
      "  copying src\\python\\grpcio\\grpc\\beta\\_client_adaptations.py -> python_build\\lib.win-amd64-cpython-38\\grpc\\beta\n",
      "  copying src\\python\\grpcio\\grpc\\beta\\_metadata.py -> python_build\\lib.win-amd64-cpython-38\\grpc\\beta\n",
      "  copying src\\python\\grpcio\\grpc\\beta\\_server_adaptations.py -> python_build\\lib.win-amd64-cpython-38\\grpc\\beta\n",
      "  copying src\\python\\grpcio\\grpc\\beta\\__init__.py -> python_build\\lib.win-amd64-cpython-38\\grpc\\beta\n",
      "  creating python_build\\lib.win-amd64-cpython-38\\grpc\\experimental\n",
      "  copying src\\python\\grpcio\\grpc\\experimental\\gevent.py -> python_build\\lib.win-amd64-cpython-38\\grpc\\experimental\n",
      "  copying src\\python\\grpcio\\grpc\\experimental\\session_cache.py -> python_build\\lib.win-amd64-cpython-38\\grpc\\experimental\n",
      "  copying src\\python\\grpcio\\grpc\\experimental\\__init__.py -> python_build\\lib.win-amd64-cpython-38\\grpc\\experimental\n",
      "  creating python_build\\lib.win-amd64-cpython-38\\grpc\\framework\n",
      "  copying src\\python\\grpcio\\grpc\\framework\\__init__.py -> python_build\\lib.win-amd64-cpython-38\\grpc\\framework\n",
      "  creating python_build\\lib.win-amd64-cpython-38\\grpc\\_cython\n",
      "  copying src\\python\\grpcio\\grpc\\_cython\\__init__.py -> python_build\\lib.win-amd64-cpython-38\\grpc\\_cython\n",
      "  creating python_build\\lib.win-amd64-cpython-38\\grpc\\framework\\common\n",
      "  copying src\\python\\grpcio\\grpc\\framework\\common\\cardinality.py -> python_build\\lib.win-amd64-cpython-38\\grpc\\framework\\common\n",
      "  copying src\\python\\grpcio\\grpc\\framework\\common\\style.py -> python_build\\lib.win-amd64-cpython-38\\grpc\\framework\\common\n",
      "  copying src\\python\\grpcio\\grpc\\framework\\common\\__init__.py -> python_build\\lib.win-amd64-cpython-38\\grpc\\framework\\common\n",
      "  creating python_build\\lib.win-amd64-cpython-38\\grpc\\framework\\foundation\n",
      "  copying src\\python\\grpcio\\grpc\\framework\\foundation\\abandonment.py -> python_build\\lib.win-amd64-cpython-38\\grpc\\framework\\foundation\n",
      "  copying src\\python\\grpcio\\grpc\\framework\\foundation\\callable_util.py -> python_build\\lib.win-amd64-cpython-38\\grpc\\framework\\foundation\n",
      "  copying src\\python\\grpcio\\grpc\\framework\\foundation\\future.py -> python_build\\lib.win-amd64-cpython-38\\grpc\\framework\\foundation\n",
      "  copying src\\python\\grpcio\\grpc\\framework\\foundation\\logging_pool.py -> python_build\\lib.win-amd64-cpython-38\\grpc\\framework\\foundation\n",
      "  copying src\\python\\grpcio\\grpc\\framework\\foundation\\stream.py -> python_build\\lib.win-amd64-cpython-38\\grpc\\framework\\foundation\n",
      "  copying src\\python\\grpcio\\grpc\\framework\\foundation\\stream_util.py -> python_build\\lib.win-amd64-cpython-38\\grpc\\framework\\foundation\n",
      "  copying src\\python\\grpcio\\grpc\\framework\\foundation\\__init__.py -> python_build\\lib.win-amd64-cpython-38\\grpc\\framework\\foundation\n",
      "  creating python_build\\lib.win-amd64-cpython-38\\grpc\\framework\\interfaces\n",
      "  copying src\\python\\grpcio\\grpc\\framework\\interfaces\\__init__.py -> python_build\\lib.win-amd64-cpython-38\\grpc\\framework\\interfaces\n",
      "  creating python_build\\lib.win-amd64-cpython-38\\grpc\\framework\\interfaces\\base\n",
      "  copying src\\python\\grpcio\\grpc\\framework\\interfaces\\base\\base.py -> python_build\\lib.win-amd64-cpython-38\\grpc\\framework\\interfaces\\base\n",
      "  copying src\\python\\grpcio\\grpc\\framework\\interfaces\\base\\utilities.py -> python_build\\lib.win-amd64-cpython-38\\grpc\\framework\\interfaces\\base\n",
      "  copying src\\python\\grpcio\\grpc\\framework\\interfaces\\base\\__init__.py -> python_build\\lib.win-amd64-cpython-38\\grpc\\framework\\interfaces\\base\n",
      "  creating python_build\\lib.win-amd64-cpython-38\\grpc\\framework\\interfaces\\face\n",
      "  copying src\\python\\grpcio\\grpc\\framework\\interfaces\\face\\face.py -> python_build\\lib.win-amd64-cpython-38\\grpc\\framework\\interfaces\\face\n",
      "  copying src\\python\\grpcio\\grpc\\framework\\interfaces\\face\\utilities.py -> python_build\\lib.win-amd64-cpython-38\\grpc\\framework\\interfaces\\face\n",
      "  copying src\\python\\grpcio\\grpc\\framework\\interfaces\\face\\__init__.py -> python_build\\lib.win-amd64-cpython-38\\grpc\\framework\\interfaces\\face\n",
      "  creating python_build\\lib.win-amd64-cpython-38\\grpc\\_cython\\_cygrpc\n",
      "  copying src\\python\\grpcio\\grpc\\_cython\\_cygrpc\\__init__.py -> python_build\\lib.win-amd64-cpython-38\\grpc\\_cython\\_cygrpc\n",
      "  creating python_build\\lib.win-amd64-cpython-38\\grpc\\_cython\\_credentials\n",
      "  copying src\\python\\grpcio\\grpc\\_cython\\_credentials\\roots.pem -> python_build\\lib.win-amd64-cpython-38\\grpc\\_cython\\_credentials\n",
      "  running build_ext\n",
      "  error: [WinError 2] The system cannot find the file specified\n",
      "  [end of output]\n",
      "  \n",
      "  note: This error originates from a subprocess, and is likely not a problem with pip.\n",
      "  ERROR: Failed building wheel for grpcio\n",
      "  error: subprocess-exited-with-error\n",
      "  \n",
      "  Running setup.py install for grpcio did not run successfully.\n",
      "  exit code: 1\n",
      "  \n",
      "  [64 lines of output]\n",
      "  Found cython-generated files...\n",
      "  running install\n",
      "  C:\\Users\\Erlangga\\anaconda3\\envs\\tensorflow\\lib\\site-packages\\setuptools\\command\\install.py:34: SetuptoolsDeprecationWarning: setup.py install is deprecated. Use build and pip and other standards-based tools.\n",
      "    warnings.warn(\n",
      "  running build\n",
      "  running build_py\n",
      "  running build_project_metadata\n",
      "  creating python_build\n",
      "  creating python_build\\lib.win-amd64-cpython-38\n",
      "  creating python_build\\lib.win-amd64-cpython-38\\grpc\n",
      "  copying src\\python\\grpcio\\grpc\\_auth.py -> python_build\\lib.win-amd64-cpython-38\\grpc\n",
      "  copying src\\python\\grpcio\\grpc\\_channel.py -> python_build\\lib.win-amd64-cpython-38\\grpc\n",
      "  copying src\\python\\grpcio\\grpc\\_common.py -> python_build\\lib.win-amd64-cpython-38\\grpc\n",
      "  copying src\\python\\grpcio\\grpc\\_compression.py -> python_build\\lib.win-amd64-cpython-38\\grpc\n",
      "  copying src\\python\\grpcio\\grpc\\_grpcio_metadata.py -> python_build\\lib.win-amd64-cpython-38\\grpc\n",
      "  copying src\\python\\grpcio\\grpc\\_interceptor.py -> python_build\\lib.win-amd64-cpython-38\\grpc\n",
      "  copying src\\python\\grpcio\\grpc\\_plugin_wrapping.py -> python_build\\lib.win-amd64-cpython-38\\grpc\n",
      "  copying src\\python\\grpcio\\grpc\\_server.py -> python_build\\lib.win-amd64-cpython-38\\grpc\n",
      "  copying src\\python\\grpcio\\grpc\\_utilities.py -> python_build\\lib.win-amd64-cpython-38\\grpc\n",
      "  copying src\\python\\grpcio\\grpc\\__init__.py -> python_build\\lib.win-amd64-cpython-38\\grpc\n",
      "  creating python_build\\lib.win-amd64-cpython-38\\grpc\\beta\n",
      "  copying src\\python\\grpcio\\grpc\\beta\\implementations.py -> python_build\\lib.win-amd64-cpython-38\\grpc\\beta\n",
      "  copying src\\python\\grpcio\\grpc\\beta\\interfaces.py -> python_build\\lib.win-amd64-cpython-38\\grpc\\beta\n",
      "  copying src\\python\\grpcio\\grpc\\beta\\utilities.py -> python_build\\lib.win-amd64-cpython-38\\grpc\\beta\n",
      "  copying src\\python\\grpcio\\grpc\\beta\\_client_adaptations.py -> python_build\\lib.win-amd64-cpython-38\\grpc\\beta\n",
      "  copying src\\python\\grpcio\\grpc\\beta\\_metadata.py -> python_build\\lib.win-amd64-cpython-38\\grpc\\beta\n",
      "  copying src\\python\\grpcio\\grpc\\beta\\_server_adaptations.py -> python_build\\lib.win-amd64-cpython-38\\grpc\\beta\n",
      "  copying src\\python\\grpcio\\grpc\\beta\\__init__.py -> python_build\\lib.win-amd64-cpython-38\\grpc\\beta\n",
      "  creating python_build\\lib.win-amd64-cpython-38\\grpc\\experimental\n",
      "  copying src\\python\\grpcio\\grpc\\experimental\\gevent.py -> python_build\\lib.win-amd64-cpython-38\\grpc\\experimental\n",
      "  copying src\\python\\grpcio\\grpc\\experimental\\session_cache.py -> python_build\\lib.win-amd64-cpython-38\\grpc\\experimental\n",
      "  copying src\\python\\grpcio\\grpc\\experimental\\__init__.py -> python_build\\lib.win-amd64-cpython-38\\grpc\\experimental\n",
      "  creating python_build\\lib.win-amd64-cpython-38\\grpc\\framework\n",
      "  copying src\\python\\grpcio\\grpc\\framework\\__init__.py -> python_build\\lib.win-amd64-cpython-38\\grpc\\framework\n",
      "  creating python_build\\lib.win-amd64-cpython-38\\grpc\\_cython\n",
      "  copying src\\python\\grpcio\\grpc\\_cython\\__init__.py -> python_build\\lib.win-amd64-cpython-38\\grpc\\_cython\n",
      "  creating python_build\\lib.win-amd64-cpython-38\\grpc\\framework\\common\n",
      "  copying src\\python\\grpcio\\grpc\\framework\\common\\cardinality.py -> python_build\\lib.win-amd64-cpython-38\\grpc\\framework\\common\n",
      "  copying src\\python\\grpcio\\grpc\\framework\\common\\style.py -> python_build\\lib.win-amd64-cpython-38\\grpc\\framework\\common\n",
      "  copying src\\python\\grpcio\\grpc\\framework\\common\\__init__.py -> python_build\\lib.win-amd64-cpython-38\\grpc\\framework\\common\n",
      "  creating python_build\\lib.win-amd64-cpython-38\\grpc\\framework\\foundation\n",
      "  copying src\\python\\grpcio\\grpc\\framework\\foundation\\abandonment.py -> python_build\\lib.win-amd64-cpython-38\\grpc\\framework\\foundation\n",
      "  copying src\\python\\grpcio\\grpc\\framework\\foundation\\callable_util.py -> python_build\\lib.win-amd64-cpython-38\\grpc\\framework\\foundation\n",
      "  copying src\\python\\grpcio\\grpc\\framework\\foundation\\future.py -> python_build\\lib.win-amd64-cpython-38\\grpc\\framework\\foundation\n",
      "  copying src\\python\\grpcio\\grpc\\framework\\foundation\\logging_pool.py -> python_build\\lib.win-amd64-cpython-38\\grpc\\framework\\foundation\n",
      "  copying src\\python\\grpcio\\grpc\\framework\\foundation\\stream.py -> python_build\\lib.win-amd64-cpython-38\\grpc\\framework\\foundation\n",
      "  copying src\\python\\grpcio\\grpc\\framework\\foundation\\stream_util.py -> python_build\\lib.win-amd64-cpython-38\\grpc\\framework\\foundation\n",
      "  copying src\\python\\grpcio\\grpc\\framework\\foundation\\__init__.py -> python_build\\lib.win-amd64-cpython-38\\grpc\\framework\\foundation\n",
      "  creating python_build\\lib.win-amd64-cpython-38\\grpc\\framework\\interfaces\n",
      "  copying src\\python\\grpcio\\grpc\\framework\\interfaces\\__init__.py -> python_build\\lib.win-amd64-cpython-38\\grpc\\framework\\interfaces\n",
      "  creating python_build\\lib.win-amd64-cpython-38\\grpc\\framework\\interfaces\\base\n",
      "  copying src\\python\\grpcio\\grpc\\framework\\interfaces\\base\\base.py -> python_build\\lib.win-amd64-cpython-38\\grpc\\framework\\interfaces\\base\n",
      "  copying src\\python\\grpcio\\grpc\\framework\\interfaces\\base\\utilities.py -> python_build\\lib.win-amd64-cpython-38\\grpc\\framework\\interfaces\\base\n",
      "  copying src\\python\\grpcio\\grpc\\framework\\interfaces\\base\\__init__.py -> python_build\\lib.win-amd64-cpython-38\\grpc\\framework\\interfaces\\base\n",
      "  creating python_build\\lib.win-amd64-cpython-38\\grpc\\framework\\interfaces\\face\n",
      "  copying src\\python\\grpcio\\grpc\\framework\\interfaces\\face\\face.py -> python_build\\lib.win-amd64-cpython-38\\grpc\\framework\\interfaces\\face\n",
      "  copying src\\python\\grpcio\\grpc\\framework\\interfaces\\face\\utilities.py -> python_build\\lib.win-amd64-cpython-38\\grpc\\framework\\interfaces\\face\n",
      "  copying src\\python\\grpcio\\grpc\\framework\\interfaces\\face\\__init__.py -> python_build\\lib.win-amd64-cpython-38\\grpc\\framework\\interfaces\\face\n",
      "  creating python_build\\lib.win-amd64-cpython-38\\grpc\\_cython\\_cygrpc\n",
      "  copying src\\python\\grpcio\\grpc\\_cython\\_cygrpc\\__init__.py -> python_build\\lib.win-amd64-cpython-38\\grpc\\_cython\\_cygrpc\n",
      "  creating python_build\\lib.win-amd64-cpython-38\\grpc\\_cython\\_credentials\n",
      "  copying src\\python\\grpcio\\grpc\\_cython\\_credentials\\roots.pem -> python_build\\lib.win-amd64-cpython-38\\grpc\\_cython\\_credentials\n",
      "  running build_ext\n",
      "  error: [WinError 2] The system cannot find the file specified\n",
      "  [end of output]\n",
      "  \n",
      "  note: This error originates from a subprocess, and is likely not a problem with pip.\n",
      "error: legacy-install-failure\n",
      "\n",
      "Encountered error while trying to install package.\n",
      "\n",
      "grpcio\n",
      "\n",
      "note: This is an issue with the package mentioned above, not pip.\n",
      "hint: See above for output from the failure.\n"
     ]
    },
    {
     "name": "stdout",
     "output_type": "stream",
     "text": [
      "Requirement already satisfied: tensorflow==2.2.0 in c:\\users\\erlangga\\anaconda3\\envs\\tensorflow\\lib\\site-packages (2.2.0)\n",
      "Requirement already satisfied: opt-einsum>=2.3.2 in c:\\users\\erlangga\\anaconda3\\envs\\tensorflow\\lib\\site-packages (from tensorflow==2.2.0) (3.3.0)\n",
      "Requirement already satisfied: gast==0.3.3 in c:\\users\\erlangga\\anaconda3\\envs\\tensorflow\\lib\\site-packages (from tensorflow==2.2.0) (0.3.3)\n",
      "Requirement already satisfied: wrapt>=1.11.1 in c:\\users\\erlangga\\anaconda3\\envs\\tensorflow\\lib\\site-packages (from tensorflow==2.2.0) (1.14.1)\n",
      "Requirement already satisfied: astunparse==1.6.3 in c:\\users\\erlangga\\anaconda3\\envs\\tensorflow\\lib\\site-packages (from tensorflow==2.2.0) (1.6.3)\n",
      "Requirement already satisfied: six>=1.12.0 in c:\\users\\erlangga\\anaconda3\\envs\\tensorflow\\lib\\site-packages (from tensorflow==2.2.0) (1.16.0)\n",
      "Requirement already satisfied: wheel>=0.26 in c:\\users\\erlangga\\anaconda3\\envs\\tensorflow\\lib\\site-packages (from tensorflow==2.2.0) (0.37.1)\n",
      "Requirement already satisfied: protobuf>=3.8.0 in c:\\users\\erlangga\\anaconda3\\envs\\tensorflow\\lib\\site-packages (from tensorflow==2.2.0) (3.20.1)\n",
      "Requirement already satisfied: h5py<2.11.0,>=2.10.0 in c:\\users\\erlangga\\anaconda3\\envs\\tensorflow\\lib\\site-packages (from tensorflow==2.2.0) (2.10.0)\n",
      "Requirement already satisfied: absl-py>=0.7.0 in c:\\users\\erlangga\\anaconda3\\envs\\tensorflow\\lib\\site-packages (from tensorflow==2.2.0) (1.3.0)\n",
      "Requirement already satisfied: tensorboard<2.3.0,>=2.2.0 in c:\\users\\erlangga\\anaconda3\\envs\\tensorflow\\lib\\site-packages (from tensorflow==2.2.0) (2.2.2)\n",
      "Requirement already satisfied: grpcio>=1.8.6 in c:\\users\\erlangga\\anaconda3\\envs\\tensorflow\\lib\\site-packages (from tensorflow==2.2.0) (1.42.0)\n",
      "Requirement already satisfied: keras-preprocessing>=1.1.0 in c:\\users\\erlangga\\anaconda3\\envs\\tensorflow\\lib\\site-packages (from tensorflow==2.2.0) (1.1.2)\n",
      "Requirement already satisfied: numpy<2.0,>=1.16.0 in c:\\users\\erlangga\\anaconda3\\envs\\tensorflow\\lib\\site-packages (from tensorflow==2.2.0) (1.21.5)\n",
      "Requirement already satisfied: termcolor>=1.1.0 in c:\\users\\erlangga\\anaconda3\\envs\\tensorflow\\lib\\site-packages (from tensorflow==2.2.0) (2.1.0)\n",
      "Requirement already satisfied: scipy==1.4.1 in c:\\users\\erlangga\\anaconda3\\envs\\tensorflow\\lib\\site-packages (from tensorflow==2.2.0) (1.4.1)\n",
      "Requirement already satisfied: google-pasta>=0.1.8 in c:\\users\\erlangga\\anaconda3\\envs\\tensorflow\\lib\\site-packages (from tensorflow==2.2.0) (0.2.0)\n",
      "Requirement already satisfied: tensorflow-estimator<2.3.0,>=2.2.0 in c:\\users\\erlangga\\anaconda3\\envs\\tensorflow\\lib\\site-packages (from tensorflow==2.2.0) (2.2.0)\n",
      "Requirement already satisfied: tensorboard-plugin-wit>=1.6.0 in c:\\users\\erlangga\\anaconda3\\envs\\tensorflow\\lib\\site-packages (from tensorboard<2.3.0,>=2.2.0->tensorflow==2.2.0) (1.8.1)\n",
      "Requirement already satisfied: werkzeug>=0.11.15 in c:\\users\\erlangga\\anaconda3\\envs\\tensorflow\\lib\\site-packages (from tensorboard<2.3.0,>=2.2.0->tensorflow==2.2.0) (2.0.3)\n",
      "Requirement already satisfied: markdown>=2.6.8 in c:\\users\\erlangga\\anaconda3\\envs\\tensorflow\\lib\\site-packages (from tensorboard<2.3.0,>=2.2.0->tensorflow==2.2.0) (3.3.4)\n",
      "Requirement already satisfied: setuptools>=41.0.0 in c:\\users\\erlangga\\anaconda3\\envs\\tensorflow\\lib\\site-packages (from tensorboard<2.3.0,>=2.2.0->tensorflow==2.2.0) (65.5.0)\n",
      "Requirement already satisfied: requests<3,>=2.21.0 in c:\\users\\erlangga\\anaconda3\\envs\\tensorflow\\lib\\site-packages (from tensorboard<2.3.0,>=2.2.0->tensorflow==2.2.0) (2.28.1)\n",
      "Requirement already satisfied: google-auth<2,>=1.6.3 in c:\\users\\erlangga\\anaconda3\\envs\\tensorflow\\lib\\site-packages (from tensorboard<2.3.0,>=2.2.0->tensorflow==2.2.0) (1.35.0)\n",
      "Requirement already satisfied: google-auth-oauthlib<0.5,>=0.4.1 in c:\\users\\erlangga\\anaconda3\\envs\\tensorflow\\lib\\site-packages (from tensorboard<2.3.0,>=2.2.0->tensorflow==2.2.0) (0.4.4)\n",
      "Requirement already satisfied: rsa<5,>=3.1.4 in c:\\users\\erlangga\\anaconda3\\envs\\tensorflow\\lib\\site-packages (from google-auth<2,>=1.6.3->tensorboard<2.3.0,>=2.2.0->tensorflow==2.2.0) (4.7.2)\n",
      "Requirement already satisfied: pyasn1-modules>=0.2.1 in c:\\users\\erlangga\\anaconda3\\envs\\tensorflow\\lib\\site-packages (from google-auth<2,>=1.6.3->tensorboard<2.3.0,>=2.2.0->tensorflow==2.2.0) (0.2.8)\n",
      "Requirement already satisfied: cachetools<5.0,>=2.0.0 in c:\\users\\erlangga\\anaconda3\\envs\\tensorflow\\lib\\site-packages (from google-auth<2,>=1.6.3->tensorboard<2.3.0,>=2.2.0->tensorflow==2.2.0) (4.2.2)\n",
      "Requirement already satisfied: requests-oauthlib>=0.7.0 in c:\\users\\erlangga\\anaconda3\\envs\\tensorflow\\lib\\site-packages (from google-auth-oauthlib<0.5,>=0.4.1->tensorboard<2.3.0,>=2.2.0->tensorflow==2.2.0) (1.3.0)\n",
      "Requirement already satisfied: idna<4,>=2.5 in c:\\users\\erlangga\\anaconda3\\envs\\tensorflow\\lib\\site-packages (from requests<3,>=2.21.0->tensorboard<2.3.0,>=2.2.0->tensorflow==2.2.0) (3.4)\n",
      "Requirement already satisfied: certifi>=2017.4.17 in c:\\users\\erlangga\\anaconda3\\envs\\tensorflow\\lib\\site-packages (from requests<3,>=2.21.0->tensorboard<2.3.0,>=2.2.0->tensorflow==2.2.0) (2022.9.24)\n",
      "Requirement already satisfied: urllib3<1.27,>=1.21.1 in c:\\users\\erlangga\\anaconda3\\envs\\tensorflow\\lib\\site-packages (from requests<3,>=2.21.0->tensorboard<2.3.0,>=2.2.0->tensorflow==2.2.0) (1.26.13)\n",
      "Requirement already satisfied: charset-normalizer<3,>=2 in c:\\users\\erlangga\\anaconda3\\envs\\tensorflow\\lib\\site-packages (from requests<3,>=2.21.0->tensorboard<2.3.0,>=2.2.0->tensorflow==2.2.0) (2.0.4)\n",
      "Requirement already satisfied: pyasn1<0.5.0,>=0.4.6 in c:\\users\\erlangga\\anaconda3\\envs\\tensorflow\\lib\\site-packages (from pyasn1-modules>=0.2.1->google-auth<2,>=1.6.3->tensorboard<2.3.0,>=2.2.0->tensorflow==2.2.0) (0.4.8)\n",
      "Requirement already satisfied: oauthlib>=3.0.0 in c:\\users\\erlangga\\anaconda3\\envs\\tensorflow\\lib\\site-packages (from requests-oauthlib>=0.7.0->google-auth-oauthlib<0.5,>=0.4.1->tensorboard<2.3.0,>=2.2.0->tensorflow==2.2.0) (3.2.1)\n"
     ]
    }
   ],
   "source": [
    "!pip install grpcio==1.24.3\n",
    "!pip install tensorflow==2.2.0"
   ]
  },
  {
   "cell_type": "markdown",
   "id": "f3790ff9-ef5d-408d-abc2-1c296f9f48a3",
   "metadata": {},
   "source": [
    "**Restart kernel for latest version of TensorFlow to be activated, then continue to the next step.**\n"
   ]
  },
  {
   "cell_type": "markdown",
   "id": "5a10c8da-07c2-43f5-a176-44fe981acb12",
   "metadata": {},
   "source": [
    "For us to utilize Logistic Regression in TensorFlow, we first need to import the required libraries. To do so, you can run the code cell below.\n"
   ]
  },
  {
   "cell_type": "code",
   "execution_count": 5,
   "metadata": {},
   "outputs": [
    {
     "name": "stdout",
     "output_type": "stream",
     "text": [
      "Collecting scikit-learn\n",
      "  Downloading scikit_learn-1.2.0-cp38-cp38-win_amd64.whl (8.2 MB)\n",
      "     ---------------------------------------- 8.2/8.2 MB 1.7 MB/s eta 0:00:00\n",
      "Requirement already satisfied: numpy>=1.17.3 in c:\\users\\erlangga\\anaconda3\\envs\\tensorflow\\lib\\site-packages (from scikit-learn) (1.21.5)\n",
      "Collecting threadpoolctl>=2.0.0\n",
      "  Downloading threadpoolctl-3.1.0-py3-none-any.whl (14 kB)\n",
      "Requirement already satisfied: scipy>=1.3.2 in c:\\users\\erlangga\\anaconda3\\envs\\tensorflow\\lib\\site-packages (from scikit-learn) (1.4.1)\n",
      "Collecting joblib>=1.1.1\n",
      "  Downloading joblib-1.2.0-py3-none-any.whl (297 kB)\n",
      "     -------------------------------------- 298.0/298.0 kB 1.2 MB/s eta 0:00:00\n",
      "Installing collected packages: threadpoolctl, joblib, scikit-learn\n",
      "Successfully installed joblib-1.2.0 scikit-learn-1.2.0 threadpoolctl-3.1.0\n"
     ]
    }
   ],
   "source": [
    "!pip install scikit-learn"
   ]
  },
  {
   "cell_type": "code",
   "execution_count": 6,
   "id": "f610bf36-5226-4668-b882-d3a340a79dbf",
   "metadata": {},
   "outputs": [],
   "source": [
    "import tensorflow as tf\n",
    "import pandas as pd\n",
    "import numpy as np\n",
    "import time\n",
    "from sklearn.datasets import load_iris\n",
    "from sklearn.model_selection import train_test_split\n",
    "import matplotlib.pyplot as plt"
   ]
  },
  {
   "cell_type": "code",
   "execution_count": 7,
   "id": "aa832052-44e4-4e88-99ff-c775cf81560c",
   "metadata": {},
   "outputs": [],
   "source": [
    "if not tf.__version__ == '2.2.0':\n",
    "    print(tf.__version__)\n",
    "    raise ValueError('please upgrade to TensorFlow 2.2.0, or restart your Kernel (Kernel->Restart & Clear Output)')"
   ]
  },
  {
   "cell_type": "markdown",
   "id": "e9f145a0-42f6-405a-ac4b-ffb73c808f5f",
   "metadata": {},
   "source": [
    "IMPORTANT! => Please restart the kernel by clicking on \"Kernel\"->\"Restart and Clear Outout\" and wait until all output disapears. Then your changes will be picked up.\n",
    "\n",
    "After you have restarted the kernel, re-run the previous two cells to import the libraries properly and then continue to the next section.\n"
   ]
  },
  {
   "cell_type": "markdown",
   "id": "6a039b26-6bfe-412d-8d83-c789a2150df0",
   "metadata": {},
   "source": [
    "Next, we will load the dataset we are going to use. In this case, we are utilizing the <code>iris</code> dataset, which is inbuilt -- so there's no need to do any preprocessing and we can jump right into manipulating it. We separate the dataset into <i>xs</i> and <i>ys</i>, and then into training <i>xs</i> and <i>ys</i> and testing <i>xs</i> and <i>ys</i>, (pseudo)randomly.\n"
   ]
  },
  {
   "cell_type": "markdown",
   "id": "dc7cab9f-e1c4-4b12-ad49-7ae5a10791ea",
   "metadata": {},
   "source": [
    "<h3>Understanding the Data</h3>\n",
    "\n",
    "<h4><code>Iris Dataset</code>:</h4>\n",
    "This dataset was introduced by British Statistician and Biologist Ronald Fisher, it consists of 50 samples from each of three species of Iris (Iris setosa, Iris virginica and Iris versicolor). In total it has 150 records under five attributes - petal length, petal width, sepal length, sepal width and species. <a href=\"https://archive.ics.uci.edu/ml/datasets/iris?utm_medium=Exinfluencer&utm_source=Exinfluencer&utm_content=000026UJ&utm_term=10006555&utm_id=NA-SkillsNetwork-Channel-SkillsNetworkCoursesIBMDeveloperSkillsNetworkDL0120ENSkillsNetwork954-2022-01-01\">Dataset source</a>\n",
    "\n",
    "Attributes\n",
    "Independent Variable\n",
    "\n",
    "<ul>\n",
    "    <li>petal length</li>\n",
    "    <li>petal width</li>\n",
    "    <li>sepal length</li>\n",
    "    <li>sepal width</li>\n",
    "</ul>\n",
    "Dependent Variable\n",
    "<ul>    \n",
    "    <li>Species\n",
    "        <ul>\n",
    "            <li>Iris setosa</li>\n",
    "            <li>Iris virginica</li>\n",
    "            <li>Iris versicolor</li>\n",
    "        </ul>\n",
    "    </li>\n",
    "</ul>\n",
    "<br>\n"
   ]
  },
  {
   "cell_type": "code",
   "execution_count": 8,
   "id": "e9f86394-0ad1-41c6-8039-633d0796a49b",
   "metadata": {},
   "outputs": [],
   "source": [
    "iris = load_iris()\n",
    "iris_X, iris_y = iris.data[:-1,:], iris.target[:-1]\n",
    "iris_y= pd.get_dummies(iris_y).values\n",
    "trainX, testX, trainY, testY = train_test_split(iris_X, iris_y, test_size=0.33, random_state=42)"
   ]
  },
  {
   "cell_type": "markdown",
   "id": "38c15084-e87b-4ad8-a7ad-15eb06bcb032",
   "metadata": {},
   "source": [
    "Now we define x and y. These variables will hold our iris data (both the features and label matrices) We also need to give them shapes which correspond to the shape of our data. \n"
   ]
  },
  {
   "cell_type": "code",
   "execution_count": 9,
   "id": "d1a41354-31a0-497f-aa41-2cc89bc4e21e",
   "metadata": {},
   "outputs": [
    {
     "name": "stdout",
     "output_type": "stream",
     "text": [
      "numFeatures is :  4\n",
      "numLabels is :  3\n"
     ]
    }
   ],
   "source": [
    "# numFeatures is the number of features in our input data.\n",
    "# In the iris dataset, this number is '4'.\n",
    "numFeatures = trainX.shape[1]\n",
    "print('numFeatures is : ', numFeatures )\n",
    "# numLabels is the number of classes our data points can be in.\n",
    "# In the iris dataset, this number is '3'.\n",
    "numLabels = trainY.shape[1]\n",
    "print('numLabels is : ', numLabels )\n",
    "\n",
    "#X = tf.Variable( np.identity(numFeatures), tf.TensorShape(numFeatures),dtype='float32') # Iris has 4 features, so X is a tensor to hold our data.\n",
    "#yGold = tf.Variable(np.array([1,1,1]),shape=tf.TensorShape(numLabels),dtype='float32') # This will be our correct answers matrix for 3 classes."
   ]
  },
  {
   "cell_type": "code",
   "execution_count": 10,
   "id": "e169567a-7770-4be9-8c3a-6e40b68a40d3",
   "metadata": {},
   "outputs": [],
   "source": [
    "trainX = tf.constant(trainX, dtype='float32')\n",
    "trainY = tf.constant(trainY, dtype='float32')\n",
    "testX = tf.constant(testX, dtype='float32')\n",
    "testY = tf.constant(testY, dtype='float32')"
   ]
  },
  {
   "cell_type": "markdown",
   "id": "7911eb6b-335b-4204-a96c-862d0e5cd873",
   "metadata": {},
   "source": [
    "<h3>Set model weights and bias</h3>\n",
    "\n",
    "Much like Linear Regression, we need a shared variable weight matrix for Logistic Regression. We initialize both <code>W</code> and <code>b</code> as tensors full of zeros. Since we are going to learn <code>W</code> and <code>b</code>, their initial value does not matter too much. These variables are the objects which define the structure of our regression model, and we can save them after they have been trained so we can reuse them later.\n",
    "\n",
    "We define two TensorFlow variables as our parameters. These variables will hold the weights and biases of our logistic regression and they will be continually updated during training. \n",
    "\n",
    "Notice that <code>W</code> has a shape of [4, 3] because we want to multiply the 4-dimensional input vectors by it to produce 3-dimensional vectors of evidence for the difference classes. <code>b</code> has a shape of [3] so we can add it to the output. TensorFlow variables need to be initialized with values, e.g. with zeros.\n"
   ]
  },
  {
   "cell_type": "code",
   "execution_count": 11,
   "id": "83ab1fd6-b721-4e14-ac6f-78e53a723e20",
   "metadata": {},
   "outputs": [],
   "source": [
    "W = tf.Variable(tf.zeros([4, 3]))  # 4-dimensional input and  3 classes\n",
    "b = tf.Variable(tf.zeros([3])) # 3-dimensional output [0,0,1],[0,1,0],[1,0,0]"
   ]
  },
  {
   "cell_type": "code",
   "execution_count": 12,
   "id": "b7daf7c8-f9de-409f-b22d-00c0417c9195",
   "metadata": {},
   "outputs": [],
   "source": [
    "#Randomly sample from a normal distribution with standard deviation .01\n",
    "\n",
    "weights = tf.Variable(tf.random.normal([numFeatures,numLabels],\n",
    "                                       mean=0.,\n",
    "                                       stddev=0.01,\n",
    "                                       name=\"weights\"),dtype='float32')\n",
    "\n",
    "\n",
    "bias = tf.Variable(tf.random.normal([1,numLabels],\n",
    "                                    mean=0.,\n",
    "                                    stddev=0.01,\n",
    "                                    name=\"bias\"))\n"
   ]
  },
  {
   "cell_type": "markdown",
   "id": "bd1f6b75-ba54-45db-b0b5-c16b72486ae4",
   "metadata": {},
   "source": [
    "<h3>Logistic Regression model</h3>\n",
    "\n",
    "We now define our operations in order to properly run the Logistic Regression. Logistic regression is typically thought of as a single equation:\n",
    "\n",
    "$$\n",
    "ŷ =sigmoid(WX+b)\n",
    "$$\n",
    "\n",
    "However, for the sake of clarity, we can have it broken into its three main components: \n",
    "\n",
    "-   a weight times features matrix multiplication operation, \n",
    "-   a summation of the weighted features and a bias term, \n",
    "-   and finally the application of a sigmoid function. \n",
    "\n",
    "As such, you will find these components defined as three separate operations below.\n"
   ]
  },
  {
   "cell_type": "code",
   "execution_count": 13,
   "id": "790bf728-0e80-4d90-abca-3327ef765baf",
   "metadata": {},
   "outputs": [],
   "source": [
    "# Three-component breakdown of the Logistic Regression equation.\n",
    "# Note that these feed into each other.\n",
    "def logistic_regression(x):\n",
    "    apply_weights_OP = tf.matmul(x, weights, name=\"apply_weights\")\n",
    "    add_bias_OP = tf.add(apply_weights_OP, bias, name=\"add_bias\") \n",
    "    activation_OP = tf.nn.sigmoid(add_bias_OP, name=\"activation\")\n",
    "    return activation_OP"
   ]
  },
  {
   "cell_type": "markdown",
   "id": "77ef8d84-04d3-471f-9c42-d37c58b48a1c",
   "metadata": {},
   "source": [
    "As we have seen before, the function we are going to use is the <i>logistic function</i> $(\\frac{1}{1+e^{-Wx}})$, which is fed the input data after applying weights and bias. In TensorFlow, this function is implemented as the <code>nn.sigmoid</code> function. Effectively, this fits the weighted input with bias into a 0-100 percent curve, which is the probability function we want.\n"
   ]
  },
  {
   "cell_type": "markdown",
   "id": "a0679666-60f0-4931-a6ca-6a1ceca6aab9",
   "metadata": {},
   "source": [
    "<hr>\n"
   ]
  },
  {
   "cell_type": "markdown",
   "id": "a8f5c7a6-c515-4c54-975d-76cf800f1787",
   "metadata": {},
   "source": [
    "<a id=\"ref3\"></a>\n",
    "\n",
    "<h2>Training</h2>\n",
    "\n",
    "The learning algorithm is how we search for the best weight vector (${\\\\\\\\bf w}$). This search is an optimization problem looking for the hypothesis that optimizes an error/cost measure.\n",
    "\n",
    "<b>What tells us that our model is bad?</b>  \n",
    "The Cost or Loss of the model, so what we want is to minimize that. \n",
    "\n",
    "<h3>Cost function</h3>\n",
    "Before defining our cost function, we need to define how long we are going to train and how should we define the learning rate.\n"
   ]
  },
  {
   "cell_type": "code",
   "execution_count": 14,
   "id": "0eae068e-6165-4fe6-9fa7-2e250f5cb0dc",
   "metadata": {},
   "outputs": [],
   "source": [
    "# Number of Epochs in our training\n",
    "numEpochs = 700\n",
    "\n",
    "# Defining our learning rate iterations (decay)\n",
    "learningRate = tf.keras.optimizers.schedules.ExponentialDecay(initial_learning_rate=0.0008,\n",
    "                                          decay_steps=trainX.shape[0],\n",
    "                                          decay_rate= 0.95,\n",
    "                                          staircase=True)"
   ]
  },
  {
   "cell_type": "markdown",
   "id": "3f748774-e375-4bdc-b348-40d508474a5d",
   "metadata": {},
   "source": [
    "<b>What is the cost function in our model?</b>  \n",
    "The cost function we are going to utilize is the Squared Mean Error loss function.\n",
    "\n",
    "<b>How to minimize the cost function?</b>  \n",
    "We can't use <b>least-squares linear regression</b> here, so we will use <a href=\"http://en.wikipedia.org/wiki/Gradient_descent?utm_medium=Exinfluencer&utm_source=Exinfluencer&utm_content=000026UJ&utm_term=10006555&utm_id=NA-SkillsNetwork-Channel-SkillsNetworkCoursesIBMDeveloperSkillsNetworkDL0120ENSkillsNetwork954-2022-01-01\">gradient descent</a> instead. Specifically, we will use batch gradient descent which calculates the gradient from all data points in the data set.\n"
   ]
  },
  {
   "cell_type": "code",
   "execution_count": 15,
   "id": "7ab9c369-772f-4a59-86a7-4ba384c28ec2",
   "metadata": {},
   "outputs": [],
   "source": [
    "#Defining our cost function - Squared Mean Error\n",
    "loss_object = tf.keras.losses.MeanSquaredLogarithmicError()\n",
    "optimizer = tf.keras.optimizers.SGD(learningRate)"
   ]
  },
  {
   "cell_type": "markdown",
   "id": "fae0c02b-9a4e-4e43-b46d-82a26d56a73f",
   "metadata": {},
   "source": [
    "We also want some additional operations to keep track of our model's efficiency over time. We can do this like so:\n"
   ]
  },
  {
   "cell_type": "code",
   "execution_count": 16,
   "id": "563fa1db-92a4-4080-a260-f9ceb4233e66",
   "metadata": {},
   "outputs": [],
   "source": [
    "# Accuracy metric.\n",
    "def accuracy(y_pred, y_true):\n",
    "# Predicted class is the index of the highest score in prediction vector (i.e. argmax).\n",
    "\n",
    "    correct_prediction = tf.equal(tf.argmax(y_pred, 1), tf.argmax(y_true, 1))\n",
    "\n",
    "    return tf.reduce_mean(tf.cast(correct_prediction, tf.float32))"
   ]
  },
  {
   "cell_type": "markdown",
   "id": "c4fc4724-3c9a-4a18-a40b-34177dbfe990",
   "metadata": {},
   "source": [
    "We first wrap computation inside a GradientTape for automatic differentiation. Then we compute gradients and update W and b.\n"
   ]
  },
  {
   "cell_type": "code",
   "execution_count": 17,
   "id": "71c720f6-cf2f-42d3-89a0-0873063ce53f",
   "metadata": {},
   "outputs": [],
   "source": [
    "# Optimization process. \n",
    "\n",
    "def run_optimization(x, y):\n",
    "    with tf.GradientTape() as g:\n",
    "        pred = logistic_regression(x)\n",
    "        loss = loss_object(pred, y)\n",
    "    gradients = g.gradient(loss, [weights, bias])\n",
    "    optimizer.apply_gradients(zip(gradients, [weights, bias]))"
   ]
  },
  {
   "cell_type": "markdown",
   "id": "6ec350d5-5a2f-4027-aea1-8268254d609b",
   "metadata": {},
   "source": [
    "Now we move on to actually running our operations. We will start with the operations involved in the prediction phase (i.e. the logistic regression itself).\n"
   ]
  },
  {
   "cell_type": "markdown",
   "id": "5a0ed84d-8b4e-4902-984d-7d9d6c3af15f",
   "metadata": {},
   "source": [
    "Now we can define and run the actual training loop, like this:\n"
   ]
  },
  {
   "cell_type": "code",
   "execution_count": 18,
   "id": "a73a0e5f-c8cc-4a26-9f82-b5a4c0e69fa0",
   "metadata": {},
   "outputs": [
    {
     "name": "stdout",
     "output_type": "stream",
     "text": [
      "step 0, training accuracy 0.32, loss 0.130674, change in loss 0.130674\n",
      "step 10, training accuracy 0.32, loss 0.130178, change in loss 0.000495091\n",
      "step 20, training accuracy 0.32, loss 0.129691, change in loss 0.000487596\n",
      "step 30, training accuracy 0.32, loss 0.129211, change in loss 0.000480115\n",
      "step 40, training accuracy 0.32, loss 0.128738, change in loss 0.00047268\n",
      "step 50, training accuracy 0.32, loss 0.128273, change in loss 0.000465244\n",
      "step 60, training accuracy 0.32, loss 0.127815, change in loss 0.000457853\n",
      "step 70, training accuracy 0.32, loss 0.127364, change in loss 0.000450492\n",
      "step 80, training accuracy 0.32, loss 0.126921, change in loss 0.000443161\n",
      "step 90, training accuracy 0.32, loss 0.126485, change in loss 0.000435919\n",
      "step 100, training accuracy 0.32, loss 0.126061, change in loss 0.00042446\n",
      "step 110, training accuracy 0.32, loss 0.12566, change in loss 0.000400692\n",
      "step 120, training accuracy 0.32, loss 0.125266, change in loss 0.000394255\n",
      "step 130, training accuracy 0.32, loss 0.124878, change in loss 0.0003879\n",
      "step 140, training accuracy 0.32, loss 0.124496, change in loss 0.000381604\n",
      "step 150, training accuracy 0.32, loss 0.124121, change in loss 0.000375345\n",
      "step 160, training accuracy 0.32, loss 0.123752, change in loss 0.000369139\n",
      "step 170, training accuracy 0.32, loss 0.123389, change in loss 0.000363015\n",
      "step 180, training accuracy 0.32, loss 0.123032, change in loss 0.000356965\n",
      "step 190, training accuracy 0.32, loss 0.122681, change in loss 0.000350952\n",
      "step 200, training accuracy 0.32, loss 0.122341, change in loss 0.000339881\n",
      "step 210, training accuracy 0.32, loss 0.122019, change in loss 0.000322416\n",
      "step 220, training accuracy 0.32, loss 0.121702, change in loss 0.000317171\n",
      "step 230, training accuracy 0.32, loss 0.12139, change in loss 0.000312023\n",
      "step 240, training accuracy 0.32, loss 0.121083, change in loss 0.000306904\n",
      "step 250, training accuracy 0.32, loss 0.120781, change in loss 0.000301868\n",
      "step 260, training accuracy 0.32, loss 0.120484, change in loss 0.000296876\n",
      "step 270, training accuracy 0.32, loss 0.120192, change in loss 0.000291966\n",
      "step 280, training accuracy 0.32, loss 0.119905, change in loss 0.000287116\n",
      "step 290, training accuracy 0.32, loss 0.119623, change in loss 0.000282347\n",
      "step 300, training accuracy 0.32, loss 0.11935, change in loss 0.000272118\n",
      "step 310, training accuracy 0.32, loss 0.119091, change in loss 0.000259511\n",
      "step 320, training accuracy 0.32, loss 0.118835, change in loss 0.000255391\n",
      "step 330, training accuracy 0.32, loss 0.118584, change in loss 0.000251293\n",
      "step 340, training accuracy 0.32, loss 0.118337, change in loss 0.000247277\n",
      "step 350, training accuracy 0.32, loss 0.118094, change in loss 0.000243321\n",
      "step 360, training accuracy 0.32, loss 0.117854, change in loss 0.00023941\n",
      "step 370, training accuracy 0.32, loss 0.117619, change in loss 0.000235558\n",
      "step 380, training accuracy 0.32, loss 0.117387, change in loss 0.000231758\n",
      "step 390, training accuracy 0.32, loss 0.117159, change in loss 0.000228047\n",
      "step 400, training accuracy 0.32, loss 0.11694, change in loss 0.000218809\n",
      "step 410, training accuracy 0.32, loss 0.11673, change in loss 0.000209868\n",
      "step 420, training accuracy 0.32, loss 0.116523, change in loss 0.000206657\n",
      "step 430, training accuracy 0.32, loss 0.11632, change in loss 0.00020349\n",
      "step 440, training accuracy 0.32, loss 0.11612, change in loss 0.000200361\n",
      "step 450, training accuracy 0.32, loss 0.115922, change in loss 0.000197299\n",
      "step 460, training accuracy 0.32, loss 0.115728, change in loss 0.000194274\n",
      "step 470, training accuracy 0.32, loss 0.115537, change in loss 0.000191294\n",
      "step 480, training accuracy 0.32, loss 0.115348, change in loss 0.000188366\n",
      "step 490, training accuracy 0.32, loss 0.115163, change in loss 0.000185475\n",
      "step 500, training accuracy 0.32, loss 0.114986, change in loss 0.000177205\n",
      "step 510, training accuracy 0.32, loss 0.114815, change in loss 0.000170998\n",
      "step 520, training accuracy 0.32, loss 0.114646, change in loss 0.00016851\n",
      "step 530, training accuracy 0.32, loss 0.11448, change in loss 0.000166073\n",
      "step 540, training accuracy 0.32, loss 0.114316, change in loss 0.000163682\n",
      "step 550, training accuracy 0.32, loss 0.114155, change in loss 0.000161283\n",
      "step 560, training accuracy 0.32, loss 0.113996, change in loss 0.00015898\n",
      "step 570, training accuracy 0.32, loss 0.11384, change in loss 0.000156678\n",
      "step 580, training accuracy 0.32, loss 0.113685, change in loss 0.000154428\n",
      "step 590, training accuracy 0.32, loss 0.113533, change in loss 0.000152193\n",
      "step 600, training accuracy 0.32, loss 0.113388, change in loss 0.000144809\n",
      "step 610, training accuracy 0.32, loss 0.113248, change in loss 0.000140578\n",
      "step 620, training accuracy 0.32, loss 0.113109, change in loss 0.000138685\n",
      "step 630, training accuracy 0.32, loss 0.112972, change in loss 0.000136793\n",
      "step 640, training accuracy 0.32, loss 0.112837, change in loss 0.00013496\n",
      "step 650, training accuracy 0.32, loss 0.112704, change in loss 0.000133105\n",
      "step 660, training accuracy 0.32, loss 0.112573, change in loss 0.000131339\n",
      "step 670, training accuracy 0.32, loss 0.112443, change in loss 0.000129558\n",
      "step 680, training accuracy 0.32, loss 0.112315, change in loss 0.00012783\n",
      "step 690, training accuracy 0.32, loss 0.112189, change in loss 0.000126109\n",
      "final accuracy on test set: 0.32\n"
     ]
    }
   ],
   "source": [
    "# Initialize reporting variables\n",
    "display_step = 10\n",
    "epoch_values = []\n",
    "accuracy_values = []\n",
    "loss_values = []\n",
    "loss = 0\n",
    "diff = 1\n",
    "# Training epochs\n",
    "for i in range(numEpochs):\n",
    "    if i > 1 and diff < .0001:\n",
    "        print(\"change in loss %g; convergence.\"%diff)\n",
    "        break\n",
    "    else:\n",
    "        # Run training step\n",
    "        run_optimization(trainX, trainY)\n",
    "        \n",
    "        # Report occasional stats\n",
    "        if i % display_step == 0:\n",
    "            # Add epoch to epoch_values\n",
    "            epoch_values.append(i)\n",
    "            \n",
    "            pred = logistic_regression(testX)\n",
    "\n",
    "            newLoss = loss_object(pred, testY)\n",
    "            # Add loss to live graphing variable\n",
    "            loss_values.append(newLoss)\n",
    "            \n",
    "            # Generate accuracy stats on test data\n",
    "            acc = accuracy(pred, testY)\n",
    "            accuracy_values.append(acc)\n",
    "            \n",
    "    \n",
    "            # Re-assign values for variables\n",
    "            diff = abs(newLoss - loss)\n",
    "            loss = newLoss\n",
    "\n",
    "            #generate print statements\n",
    "            print(\"step %d, training accuracy %g, loss %g, change in loss %g\"%(i, acc, newLoss, diff))\n",
    "\n",
    "        \n",
    "\n",
    "          \n",
    "\n",
    "# How well do we perform on held-out test data?\n",
    "print(\"final accuracy on test set: %s\" %acc.numpy())\n",
    "\n",
    "\n"
   ]
  },
  {
   "cell_type": "markdown",
   "id": "0be65692-cb6e-4615-a460-f298b0fc114f",
   "metadata": {},
   "source": [
    "<b>Why don't we plot the loss to see how it behaves?</b>\n"
   ]
  },
  {
   "cell_type": "code",
   "execution_count": 19,
   "id": "d42fdfcc-e77d-4c84-a674-3604d42a87de",
   "metadata": {},
   "outputs": [
    {
     "data": {
      "image/png": "[encoded data removed]",
      "text/plain": [
       "<Figure size 640x480 with 1 Axes>"
      ]
     },
     "metadata": {},
     "output_type": "display_data"
    }
   ],
   "source": [
    "%matplotlib inline\n",
    "import numpy as np\n",
    "import matplotlib.pyplot as plt\n",
    "plt.xlabel(\"Epoch\")\n",
    "plt.ylabel(\"Loss\")\n",
    "plt.plot(loss_values)\n",
    "plt.show()"
   ]
  },
  {
   "cell_type": "markdown",
   "id": "57120bf9-886a-40fe-ada1-64f703a2a003",
   "metadata": {},
   "source": [
    " Try changing the parameters such as the length of training, and maybe some operations to see how the model behaves. Does it take much longer? How is the performance?\n"
   ]
  },
  {
   "cell_type": "markdown",
   "id": "6766a531-5a18-43c8-b7d8-729e0c3ca9c2",
   "metadata": {},
   "source": [
    "<hr>\n"
   ]
  },
  {
   "cell_type": "markdown",
   "id": "13cef538-54e1-48f6-b146-a94db34a7d5b",
   "metadata": {},
   "source": [
    "## Want to learn more?\n",
    "\n",
    "Also, you can use **Watson Studio** to run these notebooks faster with bigger datasets.**Watson Studio** is IBM’s leading cloud solution for data scientists, built by data scientists. With Jupyter notebooks, RStudio, Apache Spark and popular libraries pre-packaged in the cloud, **Watson Studio** enables data scientists to collaborate on their projects without having to install anything. Join the fast-growing community of **Watson Studio** users today with a free account at [Watson Studio](https://cocl.us/ML0120EN_DSX).This is the end of this lesson. Thank you for reading this notebook, and good luck on your studies.\n"
   ]
  },
  {
   "cell_type": "markdown",
   "id": "135e7d64-cc7c-493d-943c-98ea9d2355aa",
   "metadata": {},
   "source": [
    "### Thanks for completing this lesson!\n",
    "\n",
    "This is the end of **Logistic Regression with TensorFlow** notebook. Hopefully, now you have a deeper understanding of Logistic Regression and how its structure and flow work. Thank you for reading this notebook and good luck on your studies.\n"
   ]
  },
  {
   "cell_type": "markdown",
   "id": "4fdb9888-e7cb-489f-aba0-94e5f95829bd",
   "metadata": {},
   "source": [
    "Created by: <a href=\"https://linkedin.com/in/romeo-kienzler-089b4557?utm_medium=Exinfluencer&utm_source=Exinfluencer&utm_content=000026UJ&utm_term=10006555&utm_id=NA-SkillsNetwork-Channel-SkillsNetworkCoursesIBMDeveloperSkillsNetworkDL0120ENSkillsNetwork954-2022-01-01\"> Romeo Kienzler </a>, <a href=\"https://br.linkedin.com/in/walter-gomes-de-amorim-junior-624726121?utm_medium=Exinfluencer&utm_source=Exinfluencer&utm_content=000026UJ&utm_term=10006555&utm_id=NA-SkillsNetwork-Channel-SkillsNetworkCoursesIBMDeveloperSkillsNetworkDL0120ENSkillsNetwork954-2022-01-01\">Saeed Aghabozorgi</a> , <a href=\"https://br.linkedin.com/in/walter-gomes-de-amorim-junior-624726121?utm_medium=Exinfluencer&utm_source=Exinfluencer&utm_content=000026UJ&utm_term=10006555&utm_id=NA-SkillsNetwork-Channel-SkillsNetworkCoursesIBMDeveloperSkillsNetworkDL0120ENSkillsNetwork954-2022-01-01\">Walter Gomes de Amorim Junior</a> ,  Victor Barros Costa\n",
    "\n",
    "Updated to TF 2.X by  <a href=\"https://www.linkedin.com/in/samaya-madhavan?utm_medium=Exinfluencer&utm_source=Exinfluencer&utm_content=000026UJ&utm_term=10006555&utm_id=NA-SkillsNetwork-Channel-SkillsNetworkCoursesIBMDeveloperSkillsNetworkDL0120ENSkillsNetwork954-2022-01-01\"> Samaya Madhavan </a>\n"
   ]
  },
  {
   "cell_type": "markdown",
   "id": "5ce1ec01-aa1a-4d26-89c1-4a4a9a2d224e",
   "metadata": {},
   "source": [
    "## Change Log\n",
    "\n",
    "| Date (YYYY-MM-DD) | Version | Changed By | Change Description                                          |\n",
    "| ----------------- | ------- | ---------- | ----------------------------------------------------------- |\n",
    "| 2020-09-21        | 2.0     | Srishti    | Migrated Lab to Markdown and added to course repo in GitLab |\n",
    "\n",
    "<hr>\n",
    "\n",
    "## <h3 align=\"center\"> © IBM Corporation 2020. All rights reserved. <h3/>\n"
   ]
  },
  {
   "cell_type": "markdown",
   "id": "461d0d44-bad6-4d9f-8d9d-6d0b78516182",
   "metadata": {},
   "source": [
    "<hr>\n",
    "\n",
    "Copyright © 2018 [Cognitive Class](https://cocl.us/DX0108EN_CC). This notebook and its source code are released under the terms of the [MIT License](https://bigdatauniversity.com/mit-license?utm_medium=Exinfluencer&utm_source=Exinfluencer&utm_content=000026UJ&utm_term=10006555&utm_id=NA-SkillsNetwork-Channel-SkillsNetworkCoursesIBMDeveloperSkillsNetworkDL0120ENSkillsNetwork954-2022-01-01&cm_mmc=Email_Newsletter-_-Developer_Ed%2BTech-_-WW_WW-_-SkillsNetwork-Courses-IBMDeveloperSkillsNetwork-DL0120EN-SkillsNetwork-20629446&cm_mmca1=000026UJ&cm_mmca2=10006555&cm_mmca3=M12345678&cvosrc=email.Newsletter.M12345678&cvo_campaign=000026UJ).\n"
   ]
  }
 ],
 "metadata": {
  "kernelspec": {
   "display_name": "Python [conda env:tensorflow] *",
   "language": "python",
   "name": "conda-env-tensorflow-py"
  },
  "language_info": {
   "codemirror_mode": {
    "name": "ipython",
    "version": 3
   },
   "file_extension": ".py",
   "mimetype": "text/x-python",
   "name": "python",
   "nbconvert_exporter": "python",
   "pygments_lexer": "ipython3",
   "version": "3.8.15"
  }
 },
 "nbformat": 4,
 "nbformat_minor": 4
}
