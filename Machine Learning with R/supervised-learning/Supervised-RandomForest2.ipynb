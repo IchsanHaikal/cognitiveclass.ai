{
 "cells": [
  {
   "cell_type": "markdown",
   "metadata": {},
   "source": [
    "<h1 align=center><font size = 5> Random Forest in R: Exercise </font></h1>"
   ]
  },
  {
   "cell_type": "code",
   "execution_count": 1,
   "metadata": {},
   "outputs": [
    {
     "name": "stderr",
     "output_type": "stream",
     "text": [
      "Warning message:\n",
      "\"package 'randomForest' is not available (for R version 3.6.1)\"randomForest 4.6-14\n",
      "Type rfNews() to see new features/changes/bug fixes.\n"
     ]
    }
   ],
   "source": [
    "# Install the package \"randomForest\"./resources/Random-Forests-in-R.ipynb\n",
    "install.packages(\"randomForest\")\n",
    "library(randomForest)"
   ]
  },
  {
   "cell_type": "markdown",
   "metadata": {},
   "source": [
    "In the description example of Random Forest, we used the **iris** database to understand how this algorithm can be used for classification. In the following exercise, we are going to learn how to use Random Forest for regression analysis. In terms of regression analysis using random forest method, we may see instances where the individual trees are **weak** predictors, however the final combined random forest model is much **stronger**, thus being able to give better predictions. The major parameter of interest in this case, is the resulting **importance** value, as you will see below. \n",
    "\n",
    "For this case study, we will use housing sales data and its dependencies. The keywords are:\n",
    "\n",
    "Sldprice - House sale price  \n",
    "rooms - Number of rooms  \n",
    "beds - No of bedrooms  \n",
    "d_cbd - Distance to centre of town  \n",
    "hway_1 - Within 5 km of highway   \n",
    "sway_1 - Within 1 km of subway  \n",
    "hh_avinc - average household income  \n",
    "detach - detached  \n",
    "brick - brick  \n",
    "air_con - air condition  \n",
    "bsmt_fin - finished basement  \n",
    "\n"
   ]
  },
  {
   "cell_type": "markdown",
   "metadata": {},
   "source": [
    "As a first step, read in the data from the csv file and have a quick look at the various attributes and some of their values."
   ]
  },
  {
   "cell_type": "code",
   "execution_count": 2,
   "metadata": {},
   "outputs": [
    {
     "data": {
      "text/html": [
       "<table>\n",
       "<thead><tr><th scope=col>sldprice</th><th scope=col>rooms</th><th scope=col>beds</th><th scope=col>d_cbd</th><th scope=col>hway_1</th><th scope=col>sway_1</th><th scope=col>hh_avinc</th><th scope=col>detach</th><th scope=col>brick</th><th scope=col>air_con</th><th scope=col>bsmt_fin</th></tr></thead>\n",
       "<tbody>\n",
       "\t<tr><td>287000  </td><td>7       </td><td>3       </td><td>13.81330</td><td>0       </td><td>0       </td><td>47370   </td><td>1       </td><td>1       </td><td>1       </td><td>1       </td></tr>\n",
       "\t<tr><td>200000  </td><td>6       </td><td>3       </td><td>14.91826</td><td>1       </td><td>0       </td><td>50386   </td><td>1       </td><td>1       </td><td>1       </td><td>0       </td></tr>\n",
       "\t<tr><td>199900  </td><td>7       </td><td>2       </td><td>14.56703</td><td>0       </td><td>0       </td><td>50386   </td><td>1       </td><td>0       </td><td>1       </td><td>1       </td></tr>\n",
       "\t<tr><td>182500  </td><td>6       </td><td>3       </td><td>14.62712</td><td>0       </td><td>0       </td><td>50386   </td><td>1       </td><td>1       </td><td>0       </td><td>1       </td></tr>\n",
       "\t<tr><td>110500  </td><td>4       </td><td>2       </td><td>14.69022</td><td>0       </td><td>0       </td><td>50386   </td><td>1       </td><td>0       </td><td>0       </td><td>0       </td></tr>\n",
       "\t<tr><td>156000  </td><td>4       </td><td>2       </td><td>14.50963</td><td>1       </td><td>0       </td><td>50386   </td><td>1       </td><td>1       </td><td>1       </td><td>1       </td></tr>\n",
       "</tbody>\n",
       "</table>\n"
      ],
      "text/latex": [
       "\\begin{tabular}{r|lllllllllll}\n",
       " sldprice & rooms & beds & d\\_cbd & hway\\_1 & sway\\_1 & hh\\_avinc & detach & brick & air\\_con & bsmt\\_fin\\\\\n",
       "\\hline\n",
       "\t 287000   & 7        & 3        & 13.81330 & 0        & 0        & 47370    & 1        & 1        & 1        & 1       \\\\\n",
       "\t 200000   & 6        & 3        & 14.91826 & 1        & 0        & 50386    & 1        & 1        & 1        & 0       \\\\\n",
       "\t 199900   & 7        & 2        & 14.56703 & 0        & 0        & 50386    & 1        & 0        & 1        & 1       \\\\\n",
       "\t 182500   & 6        & 3        & 14.62712 & 0        & 0        & 50386    & 1        & 1        & 0        & 1       \\\\\n",
       "\t 110500   & 4        & 2        & 14.69022 & 0        & 0        & 50386    & 1        & 0        & 0        & 0       \\\\\n",
       "\t 156000   & 4        & 2        & 14.50963 & 1        & 0        & 50386    & 1        & 1        & 1        & 1       \\\\\n",
       "\\end{tabular}\n"
      ],
      "text/markdown": [
       "\n",
       "| sldprice | rooms | beds | d_cbd | hway_1 | sway_1 | hh_avinc | detach | brick | air_con | bsmt_fin |\n",
       "|---|---|---|---|---|---|---|---|---|---|---|\n",
       "| 287000   | 7        | 3        | 13.81330 | 0        | 0        | 47370    | 1        | 1        | 1        | 1        |\n",
       "| 200000   | 6        | 3        | 14.91826 | 1        | 0        | 50386    | 1        | 1        | 1        | 0        |\n",
       "| 199900   | 7        | 2        | 14.56703 | 0        | 0        | 50386    | 1        | 0        | 1        | 1        |\n",
       "| 182500   | 6        | 3        | 14.62712 | 0        | 0        | 50386    | 1        | 1        | 0        | 1        |\n",
       "| 110500   | 4        | 2        | 14.69022 | 0        | 0        | 50386    | 1        | 0        | 0        | 0        |\n",
       "| 156000   | 4        | 2        | 14.50963 | 1        | 0        | 50386    | 1        | 1        | 1        | 1        |\n",
       "\n"
      ],
      "text/plain": [
       "  sldprice rooms beds d_cbd    hway_1 sway_1 hh_avinc detach brick air_con\n",
       "1 287000   7     3    13.81330 0      0      47370    1      1     1      \n",
       "2 200000   6     3    14.91826 1      0      50386    1      1     1      \n",
       "3 199900   7     2    14.56703 0      0      50386    1      0     1      \n",
       "4 182500   6     3    14.62712 0      0      50386    1      1     0      \n",
       "5 110500   4     2    14.69022 0      0      50386    1      0     0      \n",
       "6 156000   4     2    14.50963 1      0      50386    1      1     1      \n",
       "  bsmt_fin\n",
       "1 1       \n",
       "2 0       \n",
       "3 1       \n",
       "4 1       \n",
       "5 0       \n",
       "6 1       "
      ]
     },
     "metadata": {},
     "output_type": "display_data"
    }
   ],
   "source": [
    "my_data1 <- read.csv(\"https://ibm.box.com/shared/static/fzceg5vdj9hxpf7aopgvfgobi1g4vb4v.csv\")\n",
    "\n",
    "head(my_data1)"
   ]
  },
  {
   "cell_type": "markdown",
   "metadata": {},
   "source": [
    "Since we are going to analyse housing prices, it is good practice to get a better understanding of this variable. We can use the plot() function as one method of doing this. To ensure that there are no NA values, we can use the na.omit() function. We perform these steps to prepare the data for our random forest implementation."
   ]
  },
  {
   "cell_type": "code",
   "execution_count": 3,
   "metadata": {},
   "outputs": [
    {
     "data": {
      "image/png": "[encoded data removed]",
      "text/plain": [
       "plot without title"
      ]
     },
     "metadata": {},
     "output_type": "display_data"
    }
   ],
   "source": [
    "plot(my_data1$sldprice)"
   ]
  },
  {
   "cell_type": "code",
   "execution_count": 4,
   "metadata": {},
   "outputs": [],
   "source": [
    "## removing NAs from the data \n",
    "\n",
    "new_data <- na.omit(my_data1)"
   ]
  },
  {
   "cell_type": "markdown",
   "metadata": {},
   "source": [
    "Now to the actual work. Just like in the description example, we are going to use all the features to create the random forest. Since regression analysis makes sense with the **importance** value, we need to include this keyword.   \n"
   ]
  },
  {
   "cell_type": "markdown",
   "metadata": {},
   "source": [
    "Q1. Just like in the example, can you model the data for selling price, including all of the variables and with the \"importance\" parameter set to true and print out the fit?"
   ]
  },
  {
   "cell_type": "code",
   "execution_count": 5,
   "metadata": {},
   "outputs": [
    {
     "name": "stdout",
     "output_type": "stream",
     "text": [
      "\n",
      "Call:\n",
      " randomForest(formula = sldprice ~ hh_avinc + rooms + beds + sway_1 +      hway_1 + d_cbd + detach + air_con + brick + bsmt_fin, data = new_data,      importance = TRUE) \n",
      "               Type of random forest: regression\n",
      "                     Number of trees: 500\n",
      "No. of variables tried at each split: 3\n",
      "\n",
      "          Mean of squared residuals: 5163670469\n",
      "                    % Var explained: 73.39\n"
     ]
    }
   ],
   "source": [
    "fit1<-randomForest(sldprice~hh_avinc+rooms+beds+sway_1+hway_1+d_cbd+detach+air_con+brick+bsmt_fin,data=new_data,importance=TRUE)\n",
    "print(fit1)\n",
    "\n",
    "\n",
    "\n",
    "\n",
    "\n"
   ]
  },
  {
   "cell_type": "markdown",
   "metadata": {},
   "source": [
    "From the resulting fit, we understand that **3** variables are randomly selected at each tree node and the model can explain **~73%** of the variability in the data. You can learn more about the meaning of these values in a regression module."
   ]
  },
  {
   "cell_type": "markdown",
   "metadata": {},
   "source": [
    "Let us have a look at the importance factor. We can use the **type** keyword in the importance function to look at only the percentage increase in MSE."
   ]
  },
  {
   "cell_type": "markdown",
   "metadata": {},
   "source": [
    "Q2: Can you print out the importance factor, preferably rounded to two decimal places and comment on the values observed?"
   ]
  },
  {
   "cell_type": "code",
   "execution_count": 6,
   "metadata": {},
   "outputs": [
    {
     "data": {
      "text/html": [
       "<table>\n",
       "<thead><tr><th></th><th scope=col>%IncMSE</th></tr></thead>\n",
       "<tbody>\n",
       "\t<tr><th scope=row>hh_avinc</th><td>69.45</td></tr>\n",
       "\t<tr><th scope=row>rooms</th><td>50.22</td></tr>\n",
       "\t<tr><th scope=row>beds</th><td>27.38</td></tr>\n",
       "\t<tr><th scope=row>sway_1</th><td>18.53</td></tr>\n",
       "\t<tr><th scope=row>hway_1</th><td> 3.21</td></tr>\n",
       "\t<tr><th scope=row>d_cbd</th><td>57.04</td></tr>\n",
       "\t<tr><th scope=row>detach</th><td>21.06</td></tr>\n",
       "\t<tr><th scope=row>air_con</th><td>24.70</td></tr>\n",
       "\t<tr><th scope=row>brick</th><td>16.05</td></tr>\n",
       "\t<tr><th scope=row>bsmt_fin</th><td>15.85</td></tr>\n",
       "</tbody>\n",
       "</table>\n"
      ],
      "text/latex": [
       "\\begin{tabular}{r|l}\n",
       "  & \\%IncMSE\\\\\n",
       "\\hline\n",
       "\thh\\_avinc & 69.45\\\\\n",
       "\trooms & 50.22\\\\\n",
       "\tbeds & 27.38\\\\\n",
       "\tsway\\_1 & 18.53\\\\\n",
       "\thway\\_1 &  3.21\\\\\n",
       "\td\\_cbd & 57.04\\\\\n",
       "\tdetach & 21.06\\\\\n",
       "\tair\\_con & 24.70\\\\\n",
       "\tbrick & 16.05\\\\\n",
       "\tbsmt\\_fin & 15.85\\\\\n",
       "\\end{tabular}\n"
      ],
      "text/markdown": [
       "\n",
       "| <!--/--> | %IncMSE |\n",
       "|---|---|\n",
       "| hh_avinc | 69.45 |\n",
       "| rooms | 50.22 |\n",
       "| beds | 27.38 |\n",
       "| sway_1 | 18.53 |\n",
       "| hway_1 |  3.21 |\n",
       "| d_cbd | 57.04 |\n",
       "| detach | 21.06 |\n",
       "| air_con | 24.70 |\n",
       "| brick | 16.05 |\n",
       "| bsmt_fin | 15.85 |\n",
       "\n"
      ],
      "text/plain": [
       "         %IncMSE\n",
       "hh_avinc 69.45  \n",
       "rooms    50.22  \n",
       "beds     27.38  \n",
       "sway_1   18.53  \n",
       "hway_1    3.21  \n",
       "d_cbd    57.04  \n",
       "detach   21.06  \n",
       "air_con  24.70  \n",
       "brick    16.05  \n",
       "bsmt_fin 15.85  "
      ]
     },
     "metadata": {},
     "output_type": "display_data"
    }
   ],
   "source": [
    "round(importance(fit1,type=1),2)\n",
    "\n",
    "\n",
    "\n"
   ]
  },
  {
   "cell_type": "markdown",
   "metadata": {},
   "source": [
    "The important deciding factors for housing prices are the average household income (hh_avinc), the distance to the centre of town (d_cbd), and the number of rooms (room)."
   ]
  },
  {
   "cell_type": "markdown",
   "metadata": {},
   "source": [
    "When the **trees** are being created, there are instances, where one **branch** will be very similar to another **branch**. The algorithm computes a parameter called **proximity** to identify these instances. When we use this keyword while computing the model, the branches with similar characteristics, will be merged. \n",
    "\n",
    "To understand this, we will fit the model again with this keyword, print the model and look at the importance value as before."
   ]
  },
  {
   "cell_type": "markdown",
   "metadata": {},
   "source": [
    "Q3: Fit the model with same variables along with the **proximity** keyword, print the fit and importance factor. Comment and compare on the importance factors with the previous fit."
   ]
  },
  {
   "cell_type": "code",
   "execution_count": 9,
   "metadata": {},
   "outputs": [
    {
     "name": "stdout",
     "output_type": "stream",
     "text": [
      "\n",
      "Call:\n",
      " randomForest(formula = sldprice ~ hh_avinc + rooms + beds + sway_1 +      hway_1 + d_cbd + detach + air_con + brick + bsmt_fin, data = new_data,      proximity = TRUE, action = na.omit, importance = TRUE) \n",
      "               Type of random forest: regression\n",
      "                     Number of trees: 500\n",
      "No. of variables tried at each split: 3\n",
      "\n",
      "          Mean of squared residuals: 5195395391\n",
      "                    % Var explained: 73.22\n"
     ]
    },
    {
     "data": {
      "text/html": [
       "<table>\n",
       "<thead><tr><th></th><th scope=col>%IncMSE</th></tr></thead>\n",
       "<tbody>\n",
       "\t<tr><th scope=row>hh_avinc</th><td>68.27</td></tr>\n",
       "\t<tr><th scope=row>rooms</th><td>49.27</td></tr>\n",
       "\t<tr><th scope=row>beds</th><td>28.48</td></tr>\n",
       "\t<tr><th scope=row>sway_1</th><td>19.13</td></tr>\n",
       "\t<tr><th scope=row>hway_1</th><td> 4.45</td></tr>\n",
       "\t<tr><th scope=row>d_cbd</th><td>55.50</td></tr>\n",
       "\t<tr><th scope=row>detach</th><td>23.84</td></tr>\n",
       "\t<tr><th scope=row>air_con</th><td>24.24</td></tr>\n",
       "\t<tr><th scope=row>brick</th><td>16.86</td></tr>\n",
       "\t<tr><th scope=row>bsmt_fin</th><td>16.18</td></tr>\n",
       "</tbody>\n",
       "</table>\n"
      ],
      "text/latex": [
       "\\begin{tabular}{r|l}\n",
       "  & \\%IncMSE\\\\\n",
       "\\hline\n",
       "\thh\\_avinc & 68.27\\\\\n",
       "\trooms & 49.27\\\\\n",
       "\tbeds & 28.48\\\\\n",
       "\tsway\\_1 & 19.13\\\\\n",
       "\thway\\_1 &  4.45\\\\\n",
       "\td\\_cbd & 55.50\\\\\n",
       "\tdetach & 23.84\\\\\n",
       "\tair\\_con & 24.24\\\\\n",
       "\tbrick & 16.86\\\\\n",
       "\tbsmt\\_fin & 16.18\\\\\n",
       "\\end{tabular}\n"
      ],
      "text/markdown": [
       "\n",
       "| <!--/--> | %IncMSE |\n",
       "|---|---|\n",
       "| hh_avinc | 68.27 |\n",
       "| rooms | 49.27 |\n",
       "| beds | 28.48 |\n",
       "| sway_1 | 19.13 |\n",
       "| hway_1 |  4.45 |\n",
       "| d_cbd | 55.50 |\n",
       "| detach | 23.84 |\n",
       "| air_con | 24.24 |\n",
       "| brick | 16.86 |\n",
       "| bsmt_fin | 16.18 |\n",
       "\n"
      ],
      "text/plain": [
       "         %IncMSE\n",
       "hh_avinc 68.27  \n",
       "rooms    49.27  \n",
       "beds     28.48  \n",
       "sway_1   19.13  \n",
       "hway_1    4.45  \n",
       "d_cbd    55.50  \n",
       "detach   23.84  \n",
       "air_con  24.24  \n",
       "brick    16.86  \n",
       "bsmt_fin 16.18  "
      ]
     },
     "metadata": {},
     "output_type": "display_data"
    }
   ],
   "source": [
    "fit2 <- randomForest(sldprice~hh_avinc+rooms+beds+sway_1+hway_1+d_cbd+detach+air_con+brick+bsmt_fin,data=new_data,proximity=TRUE,action=na.omit,importance=TRUE)\n",
    "print(fit2)\n",
    "round(importance(fit2,type=1),2)\n",
    "\n",
    "\n",
    "\n",
    "\n"
   ]
  },
  {
   "cell_type": "markdown",
   "metadata": {},
   "source": [
    "Although both models predict the average house hold income to  be the most important deciding factor on housing prices, the importance of the distance to centre of town and the number of rooms differ significantly. \n",
    "\n",
    "Also from the % variation explained, the second model is slightly better in terms of the fit to the data.   \n",
    "These small variations can make a noticeable difference when we are using these models for predicting future housing prices. "
   ]
  },
  {
   "cell_type": "markdown",
   "metadata": {},
   "source": [
    "Now, let us plot these two models to see how the errors evolved during the process. \n",
    "\n",
    "Q4: Divide the plot area into two and simply plot the individual fits and comment on  your observation."
   ]
  },
  {
   "cell_type": "code",
   "execution_count": 10,
   "metadata": {},
   "outputs": [
    {
     "data": {
      "image/png": "[encoded data removed]",
      "text/plain": [
       "Plot with title \"fit2\""
      ]
     },
     "metadata": {},
     "output_type": "display_data"
    }
   ],
   "source": [
    "par(mfrow=c(1,2))\n",
    "plot(fit1)\n",
    "plot(fit2)\n",
    "\n",
    "\n",
    "\n"
   ]
  },
  {
   "cell_type": "markdown",
   "metadata": {},
   "source": [
    "The errors decrease almost exponentially with the increase in the number of trees. However, it is also interesting to note that the range of errors differ between the two models. This gives us an helpful clue in understanding how the underlying algorithm works, w.r.t, the **proximity** keyword."
   ]
  },
  {
   "cell_type": "markdown",
   "metadata": {
    "collapsed": true
   },
   "source": [
    "It is important to understand that there will be differences each time you run the same forest with the same parameter, due to the random nature of the algorithm. Hence, the percentages may not match every time. "
   ]
  },
  {
   "cell_type": "markdown",
   "metadata": {},
   "source": [
    "Now that you have learnt how to use random forest algorithm for both classification of data as well as in regression analysis, it is time for you to try these techniques with your own datasets. Best wishes!!"
   ]
  }
 ],
 "metadata": {
  "anaconda-cloud": {},
  "kernelspec": {
   "display_name": "R",
   "language": "R",
   "name": "ir"
  },
  "language_info": {
   "codemirror_mode": "r",
   "file_extension": ".r",
   "mimetype": "text/x-r-source",
   "name": "R",
   "pygments_lexer": "r",
   "version": "3.6.1"
  }
 },
 "nbformat": 4,
 "nbformat_minor": 1
}
