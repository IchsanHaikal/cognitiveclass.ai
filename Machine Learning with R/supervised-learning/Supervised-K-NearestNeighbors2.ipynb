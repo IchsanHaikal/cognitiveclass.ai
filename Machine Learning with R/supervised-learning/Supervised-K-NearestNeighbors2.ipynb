{
 "cells": [
  {
   "cell_type": "markdown",
   "metadata": {},
   "source": [
    "<h1 align=center><font size = 5> K-Nearest Neighbors Classification in R: Exercise </font></h1>"
   ]
  },
  {
   "cell_type": "markdown",
   "metadata": {},
   "source": [
    "### Exercise 1: Balance Scale\n",
    "\n",
    "In this exercise, we will be using the <font color = \"green\">balance_scale.txt</font> data set. In this data set, each data point is classified as having the balance scale tip to the right, tip to the left, or be balanced. The variables of the data set are 'left weight', 'left distance', 'right weight', and 'right distance'. The class is determined by the greater of (right-distance x right-weight) and (left-distance x left-weight). However, if these values are equal, the data point is balanced.\n",
    "\n",
    "The objective of this exercise is to use the k-nearest neighbors algorithm to determine the classification of test data and to estimate using knn regression, the difference between the product of right-distance and right-weight, and the product of left-distance and left-weight."
   ]
  },
  {
   "cell_type": "markdown",
   "metadata": {},
   "source": [
    "### a). Install the package\n",
    "\n",
    "We first install and load the libraries that will be used in this exercise."
   ]
  },
  {
   "cell_type": "code",
   "execution_count": 1,
   "metadata": {},
   "outputs": [
    {
     "name": "stdout",
     "output_type": "stream",
     "text": [
      "\n",
      "  There is a binary version available but the source version is later:\n",
      "      binary source needs_compilation\n",
      "class 7.3-19 7.3-20              TRUE\n",
      "\n",
      "  Binaries will be installed\n",
      "package 'class' successfully unpacked and MD5 sums checked\n",
      "\n",
      "The downloaded binary packages are in\n",
      "\tC:\\Users\\Erlangga\\AppData\\Local\\Temp\\Rtmp6FFseI\\downloaded_packages\n"
     ]
    },
    {
     "name": "stderr",
     "output_type": "stream",
     "text": [
      "also installing the dependency 'igraph'\n",
      "\n"
     ]
    },
    {
     "name": "stdout",
     "output_type": "stream",
     "text": [
      "\n",
      "  There is a binary version available but the source version is later:\n",
      "       binary source needs_compilation\n",
      "igraph  1.2.6  1.3.5              TRUE\n",
      "\n",
      "  Binaries will be installed\n",
      "package 'igraph' successfully unpacked and MD5 sums checked\n",
      "package 'kknn' successfully unpacked and MD5 sums checked\n",
      "\n",
      "The downloaded binary packages are in\n",
      "\tC:\\Users\\Erlangga\\AppData\\Local\\Temp\\Rtmp6FFseI\\downloaded_packages\n"
     ]
    },
    {
     "name": "stderr",
     "output_type": "stream",
     "text": [
      "Warning message:\n",
      "\"package 'class' was built under R version 3.6.3\"Warning message:\n",
      "\"package 'kknn' was built under R version 3.6.3\""
     ]
    }
   ],
   "source": [
    "# Install the packages 'class' and 'kknn' and load their libraries, which will be needed for their k-nearest neighbors algorithms\n",
    "install.packages(\"class\")\n",
    "install.packages(\"kknn\")\n",
    "library(class)\n",
    "library(kknn)"
   ]
  },
  {
   "cell_type": "markdown",
   "metadata": {},
   "source": [
    "### b). Download the data set, load the data and view its structure\n",
    "\n",
    "We can use the download.file command to download the data set, <font color = \"green\">\"balance_scale.txt\"</font>, load the data using the read.csv command, and view its structure using the str command. We will also look at the first few lines of the data using the head command."
   ]
  },
  {
   "cell_type": "code",
   "execution_count": 2,
   "metadata": {},
   "outputs": [
    {
     "name": "stdout",
     "output_type": "stream",
     "text": [
      "'data.frame':\t624 obs. of  5 variables:\n",
      " $ B   : Factor w/ 3 levels \"B\",\"L\",\"R\": 3 3 3 3 3 3 3 3 3 3 ...\n",
      " $ X1  : int  1 1 1 1 1 1 1 1 1 1 ...\n",
      " $ X1.1: int  1 1 1 1 1 1 1 1 1 1 ...\n",
      " $ X1.2: int  1 1 1 1 2 2 2 2 2 3 ...\n",
      " $ X1.3: int  2 3 4 5 1 2 3 4 5 1 ...\n"
     ]
    },
    {
     "data": {
      "text/html": [
       "<table>\n",
       "<thead><tr><th scope=col>B</th><th scope=col>X1</th><th scope=col>X1.1</th><th scope=col>X1.2</th><th scope=col>X1.3</th></tr></thead>\n",
       "<tbody>\n",
       "\t<tr><td>R</td><td>1</td><td>1</td><td>1</td><td>2</td></tr>\n",
       "\t<tr><td>R</td><td>1</td><td>1</td><td>1</td><td>3</td></tr>\n",
       "\t<tr><td>R</td><td>1</td><td>1</td><td>1</td><td>4</td></tr>\n",
       "\t<tr><td>R</td><td>1</td><td>1</td><td>1</td><td>5</td></tr>\n",
       "\t<tr><td>R</td><td>1</td><td>1</td><td>2</td><td>1</td></tr>\n",
       "\t<tr><td>R</td><td>1</td><td>1</td><td>2</td><td>2</td></tr>\n",
       "</tbody>\n",
       "</table>\n"
      ],
      "text/latex": [
       "\\begin{tabular}{r|lllll}\n",
       " B & X1 & X1.1 & X1.2 & X1.3\\\\\n",
       "\\hline\n",
       "\t R & 1 & 1 & 1 & 2\\\\\n",
       "\t R & 1 & 1 & 1 & 3\\\\\n",
       "\t R & 1 & 1 & 1 & 4\\\\\n",
       "\t R & 1 & 1 & 1 & 5\\\\\n",
       "\t R & 1 & 1 & 2 & 1\\\\\n",
       "\t R & 1 & 1 & 2 & 2\\\\\n",
       "\\end{tabular}\n"
      ],
      "text/markdown": [
       "\n",
       "| B | X1 | X1.1 | X1.2 | X1.3 |\n",
       "|---|---|---|---|---|\n",
       "| R | 1 | 1 | 1 | 2 |\n",
       "| R | 1 | 1 | 1 | 3 |\n",
       "| R | 1 | 1 | 1 | 4 |\n",
       "| R | 1 | 1 | 1 | 5 |\n",
       "| R | 1 | 1 | 2 | 1 |\n",
       "| R | 1 | 1 | 2 | 2 |\n",
       "\n"
      ],
      "text/plain": [
       "  B X1 X1.1 X1.2 X1.3\n",
       "1 R 1  1    1    2   \n",
       "2 R 1  1    1    3   \n",
       "3 R 1  1    1    4   \n",
       "4 R 1  1    1    5   \n",
       "5 R 1  1    2    1   \n",
       "6 R 1  1    2    2   "
      ]
     },
     "metadata": {},
     "output_type": "display_data"
    }
   ],
   "source": [
    "# Load the data and view its structure\n",
    "balance_scale <- read.csv(\"https://ibm.box.com/shared/static/684jzm7e6fbbssg87yc2v4dy53dgkdew.txt\", sep = \",\")\n",
    "str(balance_scale)\n",
    "\n",
    "# View the first few rows of the data using the head function\n",
    "# Note: The raw data does not contain any column names\n",
    "head(balance_scale)"
   ]
  },
  {
   "cell_type": "markdown",
   "metadata": {},
   "source": [
    "### c). Clean the data\n",
    "Now we will clean the data by adding column names, as well new columns for the right and left products and their differences."
   ]
  },
  {
   "cell_type": "code",
   "execution_count": 3,
   "metadata": {
    "tags": []
   },
   "outputs": [
    {
     "data": {
      "text/html": [
       "<table>\n",
       "<thead><tr><th scope=col>Class_Name</th><th scope=col>Left_Weight</th><th scope=col>Left_Distance</th><th scope=col>Right_Weight</th><th scope=col>Right_Distance</th></tr></thead>\n",
       "<tbody>\n",
       "\t<tr><td>R</td><td>1</td><td>1</td><td>1</td><td>2</td></tr>\n",
       "\t<tr><td>R</td><td>1</td><td>1</td><td>1</td><td>3</td></tr>\n",
       "\t<tr><td>R</td><td>1</td><td>1</td><td>1</td><td>4</td></tr>\n",
       "\t<tr><td>R</td><td>1</td><td>1</td><td>1</td><td>5</td></tr>\n",
       "\t<tr><td>R</td><td>1</td><td>1</td><td>2</td><td>1</td></tr>\n",
       "\t<tr><td>R</td><td>1</td><td>1</td><td>2</td><td>2</td></tr>\n",
       "</tbody>\n",
       "</table>\n"
      ],
      "text/latex": [
       "\\begin{tabular}{r|lllll}\n",
       " Class\\_Name & Left\\_Weight & Left\\_Distance & Right\\_Weight & Right\\_Distance\\\\\n",
       "\\hline\n",
       "\t R & 1 & 1 & 1 & 2\\\\\n",
       "\t R & 1 & 1 & 1 & 3\\\\\n",
       "\t R & 1 & 1 & 1 & 4\\\\\n",
       "\t R & 1 & 1 & 1 & 5\\\\\n",
       "\t R & 1 & 1 & 2 & 1\\\\\n",
       "\t R & 1 & 1 & 2 & 2\\\\\n",
       "\\end{tabular}\n"
      ],
      "text/markdown": [
       "\n",
       "| Class_Name | Left_Weight | Left_Distance | Right_Weight | Right_Distance |\n",
       "|---|---|---|---|---|\n",
       "| R | 1 | 1 | 1 | 2 |\n",
       "| R | 1 | 1 | 1 | 3 |\n",
       "| R | 1 | 1 | 1 | 4 |\n",
       "| R | 1 | 1 | 1 | 5 |\n",
       "| R | 1 | 1 | 2 | 1 |\n",
       "| R | 1 | 1 | 2 | 2 |\n",
       "\n"
      ],
      "text/plain": [
       "  Class_Name Left_Weight Left_Distance Right_Weight Right_Distance\n",
       "1 R          1           1             1            2             \n",
       "2 R          1           1             1            3             \n",
       "3 R          1           1             1            4             \n",
       "4 R          1           1             1            5             \n",
       "5 R          1           1             2            1             \n",
       "6 R          1           1             2            2             "
      ]
     },
     "metadata": {},
     "output_type": "display_data"
    }
   ],
   "source": [
    "# Add column names\n",
    "colnames(balance_scale) <- c(\"Class_Name\",\"Left_Weight\", \"Left_Distance\", \"Right_Weight\", \"Right_Distance\")\n",
    "head(balance_scale)\n",
    "# Note: We do not need to standardize the data in this instance since the numerical data values lie on the same scale.\n",
    "# Calculate the products and differences\n",
    "Right_Product <- balance_scale[,4]*balance_scale[,5]\n",
    "Left_Product <- balance_scale[,2]*balance_scale[,3]\n",
    "Differences <- Right_Product-Left_Product\n",
    "# Add columns for Right_Product, Left_Product and Differences\n",
    "balance_scale$Right_Product <- Right_Product\n",
    "balance_scale$Left_Product <- Left_Product\n",
    "balance_scale$Differences <- Differences"
   ]
  },
  {
   "cell_type": "markdown",
   "metadata": {},
   "source": [
    "### d). Separate the data into training and test groups\n",
    "Next we will split the data into two groups which will be used for training and testing respectively. To do this, we will create a vector of equal length to our data, with approximately 70% of the values in the vector being 1's and the remaining values being 2's. The order in which the values appear will be random and depending on the indices of the vector which correspond to the value of 1 will be used to select our training data, while the indices corresponding to 2 will be used to select our test data."
   ]
  },
  {
   "cell_type": "code",
   "execution_count": 4,
   "metadata": {
    "tags": []
   },
   "outputs": [],
   "source": [
    "# Use the sample function to create a vector of indices that will be used\n",
    "set.seed(1234)\n",
    "ind <- sample(2, nrow(balance_scale), replace=TRUE, prob=c(0.7, 0.3))\n",
    "\n",
    "# Create the training and test data from the dataset using ind\n",
    "bscale.train <- balance_scale[ind==1, 6:8]\n",
    "bscale.test <- balance_scale[ind==2, 6:8]\n",
    "\n",
    "# Create the target vectors for the training and test data from the dataset using ind\n",
    "bscale.trainLabels <- balance_scale[ind==1, 1]\n",
    "bscale.testLabels <- balance_scale[ind==2, 1]"
   ]
  },
  {
   "cell_type": "markdown",
   "metadata": {},
   "source": [
    "### e). Implementation of k-nearest neighbors for classification\n",
    "Now we will use the knn algorithm from the 'class' package to perform our classification task. This will be done using the knn command to determine the class name (R,L,B) of our test data based on our training data and our choice of k."
   ]
  },
  {
   "cell_type": "code",
   "execution_count": 5,
   "metadata": {
    "tags": []
   },
   "outputs": [
    {
     "name": "stdout",
     "output_type": "stream",
     "text": [
      "Number of incorrectly classified points: 1 \n",
      "Proportion of correctly classified points 0.9947368 \n"
     ]
    }
   ],
   "source": [
    "# Use the knn command to make predictions on the Class_Name of the test data\n",
    "knn_class <- knn(train = bscale.train, test = bscale.test, cl = bscale.trainLabels, k=3)\n",
    "\n",
    "# Find the number of incorrectly classified points\n",
    "correct <- which(knn_class == bscale.testLabels, arr.ind = TRUE)\n",
    "incorrect <- which(knn_class != bscale.testLabels, arr.ind = TRUE)\n",
    "cat(\"Number of incorrectly classified points:\",length(incorrect),\"\\n\")\n",
    "\n",
    "# Find the proportion of correctly classified points\n",
    "proportion_correct <- length(correct)/length(bscale.testLabels)\n",
    "cat(\"Proportion of correctly classified points\", proportion_correct,\"\\n\")"
   ]
  },
  {
   "cell_type": "markdown",
   "metadata": {},
   "source": [
    "### f). K-nearest neighbors regression using the kknn command\n",
    "The idea of using regression is by far predicting the continious response variable, instead of class variables, here the method is similar to localized linear regressions a.k.a LOESS, technique used, where $k$ is equivalent to the spread of kernel function around the point. [Reference](http://127.0.0.1:44104/help/library/kknn/doc/paper399.pdf) is good starting point to know about this methodology "
   ]
  },
  {
   "cell_type": "code",
   "execution_count": 6,
   "metadata": {
    "tags": []
   },
   "outputs": [
    {
     "name": "stdout",
     "output_type": "stream",
     "text": [
      "Number of incorrectly classified points: 134 \n",
      "Proportion of correctly classified points 0.2947368 \n"
     ]
    },
    {
     "data": {
      "text/html": [
       "<table>\n",
       "<tbody>\n",
       "\t<tr><td> 0.5555556</td><td> 1        </td></tr>\n",
       "\t<tr><td>13.5555556</td><td>14        </td></tr>\n",
       "\t<tr><td> 6.5555556</td><td> 7        </td></tr>\n",
       "\t<tr><td> 0.0000000</td><td> 0        </td></tr>\n",
       "\t<tr><td> 2.1111111</td><td> 2        </td></tr>\n",
       "\t<tr><td> 3.0000000</td><td> 3        </td></tr>\n",
       "</tbody>\n",
       "</table>\n"
      ],
      "text/latex": [
       "\\begin{tabular}{ll}\n",
       "\t  0.5555556 &  1        \\\\\n",
       "\t 13.5555556 & 14        \\\\\n",
       "\t  6.5555556 &  7        \\\\\n",
       "\t  0.0000000 &  0        \\\\\n",
       "\t  2.1111111 &  2        \\\\\n",
       "\t  3.0000000 &  3        \\\\\n",
       "\\end{tabular}\n"
      ],
      "text/markdown": [
       "\n",
       "|  0.5555556 |  1         |\n",
       "| 13.5555556 | 14         |\n",
       "|  6.5555556 |  7         |\n",
       "|  0.0000000 |  0         |\n",
       "|  2.1111111 |  2         |\n",
       "|  3.0000000 |  3         |\n",
       "\n"
      ],
      "text/plain": [
       "     [,1]       [,2]\n",
       "[1,]  0.5555556  1  \n",
       "[2,] 13.5555556 14  \n",
       "[3,]  6.5555556  7  \n",
       "[4,]  0.0000000  0  \n",
       "[5,]  2.1111111  2  \n",
       "[6,]  3.0000000  3  "
      ]
     },
     "metadata": {},
     "output_type": "display_data"
    }
   ],
   "source": [
    "# Run the knn regression using the kknn command\n",
    "knn_reg <- kknn(formula = Differences ~ ., train=bscale.train, test=bscale.test, k=3)\n",
    "\n",
    "# Find the number of incorrectly classified points\n",
    "incorrect_reg <- which(knn_reg$fitted.values != bscale.test$Differences, arr.ind = TRUE)\n",
    "cat(\"Number of incorrectly classified points:\", length(incorrect_reg), \"\\n\");\n",
    "\n",
    "# Find the proportion of correctly classified points\n",
    "correct_reg <- which(knn_reg$fitted.values == bscale.test$Differences, arr.ind = TRUE)\n",
    "cat(\"Proportion of correctly classified points\", length(correct_reg)/length(bscale.test$Differences), \"\\n\")\n",
    "\n",
    "\n",
    "# Display the first few rows of the regression estimates of the differences and their true values\n",
    "head(cbind(knn_reg$fitted.values,bscale.test$Differences))"
   ]
  },
  {
   "cell_type": "markdown",
   "metadata": {},
   "source": [
    "We can also determine the optimal value of k using the train.kknn command."
   ]
  },
  {
   "cell_type": "code",
   "execution_count": 7,
   "metadata": {
    "tags": []
   },
   "outputs": [
    {
     "data": {
      "text/html": [
       "<dl>\n",
       "\t<dt>$kernel</dt>\n",
       "\t\t<dd>'optimal'</dd>\n",
       "\t<dt>$k</dt>\n",
       "\t\t<dd>2</dd>\n",
       "</dl>\n"
      ],
      "text/latex": [
       "\\begin{description}\n",
       "\\item[\\$kernel] 'optimal'\n",
       "\\item[\\$k] 2\n",
       "\\end{description}\n"
      ],
      "text/markdown": [
       "$kernel\n",
       ":   'optimal'\n",
       "$k\n",
       ":   2\n",
       "\n",
       "\n"
      ],
      "text/plain": [
       "$kernel\n",
       "[1] \"optimal\"\n",
       "\n",
       "$k\n",
       "[1] 2\n"
      ]
     },
     "metadata": {},
     "output_type": "display_data"
    }
   ],
   "source": [
    "best_reg <- train.kknn(formula = Differences ~ ., data=bscale.train, kmax=8)\n",
    "best_reg$best.parameters  "
   ]
  },
  {
   "cell_type": "markdown",
   "metadata": {},
   "source": [
    "The results indicate that the best value for k, in terms of knn regression, is k=2. This value makes sense given that the k-nearest neighbors regression algorithm estimates the outcome using a weighted average of the k nearest neighbors, weighted by the inverse of their distance."
   ]
  },
  {
   "cell_type": "code",
   "execution_count": 8,
   "metadata": {},
   "outputs": [
    {
     "name": "stdout",
     "output_type": "stream",
     "text": [
      "Number of incorrectly classified points: 81 \n",
      "Proportion of correctly classified points 0.5736842 \n"
     ]
    },
    {
     "data": {
      "text/html": [
       "<table>\n",
       "<tbody>\n",
       "\t<tr><td> 0.75</td><td> 1   </td></tr>\n",
       "\t<tr><td>13.75</td><td>14   </td></tr>\n",
       "\t<tr><td> 6.75</td><td> 7   </td></tr>\n",
       "\t<tr><td> 0.00</td><td> 0   </td></tr>\n",
       "\t<tr><td> 2.00</td><td> 2   </td></tr>\n",
       "\t<tr><td> 3.00</td><td> 3   </td></tr>\n",
       "</tbody>\n",
       "</table>\n"
      ],
      "text/latex": [
       "\\begin{tabular}{ll}\n",
       "\t  0.75 &  1   \\\\\n",
       "\t 13.75 & 14   \\\\\n",
       "\t  6.75 &  7   \\\\\n",
       "\t  0.00 &  0   \\\\\n",
       "\t  2.00 &  2   \\\\\n",
       "\t  3.00 &  3   \\\\\n",
       "\\end{tabular}\n"
      ],
      "text/markdown": [
       "\n",
       "|  0.75 |  1    |\n",
       "| 13.75 | 14    |\n",
       "|  6.75 |  7    |\n",
       "|  0.00 |  0    |\n",
       "|  2.00 |  2    |\n",
       "|  3.00 |  3    |\n",
       "\n"
      ],
      "text/plain": [
       "     [,1]  [,2]\n",
       "[1,]  0.75  1  \n",
       "[2,] 13.75 14  \n",
       "[3,]  6.75  7  \n",
       "[4,]  0.00  0  \n",
       "[5,]  2.00  2  \n",
       "[6,]  3.00  3  "
      ]
     },
     "metadata": {},
     "output_type": "display_data"
    }
   ],
   "source": [
    "# Run the knn regression again using the kknn command with k=2\n",
    "knn_reg2 <- kknn(formula = Differences ~ ., train=bscale.train, test=bscale.test, k=2)\n",
    "\n",
    "# Find the number of incorrectly classified points\n",
    "incorrect_reg2 <- which(knn_reg2$fitted.values != bscale.test$Differences, arr.ind = TRUE)\n",
    "cat(\"Number of incorrectly classified points:\", length(incorrect_reg2),\"\\n\")\n",
    "# Find the proportion of correctly classified points\n",
    "correct_reg2 <- which(knn_reg2$fitted.values == bscale.test$Differences, arr.ind = TRUE)\n",
    "cat(\"Proportion of correctly classified points\",length(correct_reg2)/length(bscale.test$Differences),\"\\n\")\n",
    "\n",
    "# Display the first few rows of the new regression estimates of the differences and their true values\n",
    "head(cbind(knn_reg2$fitted.values,bscale.test$Differences))"
   ]
  },
  {
   "cell_type": "markdown",
   "metadata": {},
   "source": [
    "As can be seen, the estimates of the regression using k = 2 are closer to the true values with almost double the accuracy."
   ]
  },
  {
   "cell_type": "markdown",
   "metadata": {},
   "source": [
    "### g). K-nearest neighbors classification using the kknn command"
   ]
  },
  {
   "cell_type": "markdown",
   "metadata": {},
   "source": [
    "We can also use the kknn command for classification:"
   ]
  },
  {
   "cell_type": "code",
   "execution_count": 9,
   "metadata": {
    "tags": []
   },
   "outputs": [
    {
     "name": "stdout",
     "output_type": "stream",
     "text": [
      "Number of incorrectly classified points: 1 \n"
     ]
    }
   ],
   "source": [
    "# The kknn function can also be used for classification\n",
    "knn_class2 <- kknn(formula = Class_Name ~ ., train=subset(balance_scale, select=c(Class_Name,Right_Product,Left_Product,Differences))[ind==1,], test=subset(balance_scale, select=c(Class_Name,Right_Product,Left_Product,Differences))[ind==2,], k=3)\n",
    "# Find the number of incorrectly classified points\n",
    "incorrect_class2 <- which(knn_class2$fitted.values != bscale.testLabels, arr.ind = TRUE)\n",
    "cat(\"Number of incorrectly classified points:\",length(incorrect_class2),\"\\n\")"
   ]
  },
  {
   "cell_type": "markdown",
   "metadata": {},
   "source": [
    "Now let's try finding the optimal value of k for classification."
   ]
  },
  {
   "cell_type": "code",
   "execution_count": 10,
   "metadata": {
    "tags": []
   },
   "outputs": [
    {
     "data": {
      "text/html": [
       "<dl>\n",
       "\t<dt>$kernel</dt>\n",
       "\t\t<dd>'optimal'</dd>\n",
       "\t<dt>$k</dt>\n",
       "\t\t<dd>1</dd>\n",
       "</dl>\n"
      ],
      "text/latex": [
       "\\begin{description}\n",
       "\\item[\\$kernel] 'optimal'\n",
       "\\item[\\$k] 1\n",
       "\\end{description}\n"
      ],
      "text/markdown": [
       "$kernel\n",
       ":   'optimal'\n",
       "$k\n",
       ":   1\n",
       "\n",
       "\n"
      ],
      "text/plain": [
       "$kernel\n",
       "[1] \"optimal\"\n",
       "\n",
       "$k\n",
       "[1] 1\n"
      ]
     },
     "metadata": {},
     "output_type": "display_data"
    }
   ],
   "source": [
    "best_class <- train.kknn(formula = Class_Name ~ ., data=subset(balance_scale, select=c(Class_Name,Right_Product,Left_Product,Differences))[ind==1,], kmax=8)\n",
    "best_class$best.parameters"
   ]
  },
  {
   "cell_type": "code",
   "execution_count": 11,
   "metadata": {
    "scrolled": true
   },
   "outputs": [
    {
     "name": "stdout",
     "output_type": "stream",
     "text": [
      "Number of incorrectly classified points: 1 \n"
     ]
    }
   ],
   "source": [
    "# Using k=1\n",
    "knn_class3 <- kknn(formula = Class_Name ~ ., train=subset(balance_scale, select=c(Class_Name,Right_Product,Left_Product,Differences))[ind==1,], test=subset(balance_scale, select=c(Class_Name,Right_Product,Left_Product,Differences))[ind==2,], k=1)\n",
    "# Find the number of incorrectly classified points\n",
    "incorrect_class3 <- which(knn_class3$fitted.values != bscale.testLabels, arr.ind = TRUE)\n",
    "cat(\"Number of incorrectly classified points:\", length(incorrect_class3),\"\\n\")"
   ]
  },
  {
   "cell_type": "markdown",
   "metadata": {},
   "source": [
    "The results of using k=1 are apparently similar to those of using k=3."
   ]
  },
  {
   "cell_type": "markdown",
   "metadata": {},
   "source": [
    "   ### Exercise 2: Second Language Immersion Schools in Canada (Classification)\n",
    "\n",
    "French immersion programs are designed for students who are not native French speakers or students who do not speak French at home. These programs provide instruction in the classroom entirely in French until the end of grade 3, although certain specialist subjects may be instructed in English. We are provided with a data set of Canadian schools offering French immersion programs (<font color = \"green\">\"Second_Language_Immersion_Schools_in_Canada.csv\"</font>), which contains information regarding these schools such as their names, provinces and coordinates.\n",
    "\n",
    "Suppose we would like to determine the province in which a certain school or other place of interest is located in Canada, given that we have the coordinates (latitude and longitude) of this place. We can do this by using the k-nearest neighbor algorithm.\n"
   ]
  },
  {
   "cell_type": "markdown",
   "metadata": {},
   "source": [
    "### a). Download the data set, load the data and view its structure\n",
    "\n",
    "We can use the download.file command to download the data set, <font color = \"green\">\"Second_Language_Immersion_Schools_in_Canada.csv\"</font>, load the data using the read.csv command, and view its structure using the str command."
   ]
  },
  {
   "cell_type": "code",
   "execution_count": 12,
   "metadata": {},
   "outputs": [
    {
     "name": "stdout",
     "output_type": "stream",
     "text": [
      "'data.frame':\t1973 obs. of  24 variables:\n",
      " $ source.code                               : Factor w/ 1973 levels \"10_100_004\",\"10_100_005\",..: 1720 1722 1718 1719 1723 1721 1921 1923 1922 367 ...\n",
      " $ name                                      : Factor w/ 1934 levels \"‚cole Centennial School\",..: 398 424 444 1079 1444 1849 182 183 639 647 ...\n",
      " $ Canadian.Heritage.region.code             : Factor w/ 4 levels \"pch01\",\"pch03\",..: 4 4 4 4 4 4 4 4 4 2 ...\n",
      " $ Canadian.Heritage.region.name..english    : Factor w/ 4 levels \"Atlantic Region\",..: 4 4 4 4 4 4 4 4 4 2 ...\n",
      " $ Canadian.Heritage.region.name..french     : Factor w/ 4 levels \"Ontario\",\"R‚gion de l'Atlantique\",..: 3 3 3 3 3 3 3 3 3 1 ...\n",
      " $ province.code                             : Factor w/ 10 levels \"pr10\",\"pr11\",..: 9 9 9 9 9 9 9 9 9 5 ...\n",
      " $ province.name..english                    : Factor w/ 10 levels \"Alberta\",\"British Columbia\",..: 2 2 2 2 2 2 2 2 2 8 ...\n",
      " $ province.name..french                     : Factor w/ 10 levels \"?le-du-Prince-\\220douard\",..: 3 3 3 3 3 3 3 3 3 7 ...\n",
      " $ economic.region.code                      : Factor w/ 57 levels \"er1010\",\"er1020\",..: 50 50 50 50 50 50 49 49 49 25 ...\n",
      " $ economic.region.name..english             : Factor w/ 55 levels \"Annapolis Valley\",..: 21 21 21 21 21 21 50 50 50 28 ...\n",
      " $ economic.region.name..french              : Factor w/ 56 levels \"Annapolis Valley\",..: 28 28 28 28 28 28 21 21 21 32 ...\n",
      " $ census.division.code                      : Factor w/ 153 levels \"cd1001\",\"cd1002\",..: 131 131 131 131 131 131 136 136 136 82 ...\n",
      " $ census.division.name..english             : Factor w/ 122 levels \"Alberni-Clayoquot\",..: 52 52 52 52 52 52 1 1 1 3 ...\n",
      " $ census.division.name..french              : Factor w/ 122 levels \"Alberni-Clayoquot\",..: 52 52 52 52 52 52 1 1 1 3 ...\n",
      " $ census.subdivision.code                   : int  5909052 5909052 5909052 5909052 5909052 5909052 5923008 5923008 5923008 3557041 ...\n",
      " $ census.subdivision.name                   : Factor w/ 398 levels \"0\",\"Abbotsford\",..: 2 2 2 2 2 2 262 262 262 99 ...\n",
      " $ dissemination.area.code                   : int  59090110 59090125 59090792 59090058 59090049 59090103 59230143 59230106 59230127 35570349 ...\n",
      " $ census.metropolitan.area.code             : int  59932 59932 59932 59932 59932 59932 59940 59940 59940 35582 ...\n",
      " $ census.metropolitan.area.name             : Factor w/ 107 levels \"0\",\"Abbotsford - Mission\",..: 2 2 2 2 2 2 68 68 68 28 ...\n",
      " $ census.metropolitan.area.type             : Factor w/ 4 levels \"0\",\"ca with census tracts\",..: 4 4 4 4 4 4 3 3 3 3 ...\n",
      " $ Statistical.Area.Classification..SAC..type: int  1 1 1 1 1 1 3 3 3 3 ...\n",
      " $ Statistical.Area.Classification..SAC..code: int  932 932 932 932 932 932 940 940 940 582 ...\n",
      " $ latitude                                  : num  49 49.1 49.1 49.1 49.1 ...\n",
      " $ longitude                                 : num  -122 -122 -122 -122 -122 ...\n"
     ]
    }
   ],
   "source": [
    "# Load the data and view the structure\n",
    "schools <- read.csv(\"https://ibm.box.com/shared/static/uummw8ijp41gn3nfkuipi78xnalkss4c.csv\", sep = \",\")\n",
    "str(schools)"
   ]
  },
  {
   "cell_type": "markdown",
   "metadata": {},
   "source": [
    "### b). Clean the data\n",
    "For the task we would like to do we only need a few variables of the data. These variables are school name (just for viewing), province, latitude and longitude. We will also change the variable names to cleaner names where possible."
   ]
  },
  {
   "cell_type": "code",
   "execution_count": 13,
   "metadata": {},
   "outputs": [
    {
     "data": {
      "text/html": [
       "<table>\n",
       "<thead><tr><th scope=col>name</th><th scope=col>province.name..english</th><th scope=col>latitude</th><th scope=col>longitude</th></tr></thead>\n",
       "<tbody>\n",
       "\t<tr><td>Centennial Park Elementary   </td><td>British Columbia             </td><td>49.04759                     </td><td>-122.3154                    </td></tr>\n",
       "\t<tr><td>Chief Dan George Middle      </td><td>British Columbia             </td><td>49.06641                     </td><td>-122.3137                    </td></tr>\n",
       "\t<tr><td>Clearbrook Elementary        </td><td>British Columbia             </td><td>49.06815                     </td><td>-122.3380                    </td></tr>\n",
       "\t<tr><td>Margaret Stenersen Elementary</td><td>British Columbia             </td><td>49.05723                     </td><td>-122.2706                    </td></tr>\n",
       "\t<tr><td>Sandy Hill Elementary        </td><td>British Columbia             </td><td>49.07144                     </td><td>-122.2493                    </td></tr>\n",
       "\t<tr><td>W J Mouat Secondary          </td><td>British Columbia             </td><td>49.05892                     </td><td>-122.3290                    </td></tr>\n",
       "</tbody>\n",
       "</table>\n"
      ],
      "text/latex": [
       "\\begin{tabular}{r|llll}\n",
       " name & province.name..english & latitude & longitude\\\\\n",
       "\\hline\n",
       "\t Centennial Park Elementary    & British Columbia              & 49.04759                      & -122.3154                    \\\\\n",
       "\t Chief Dan George Middle       & British Columbia              & 49.06641                      & -122.3137                    \\\\\n",
       "\t Clearbrook Elementary         & British Columbia              & 49.06815                      & -122.3380                    \\\\\n",
       "\t Margaret Stenersen Elementary & British Columbia              & 49.05723                      & -122.2706                    \\\\\n",
       "\t Sandy Hill Elementary         & British Columbia              & 49.07144                      & -122.2493                    \\\\\n",
       "\t W J Mouat Secondary           & British Columbia              & 49.05892                      & -122.3290                    \\\\\n",
       "\\end{tabular}\n"
      ],
      "text/markdown": [
       "\n",
       "| name | province.name..english | latitude | longitude |\n",
       "|---|---|---|---|\n",
       "| Centennial Park Elementary    | British Columbia              | 49.04759                      | -122.3154                     |\n",
       "| Chief Dan George Middle       | British Columbia              | 49.06641                      | -122.3137                     |\n",
       "| Clearbrook Elementary         | British Columbia              | 49.06815                      | -122.3380                     |\n",
       "| Margaret Stenersen Elementary | British Columbia              | 49.05723                      | -122.2706                     |\n",
       "| Sandy Hill Elementary         | British Columbia              | 49.07144                      | -122.2493                     |\n",
       "| W J Mouat Secondary           | British Columbia              | 49.05892                      | -122.3290                     |\n",
       "\n"
      ],
      "text/plain": [
       "  name                          province.name..english latitude longitude\n",
       "1 Centennial Park Elementary    British Columbia       49.04759 -122.3154\n",
       "2 Chief Dan George Middle       British Columbia       49.06641 -122.3137\n",
       "3 Clearbrook Elementary         British Columbia       49.06815 -122.3380\n",
       "4 Margaret Stenersen Elementary British Columbia       49.05723 -122.2706\n",
       "5 Sandy Hill Elementary         British Columbia       49.07144 -122.2493\n",
       "6 W J Mouat Secondary           British Columbia       49.05892 -122.3290"
      ]
     },
     "metadata": {},
     "output_type": "display_data"
    },
    {
     "data": {
      "text/html": [
       "<table>\n",
       "<thead><tr><th scope=col>name</th><th scope=col>province</th><th scope=col>latitude</th><th scope=col>longitude</th></tr></thead>\n",
       "<tbody>\n",
       "\t<tr><td>Centennial Park Elementary   </td><td>British Columbia             </td><td>49.04759                     </td><td>-122.3154                    </td></tr>\n",
       "\t<tr><td>Chief Dan George Middle      </td><td>British Columbia             </td><td>49.06641                     </td><td>-122.3137                    </td></tr>\n",
       "\t<tr><td>Clearbrook Elementary        </td><td>British Columbia             </td><td>49.06815                     </td><td>-122.3380                    </td></tr>\n",
       "\t<tr><td>Margaret Stenersen Elementary</td><td>British Columbia             </td><td>49.05723                     </td><td>-122.2706                    </td></tr>\n",
       "\t<tr><td>Sandy Hill Elementary        </td><td>British Columbia             </td><td>49.07144                     </td><td>-122.2493                    </td></tr>\n",
       "\t<tr><td>W J Mouat Secondary          </td><td>British Columbia             </td><td>49.05892                     </td><td>-122.3290                    </td></tr>\n",
       "</tbody>\n",
       "</table>\n"
      ],
      "text/latex": [
       "\\begin{tabular}{r|llll}\n",
       " name & province & latitude & longitude\\\\\n",
       "\\hline\n",
       "\t Centennial Park Elementary    & British Columbia              & 49.04759                      & -122.3154                    \\\\\n",
       "\t Chief Dan George Middle       & British Columbia              & 49.06641                      & -122.3137                    \\\\\n",
       "\t Clearbrook Elementary         & British Columbia              & 49.06815                      & -122.3380                    \\\\\n",
       "\t Margaret Stenersen Elementary & British Columbia              & 49.05723                      & -122.2706                    \\\\\n",
       "\t Sandy Hill Elementary         & British Columbia              & 49.07144                      & -122.2493                    \\\\\n",
       "\t W J Mouat Secondary           & British Columbia              & 49.05892                      & -122.3290                    \\\\\n",
       "\\end{tabular}\n"
      ],
      "text/markdown": [
       "\n",
       "| name | province | latitude | longitude |\n",
       "|---|---|---|---|\n",
       "| Centennial Park Elementary    | British Columbia              | 49.04759                      | -122.3154                     |\n",
       "| Chief Dan George Middle       | British Columbia              | 49.06641                      | -122.3137                     |\n",
       "| Clearbrook Elementary         | British Columbia              | 49.06815                      | -122.3380                     |\n",
       "| Margaret Stenersen Elementary | British Columbia              | 49.05723                      | -122.2706                     |\n",
       "| Sandy Hill Elementary         | British Columbia              | 49.07144                      | -122.2493                     |\n",
       "| W J Mouat Secondary           | British Columbia              | 49.05892                      | -122.3290                     |\n",
       "\n"
      ],
      "text/plain": [
       "  name                          province         latitude longitude\n",
       "1 Centennial Park Elementary    British Columbia 49.04759 -122.3154\n",
       "2 Chief Dan George Middle       British Columbia 49.06641 -122.3137\n",
       "3 Clearbrook Elementary         British Columbia 49.06815 -122.3380\n",
       "4 Margaret Stenersen Elementary British Columbia 49.05723 -122.2706\n",
       "5 Sandy Hill Elementary         British Columbia 49.07144 -122.2493\n",
       "6 W J Mouat Secondary           British Columbia 49.05892 -122.3290"
      ]
     },
     "metadata": {},
     "output_type": "display_data"
    }
   ],
   "source": [
    "# Create a subset of the data containing the variables province, latitude, and longitude\n",
    "schools.sub <- subset(schools, select=c(name, province.name..english, latitude, longitude))\n",
    "head(schools.sub)\n",
    "# Change the column names to cleaner names\n",
    "colnames(schools.sub) <- c(\"name\", \"province\", \"latitude\", \"longitude\")\n",
    "head(schools.sub)"
   ]
  },
  {
   "cell_type": "markdown",
   "metadata": {},
   "source": [
    "### c). Visualize the data on a map\n",
    "We will now install and load packages that will enable us to visualize our data by displayiing it on a map. This should make it easier to see clearly the predictions made by the knn algorithm."
   ]
  },
  {
   "cell_type": "code",
   "execution_count": 14,
   "metadata": {},
   "outputs": [
    {
     "name": "stderr",
     "output_type": "stream",
     "text": [
      "also installing the dependencies 'rlang', 'fastmap', 'htmltools', 'terra', 'viridisLite', 'gridExtra', 'crosstalk', 'htmlwidgets', 'png', 'raster', 'sp', 'viridis', 'leaflet.providers'\n",
      "\n"
     ]
    },
    {
     "name": "stdout",
     "output_type": "stream",
     "text": [
      "\n",
      "  There are binary versions available but the source versions are later:\n",
      "             binary source needs_compilation\n",
      "rlang        0.4.11  1.0.6              TRUE\n",
      "htmltools   0.5.1.1  0.5.4              TRUE\n",
      "terra         1.2-5 1.6-47              TRUE\n",
      "viridisLite   0.4.0  0.4.1             FALSE\n",
      "crosstalk     1.1.1  1.2.0             FALSE\n",
      "htmlwidgets   1.5.3  1.6.1             FALSE\n",
      "png           0.1-7  0.1-8              TRUE\n",
      "raster       3.4-10 3.6-13              TRUE\n",
      "sp            1.4-5  1.5-1              TRUE\n",
      "viridis       0.6.1  0.6.2             FALSE\n",
      "leaflet     2.0.4.1  2.1.1             FALSE\n",
      "\n",
      "  Binaries will be installed\n",
      "package 'rlang' successfully unpacked and MD5 sums checked\n",
      "package 'fastmap' successfully unpacked and MD5 sums checked\n",
      "package 'htmltools' successfully unpacked and MD5 sums checked\n"
     ]
    },
    {
     "name": "stderr",
     "output_type": "stream",
     "text": [
      "Warning message:\n",
      "\"cannot remove prior installation of package 'htmltools'\"Warning message in file.copy(savedcopy, lib, recursive = TRUE):\n",
      "\"problem copying C:\\Users\\Erlangga\\anaconda3\\envs\\RKernel\\Lib\\R\\library\\00LOCK\\htmltools\\libs\\x64\\htmltools.dll to C:\\Users\\Erlangga\\anaconda3\\envs\\RKernel\\Lib\\R\\library\\htmltools\\libs\\x64\\htmltools.dll: Permission denied\"Warning message:\n",
      "\"restored 'htmltools'\""
     ]
    },
    {
     "name": "stdout",
     "output_type": "stream",
     "text": [
      "package 'terra' successfully unpacked and MD5 sums checked\n",
      "package 'gridExtra' successfully unpacked and MD5 sums checked\n",
      "package 'png' successfully unpacked and MD5 sums checked\n",
      "package 'raster' successfully unpacked and MD5 sums checked\n",
      "package 'sp' successfully unpacked and MD5 sums checked\n",
      "package 'leaflet.providers' successfully unpacked and MD5 sums checked\n",
      "\n",
      "The downloaded binary packages are in\n",
      "\tC:\\Users\\Erlangga\\AppData\\Local\\Temp\\Rtmp6FFseI\\downloaded_packages\n"
     ]
    },
    {
     "name": "stderr",
     "output_type": "stream",
     "text": [
      "installing the source packages 'viridisLite', 'crosstalk', 'htmlwidgets', 'viridis', 'leaflet'\n",
      "\n",
      "Warning message in install.packages(\"leaflet\"):\n",
      "\"installation of package 'htmlwidgets' had non-zero exit status\"Warning message in install.packages(\"leaflet\"):\n",
      "\"installation of package 'leaflet' had non-zero exit status\""
     ]
    },
    {
     "ename": "ERROR",
     "evalue": "Error in library(leaflet): there is no package called 'leaflet'\n",
     "output_type": "error",
     "traceback": [
      "Error in library(leaflet): there is no package called 'leaflet'\nTraceback:\n",
      "1. library(leaflet)"
     ]
    }
   ],
   "source": [
    "# Installing leaflet maps\n",
    "install.packages(\"leaflet\")\n",
    "library(leaflet)\n",
    "# Packages used to display the maps in this notebook\n",
    "library(htmlwidgets)\n",
    "library(IRdisplay)"
   ]
  },
  {
   "cell_type": "markdown",
   "metadata": {},
   "source": [
    "Next we will set up a default parameters for the setView attribute of the map we are creating."
   ]
  },
  {
   "cell_type": "code",
   "execution_count": 15,
   "metadata": {
    "tags": []
   },
   "outputs": [],
   "source": [
    "# Establish the limits of our default visualization\n",
    "lower_lon = -140\n",
    "upper_lon = -50\n",
    "lower_lat = 40\n",
    "upper_lat = 65\n",
    "# Establish the center of our default visualization\n",
    "center_lon = (lower_lon + upper_lon)/2\n",
    "center_lat = (lower_lat + upper_lat)/2\n",
    "# Set the zoom of our default visualization\n",
    "zoom = 4"
   ]
  },
  {
   "cell_type": "markdown",
   "metadata": {},
   "source": [
    "Now we create and display our map"
   ]
  },
  {
   "cell_type": "code",
   "execution_count": 16,
   "metadata": {},
   "outputs": [
    {
     "ename": "ERROR",
     "evalue": "Error in leaflet(schools.sub) %>% setView(center_lon, center_lat, zoom) %>% : could not find function \"%>%\"\n",
     "output_type": "error",
     "traceback": [
      "Error in leaflet(schools.sub) %>% setView(center_lon, center_lat, zoom) %>% : could not find function \"%>%\"\nTraceback:\n"
     ]
    }
   ],
   "source": [
    "# Create a leaflet map\n",
    "schools_map <- leaflet(schools.sub) %>%\n",
    "  setView(center_lon,center_lat, zoom)%>% \n",
    "  addProviderTiles(\"OpenStreetMap.BlackAndWhite\")%>% # set the map that we want to use as background\n",
    "  addCircleMarkers(lng = schools.sub$longitude, \n",
    "                   lat = schools.sub$latitude, \n",
    "                   popup = schools.sub$name, # pop-ups will show the name of school if you click on a data point\n",
    "                   fillColor = \"Black\", # colors of the markers will be black\n",
    "                   fillOpacity = 1, # the shapes will have maximum opacity\n",
    "                   radius = 4, # radius determine the size of each shape\n",
    "                   stroke = F) # no stroke will be drawn in each data point\n",
    "\n",
    "saveWidget(schools_map, file=\"schools_map.html\", selfcontained = F) #saving the leaflet map in html\n",
    "display_html(paste(\"<iframe src=' \", 'schools_map.html', \" ' width='100%' height='400'\",\"/>\")) #display the map !\n"
   ]
  },
  {
   "cell_type": "markdown",
   "metadata": {},
   "source": [
    "### d). Implementation of k-nearest neighbors\n",
    "Now we will use the knn algorithm from the 'class' package to perform our classification task. This will be done by first separating our data into training and test groups, selecting our k parameter value, and then using them to make predictions of the provinces of our test data using the knn command."
   ]
  },
  {
   "cell_type": "code",
   "execution_count": 17,
   "metadata": {
    "tags": []
   },
   "outputs": [
    {
     "name": "stdout",
     "output_type": "stream",
     "text": [
      "Number of incorrectly classified points: 6 \n",
      "Proportion of correctly classified points 0.9893428 \n"
     ]
    }
   ],
   "source": [
    "# Use the sample function to create a vector of indices that will be used to split our data into training and test data\n",
    "set.seed(1234)\n",
    "ind <- sample(2, nrow(schools.sub), replace=TRUE, prob=c(0.7, 0.3)) # This creates a vector of equal length to our data, with approximately 70% of the values being 1 and the remaining values are 2  \n",
    "# Create training and test sets containing only the geographical locations \n",
    "schools.train <- schools.sub[ind==1,3:4]\n",
    "schools.test <- schools.sub[ind==2,3:4]\n",
    "# Note: Normalizing or standardizing the geographical attributes of the data will not be helpful since values are already on the same scale \n",
    "# Create the target vectors for the training and test data from the original dataset using ind\n",
    "schools.trainLabels <- schools.sub[ind==1,2]\n",
    "schools.testLabels <- schools.sub[ind==2,2]\n",
    "# Run the knn algorithm to classify test data points into the different provinces\n",
    "prov_pred <- knn(train = schools.train, test = schools.test, cl = schools.trainLabels, k=3)\n",
    "\n",
    "# Find the number of incorrectly classified points\n",
    "correct_provinces <- which(prov_pred == schools.testLabels, arr.ind = TRUE)\n",
    "incorrect_provinces <- which(prov_pred != schools.testLabels, arr.ind = TRUE)\n",
    "cat(\"Number of incorrectly classified points:\", length(incorrect_provinces),\"\\n\")\n",
    "# Find the proportion of correctly classified points\n",
    "proportion_of_correct_provinces <- length(correct_provinces)/length(schools.testLabels)\n",
    "cat(\"Proportion of correctly classified points\", proportion_of_correct_provinces,\"\\n\")"
   ]
  },
  {
   "cell_type": "markdown",
   "metadata": {},
   "source": [
    "### e). Plot the classification predictions of k-nearest neighbors\n",
    "Now we will link the knn predictions of the provinces with the coordinates of the test data, and display them on a map."
   ]
  },
  {
   "cell_type": "code",
   "execution_count": 18,
   "metadata": {
    "tags": []
   },
   "outputs": [
    {
     "ename": "ERROR",
     "evalue": "Error in colorFactor(topo.colors(10), schools.test$prov): could not find function \"colorFactor\"\n",
     "output_type": "error",
     "traceback": [
      "Error in colorFactor(topo.colors(10), schools.test$prov): could not find function \"colorFactor\"\nTraceback:\n"
     ]
    }
   ],
   "source": [
    "# Link the knn predictions with the test data\n",
    "schools.test$prov <- prov_pred\n",
    "# Plot the test data with predicted provinces\n",
    "color <- colorFactor(topo.colors(10), schools.test$prov)\n",
    "schools_map2 <- leaflet(schools.test) %>%\n",
    "  setView(center_lon,center_lat, zoom)%>% \n",
    "  addProviderTiles(\"OpenStreetMap.BlackAndWhite\")%>% # set the map that we want to use as background\n",
    "  addCircleMarkers(lng = schools.test$longitude, \n",
    "                   lat = schools.test$latitude, \n",
    "                   popup = schools.test$prov, # pop-ups will show the predicted province if you click on a data point\n",
    "                   fillColor = ~color(prov),\n",
    "                   fillOpacity = 1, # the shapes will have maximum opacity\n",
    "                   radius = 4, # radius determine the size of each shape\n",
    "                   stroke = F) # no stroke will be drawn in each data point\n",
    "\n",
    "saveWidget(schools_map2, file=\"schools_map2.html\", selfcontained = F) #saving the leaflet map in html\n",
    "display_html(paste(\"<iframe src=' \", 'schools_map2.html', \" ' width='100%' height='400'\",\"/>\")) #display the map !\n",
    "\n"
   ]
  }
 ],
 "metadata": {
  "anaconda-cloud": {},
  "kernelspec": {
   "display_name": "R",
   "language": "R",
   "name": "ir"
  },
  "language_info": {
   "codemirror_mode": "r",
   "file_extension": ".r",
   "mimetype": "text/x-r-source",
   "name": "R",
   "pygments_lexer": "r",
   "version": "3.6.1"
  },
  "vscode": {
   "interpreter": {
    "hash": "d8edb1250e16a1c1a8f0bd4a5e7e1d8ad0873a8cbfa9127017e59dd7ab2b19d3"
   }
  }
 },
 "nbformat": 4,
 "nbformat_minor": 4
}
