{
 "cells": [
  {
   "cell_type": "markdown",
   "metadata": {
    "button": false,
    "new_sheet": false,
    "run_control": {
     "read_only": false
    }
   },
   "source": [
    "<h1 align=center><font size = 5>Exercise: Hierarchical Clustering in R</font></h1>"
   ]
  },
  {
   "cell_type": "markdown",
   "metadata": {
    "button": false,
    "new_sheet": false,
    "run_control": {
     "read_only": false
    }
   },
   "source": [
    "In this exercise, we will use the Hierarchical clustering algorithm to cluster weather station data. let's start playing with the data. We will be working according to the following workflow: </font>\n",
    "1. Loading data\n",
    "- Overview data\n",
    "- Data cleaning\n",
    "- Data selection\n",
    "- Clusteing"
   ]
  },
  {
   "cell_type": "markdown",
   "metadata": {
    "button": false,
    "new_sheet": false,
    "run_control": {
     "read_only": false
    }
   },
   "source": [
    "In this notebook, we will use the weather data, and will be using only the columns with names listed in <font color = \"green\">green</font>.\n",
    "\n",
    "<h4 align = \"center\">\n",
    "Environment Canada    \n",
    "Monthly Values for July - 2015\t\n",
    "</h4>\n",
    "<html>\n",
    "<head>\n",
    "<style>\n",
    "table {\n",
    "    font-family: arial, sans-serif;\n",
    "    border-collapse: collapse;\n",
    "    width: 100%;\n",
    "}\n",
    "\n",
    "td, th {\n",
    "    border: 1px solid #dddddd;\n",
    "    text-align: left;\n",
    "    padding: 8px;\n",
    "}\n",
    "\n",
    "tr:nth-child(even) {\n",
    "    background-color: #dddddd;\n",
    "}\n",
    "</style>\n",
    "</head>\n",
    "<body>\n",
    "\n",
    "<table>\n",
    "  <tr>\n",
    "    <th>Name in the table</th>\n",
    "    <th>Meaning</th>\n",
    "  </tr>\n",
    "  <tr>\n",
    "    <td><font color = \"green\"><strong>Stn_Name</font></td>\n",
    "    <td><font color = \"green\"><strong>Station Name</font</td>\n",
    "  </tr>\n",
    "  <tr>\n",
    "    <td><font color = \"green\"><strong>Lat</font></td>\n",
    "    <td><font color = \"green\"><strong>Latitude (North+, degrees)</font></td>\n",
    "  </tr>\n",
    "  <tr>\n",
    "    <td><font color = \"green\"><strong>Long</font></td>\n",
    "    <td><font color = \"green\"><strong>Longitude (West - , degrees)</font></td>\n",
    "  </tr>\n",
    "  <tr>\n",
    "    <td>Prov</td>\n",
    "    <td>Province</td>\n",
    "  </tr>\n",
    "  <tr>\n",
    "    <td>Tm</td>\n",
    "    <td>Mean Temperature (°C)</td>\n",
    "  </tr>\n",
    "  <tr>\n",
    "    <td>DwTm</td>\n",
    "    <td>Days without Valid Mean Temperature</td>\n",
    "  </tr>\n",
    "  <tr>\n",
    "    <td>D</td>\n",
    "    <td>Mean Temperature difference from Normal (1981-2010) (°C)</td>\n",
    "  </tr>\n",
    "  <tr>\n",
    "    <td><font color = \"black\">Tx</font></td>\n",
    "    <td><font color = \"black\">Highest Monthly Maximum Temperature (°C)</font></td>\n",
    "  </tr>\n",
    "  <tr>\n",
    "    <td>DwTx</td>\n",
    "    <td>Days without Valid Maximum Temperature</td>\n",
    "  </tr>\n",
    "  <tr>\n",
    "    <td><font color = \"black\">Tn</font></td>\n",
    "    <td><font color = \"black\">Lowest Monthly Minimum Temperature (°C)</font></td>\n",
    "  </tr>\n",
    "  <tr>\n",
    "    <td>DwTn</td>\n",
    "    <td>Days without Valid Minimum Temperature</td>\n",
    "  </tr>\n",
    "  <tr>\n",
    "    <td>S</td>\n",
    "    <td>Snowfall (cm)</td>\n",
    "  </tr>\n",
    "  <tr>\n",
    "    <td>DwS</td>\n",
    "    <td>Days without Valid Snowfall</td>\n",
    "  </tr>\n",
    "  <tr>\n",
    "    <td>S%N</td>\n",
    "    <td>Percent of Normal (1981-2010) Snowfall</td>\n",
    "  </tr>\n",
    "  <tr>\n",
    "    <td><font color = \"green\"><strong>P</font></td>\n",
    "    <td><font color = \"green\"><strong>Total Precipitation (mm)</font></td>\n",
    "  </tr>\n",
    "  <tr>\n",
    "    <td>DwP</td>\n",
    "    <td>Days without Valid Precipitation</td>\n",
    "  </tr>\n",
    "  <tr>\n",
    "    <td>P%N</td>\n",
    "    <td>Percent of Normal (1981-2010) Precipitation</td>\n",
    "  </tr>\n",
    "  <tr>\n",
    "    <td>S_G</td>\n",
    "    <td>Snow on the ground at the end of the month (cm)</td>\n",
    "  </tr>\n",
    "  <tr>\n",
    "    <td>Pd</td>\n",
    "    <td>Number of days with Precipitation 1.0 mm or more</td>\n",
    "  </tr>\n",
    "  <tr>\n",
    "    <td>BS</td>\n",
    "    <td>Bright Sunshine (hours)</td>\n",
    "  </tr>\n",
    "  <tr>\n",
    "    <td>DwBS</td>\n",
    "    <td>Days without Valid Bright Sunshine</td>\n",
    "  </tr>\n",
    "  <tr>\n",
    "    <td>BS%</td>\n",
    "    <td>Percent of Normal (1981-2010) Bright Sunshine</td>\n",
    "  </tr>\n",
    "  <tr>\n",
    "    <td>HDD</td>\n",
    "    <td>Degree Days below 18 °C</td>\n",
    "  </tr>\n",
    "  <tr>\n",
    "    <td>CDD</td>\n",
    "    <td>Degree Days above 18 °C</td>\n",
    "  </tr>\n",
    "  <tr>\n",
    "    <td>Stn_No</td>\n",
    "    <td>Climate station identifier (first 3 digits indicate   drainage basin, last 4 characters are for sorting alphabetically).</td>\n",
    "  </tr>\n",
    "  <tr>\n",
    "    <td>NA</td>\n",
    "    <td>Not Available</td>\n",
    "  </tr>\n",
    "\n",
    "\n",
    "</table>\n",
    "\n",
    "</body>\n",
    "</html>\n",
    "\n"
   ]
  },
  {
   "cell_type": "markdown",
   "metadata": {
    "button": false,
    "new_sheet": false,
    "run_control": {
     "read_only": false
    }
   },
   "source": [
    "### Install and import required libraries"
   ]
  },
  {
   "cell_type": "code",
   "execution_count": 2,
   "metadata": {
    "button": false,
    "new_sheet": false,
    "run_control": {
     "read_only": false
    }
   },
   "outputs": [
    {
     "name": "stdout",
     "output_type": "stream",
     "text": [
      "\n",
      "  There is a binary version available but the source version is later:\n",
      "         binary source needs_compilation\n",
      "ggdendro 0.1.22 0.1.23             FALSE\n",
      "\n"
     ]
    },
    {
     "name": "stderr",
     "output_type": "stream",
     "text": [
      "installing the source package 'ggdendro'\n",
      "\n",
      "Registered S3 methods overwritten by 'ggplot2':\n",
      "  method         from \n",
      "  [.quosures     rlang\n",
      "  c.quosures     rlang\n",
      "  print.quosures rlang\n"
     ]
    }
   ],
   "source": [
    "# import libraries\n",
    "install.packages('ggdendro')\n",
    "library(ggdendro)\n",
    "library(ggplot2)"
   ]
  },
  {
   "cell_type": "markdown",
   "metadata": {
    "button": false,
    "new_sheet": false,
    "run_control": {
     "read_only": false
    }
   },
   "source": [
    "### 1. Loading the data\n",
    "Since the dataset was uploaded to a Box folder, we can use the ***download.file*** command to download the dataset, and load the data using the ***read.csv*** command."
   ]
  },
  {
   "cell_type": "code",
   "execution_count": 3,
   "metadata": {
    "button": false,
    "new_sheet": false,
    "run_control": {
     "read_only": false
    }
   },
   "outputs": [],
   "source": [
    "# download file and save it to weather and load data\n",
    "download.file(\"https://ibm.box.com/shared/static/mv6g5p1wpmpvzoz6e5zgo47t44q8dvm0.csv\", destfile = \"WeatherStations.csv\", quiet = FALSE)\n",
    "WeatherStations <- read.csv(\"WeatherStations.csv\", sep =',')"
   ]
  },
  {
   "cell_type": "markdown",
   "metadata": {
    "button": false,
    "new_sheet": false,
    "run_control": {
     "read_only": false
    }
   },
   "source": [
    "### 2. Overview of the data\n",
    "Using __head__ and __str__, take a quick look in the data before processing it."
   ]
  },
  {
   "cell_type": "code",
   "execution_count": 4,
   "metadata": {
    "button": false,
    "new_sheet": false,
    "run_control": {
     "read_only": false
    }
   },
   "outputs": [
    {
     "data": {
      "text/html": [
       "<table>\n",
       "<thead><tr><th scope=col>Stn_Name</th><th scope=col>Lat</th><th scope=col>Long</th><th scope=col>Prov</th><th scope=col>Tm</th><th scope=col>DwTm</th><th scope=col>D</th><th scope=col>Tx</th><th scope=col>DwTx</th><th scope=col>Tn</th><th scope=col>...</th><th scope=col>DwP</th><th scope=col>P.N</th><th scope=col>S_G</th><th scope=col>Pd</th><th scope=col>BS</th><th scope=col>DwBS</th><th scope=col>BS.</th><th scope=col>HDD</th><th scope=col>CDD</th><th scope=col>Stn_No</th></tr></thead>\n",
       "<tbody>\n",
       "\t<tr><td>CHEMAINUS             </td><td>48.935                </td><td>-123.742              </td><td>BC                    </td><td>8.2                   </td><td> 0                    </td><td> NA                   </td><td>13.5                  </td><td>0                     </td><td> 1.0                  </td><td>...                   </td><td> 0                    </td><td> NA                   </td><td> 0                    </td><td>12                    </td><td>NA                    </td><td>NA                    </td><td>NA                    </td><td>273.3                 </td><td> 0                    </td><td>1011500               </td></tr>\n",
       "\t<tr><td>COWICHAN LAKE FORESTRY</td><td>48.824                </td><td>-124.133              </td><td>BC                    </td><td>7.0                   </td><td> 0                    </td><td>3.0                   </td><td>15.0                  </td><td>0                     </td><td>-3.0                  </td><td>...                   </td><td> 0                    </td><td>104                   </td><td> 0                    </td><td>12                    </td><td>NA                    </td><td>NA                    </td><td>NA                    </td><td>307.0                 </td><td> 0                    </td><td>1012040               </td></tr>\n",
       "\t<tr><td>LAKE COWICHAN         </td><td>48.829                </td><td>-124.052              </td><td>BC                    </td><td>6.8                   </td><td>13                    </td><td>2.8                   </td><td>16.0                  </td><td>9                     </td><td>-2.5                  </td><td>...                   </td><td> 9                    </td><td> NA                   </td><td>NA                    </td><td>11                    </td><td>NA                    </td><td>NA                    </td><td>NA                    </td><td>168.1                 </td><td> 0                    </td><td>1012055               </td></tr>\n",
       "\t<tr><td>DISCOVERY ISLAND      </td><td>48.425                </td><td>-123.226              </td><td>BC                    </td><td> NA                   </td><td>NA                    </td><td> NA                   </td><td>12.5                  </td><td>0                     </td><td>  NA                  </td><td>...                   </td><td>NA                    </td><td> NA                   </td><td>NA                    </td><td>NA                    </td><td>NA                    </td><td>NA                    </td><td>NA                    </td><td>   NA                 </td><td>NA                    </td><td>1012475               </td></tr>\n",
       "\t<tr><td>DUNCAN KELVIN CREEK   </td><td>48.735                </td><td>-123.728              </td><td>BC                    </td><td>7.7                   </td><td> 2                    </td><td>3.4                   </td><td>14.5                  </td><td>2                     </td><td>-1.0                  </td><td>...                   </td><td> 2                    </td><td> NA                   </td><td>NA                    </td><td>11                    </td><td>NA                    </td><td>NA                    </td><td>NA                    </td><td>267.7                 </td><td> 0                    </td><td>1012573               </td></tr>\n",
       "\t<tr><td>ESQUIMALT HARBOUR     </td><td>48.432                </td><td>-123.439              </td><td>BC                    </td><td>8.8                   </td><td> 0                    </td><td> NA                   </td><td>13.1                  </td><td>0                     </td><td> 1.9                  </td><td>...                   </td><td> 8                    </td><td> NA                   </td><td>NA                    </td><td>12                    </td><td>NA                    </td><td>NA                    </td><td>NA                    </td><td>258.6                 </td><td> 0                    </td><td>1012710               </td></tr>\n",
       "</tbody>\n",
       "</table>\n"
      ],
      "text/latex": [
       "\\begin{tabular}{r|lllllllllllllllllllllllll}\n",
       " Stn\\_Name & Lat & Long & Prov & Tm & DwTm & D & Tx & DwTx & Tn & ... & DwP & P.N & S\\_G & Pd & BS & DwBS & BS. & HDD & CDD & Stn\\_No\\\\\n",
       "\\hline\n",
       "\t CHEMAINUS              & 48.935                 & -123.742               & BC                     & 8.2                    &  0                     &  NA                    & 13.5                   & 0                      &  1.0                   & ...                    &  0                     &  NA                    &  0                     & 12                     & NA                     & NA                     & NA                     & 273.3                  &  0                     & 1011500               \\\\\n",
       "\t COWICHAN LAKE FORESTRY & 48.824                 & -124.133               & BC                     & 7.0                    &  0                     & 3.0                    & 15.0                   & 0                      & -3.0                   & ...                    &  0                     & 104                    &  0                     & 12                     & NA                     & NA                     & NA                     & 307.0                  &  0                     & 1012040               \\\\\n",
       "\t LAKE COWICHAN          & 48.829                 & -124.052               & BC                     & 6.8                    & 13                     & 2.8                    & 16.0                   & 9                      & -2.5                   & ...                    &  9                     &  NA                    & NA                     & 11                     & NA                     & NA                     & NA                     & 168.1                  &  0                     & 1012055               \\\\\n",
       "\t DISCOVERY ISLAND       & 48.425                 & -123.226               & BC                     &  NA                    & NA                     &  NA                    & 12.5                   & 0                      &   NA                   & ...                    & NA                     &  NA                    & NA                     & NA                     & NA                     & NA                     & NA                     &    NA                  & NA                     & 1012475               \\\\\n",
       "\t DUNCAN KELVIN CREEK    & 48.735                 & -123.728               & BC                     & 7.7                    &  2                     & 3.4                    & 14.5                   & 2                      & -1.0                   & ...                    &  2                     &  NA                    & NA                     & 11                     & NA                     & NA                     & NA                     & 267.7                  &  0                     & 1012573               \\\\\n",
       "\t ESQUIMALT HARBOUR      & 48.432                 & -123.439               & BC                     & 8.8                    &  0                     &  NA                    & 13.1                   & 0                      &  1.9                   & ...                    &  8                     &  NA                    & NA                     & 12                     & NA                     & NA                     & NA                     & 258.6                  &  0                     & 1012710               \\\\\n",
       "\\end{tabular}\n"
      ],
      "text/markdown": [
       "\n",
       "| Stn_Name | Lat | Long | Prov | Tm | DwTm | D | Tx | DwTx | Tn | ... | DwP | P.N | S_G | Pd | BS | DwBS | BS. | HDD | CDD | Stn_No |\n",
       "|---|---|---|---|---|---|---|---|---|---|---|---|---|---|---|---|---|---|---|---|---|\n",
       "| CHEMAINUS              | 48.935                 | -123.742               | BC                     | 8.2                    |  0                     |  NA                    | 13.5                   | 0                      |  1.0                   | ...                    |  0                     |  NA                    |  0                     | 12                     | NA                     | NA                     | NA                     | 273.3                  |  0                     | 1011500                |\n",
       "| COWICHAN LAKE FORESTRY | 48.824                 | -124.133               | BC                     | 7.0                    |  0                     | 3.0                    | 15.0                   | 0                      | -3.0                   | ...                    |  0                     | 104                    |  0                     | 12                     | NA                     | NA                     | NA                     | 307.0                  |  0                     | 1012040                |\n",
       "| LAKE COWICHAN          | 48.829                 | -124.052               | BC                     | 6.8                    | 13                     | 2.8                    | 16.0                   | 9                      | -2.5                   | ...                    |  9                     |  NA                    | NA                     | 11                     | NA                     | NA                     | NA                     | 168.1                  |  0                     | 1012055                |\n",
       "| DISCOVERY ISLAND       | 48.425                 | -123.226               | BC                     |  NA                    | NA                     |  NA                    | 12.5                   | 0                      |   NA                   | ...                    | NA                     |  NA                    | NA                     | NA                     | NA                     | NA                     | NA                     |    NA                  | NA                     | 1012475                |\n",
       "| DUNCAN KELVIN CREEK    | 48.735                 | -123.728               | BC                     | 7.7                    |  2                     | 3.4                    | 14.5                   | 2                      | -1.0                   | ...                    |  2                     |  NA                    | NA                     | 11                     | NA                     | NA                     | NA                     | 267.7                  |  0                     | 1012573                |\n",
       "| ESQUIMALT HARBOUR      | 48.432                 | -123.439               | BC                     | 8.8                    |  0                     |  NA                    | 13.1                   | 0                      |  1.9                   | ...                    |  8                     |  NA                    | NA                     | 12                     | NA                     | NA                     | NA                     | 258.6                  |  0                     | 1012710                |\n",
       "\n"
      ],
      "text/plain": [
       "  Stn_Name               Lat    Long     Prov Tm  DwTm D   Tx   DwTx Tn   ...\n",
       "1 CHEMAINUS              48.935 -123.742 BC   8.2  0    NA 13.5 0     1.0 ...\n",
       "2 COWICHAN LAKE FORESTRY 48.824 -124.133 BC   7.0  0   3.0 15.0 0    -3.0 ...\n",
       "3 LAKE COWICHAN          48.829 -124.052 BC   6.8 13   2.8 16.0 9    -2.5 ...\n",
       "4 DISCOVERY ISLAND       48.425 -123.226 BC    NA NA    NA 12.5 0      NA ...\n",
       "5 DUNCAN KELVIN CREEK    48.735 -123.728 BC   7.7  2   3.4 14.5 2    -1.0 ...\n",
       "6 ESQUIMALT HARBOUR      48.432 -123.439 BC   8.8  0    NA 13.1 0     1.9 ...\n",
       "  DwP P.N S_G Pd BS DwBS BS. HDD   CDD Stn_No \n",
       "1  0   NA  0  12 NA NA   NA  273.3  0  1011500\n",
       "2  0  104  0  12 NA NA   NA  307.0  0  1012040\n",
       "3  9   NA NA  11 NA NA   NA  168.1  0  1012055\n",
       "4 NA   NA NA  NA NA NA   NA     NA NA  1012475\n",
       "5  2   NA NA  11 NA NA   NA  267.7  0  1012573\n",
       "6  8   NA NA  12 NA NA   NA  258.6  0  1012710"
      ]
     },
     "metadata": {},
     "output_type": "display_data"
    },
    {
     "name": "stdout",
     "output_type": "stream",
     "text": [
      "'data.frame':\t1341 obs. of  25 variables:\n",
      " $ Stn_Name: Factor w/ 1318 levels \"100 MILE HOUSE 6NE\",..: 203 255 616 298 307 347 413 680 717 799 ...\n",
      " $ Lat     : num  48.9 48.8 48.8 48.4 48.7 ...\n",
      " $ Long    : num  -124 -124 -124 -123 -124 ...\n",
      " $ Prov    : Factor w/ 13 levels \"AB\",\"BC\",\"MB\",..: 2 2 2 2 2 2 2 2 2 2 ...\n",
      " $ Tm      : num  8.2 7 6.8 NA 7.7 8.8 8.9 7.2 NA NA ...\n",
      " $ DwTm    : int  0 0 13 NA 2 0 7 1 NA NA ...\n",
      " $ D       : num  NA 3 2.8 NA 3.4 NA NA NA NA NA ...\n",
      " $ Tx      : num  13.5 15 16 12.5 14.5 13.1 13.5 12.7 NA NA ...\n",
      " $ DwTx    : int  0 0 9 0 2 0 7 1 NA NA ...\n",
      " $ Tn      : num  1 -3 -2.5 NA -1 1.9 2 2.2 NA NA ...\n",
      " $ DwTn    : int  0 0 9 NA 2 0 7 0 NA NA ...\n",
      " $ S       : num  0 0 0 NA 0 NA 0 NA 0 0 ...\n",
      " $ DwS     : int  0 0 9 NA 2 NA 7 NA 0 0 ...\n",
      " $ S.N     : int  NA 0 NA NA NA NA NA NA 0 0 ...\n",
      " $ P       : num  179 259 265 NA 168 ...\n",
      " $ DwP     : int  0 0 9 NA 2 8 7 10 0 0 ...\n",
      " $ P.N     : int  NA 104 NA NA NA NA NA NA 95 114 ...\n",
      " $ S_G     : int  0 0 NA NA NA NA 0 NA 0 0 ...\n",
      " $ Pd      : int  12 12 11 NA 11 12 10 12 16 13 ...\n",
      " $ BS      : logi  NA NA NA NA NA NA ...\n",
      " $ DwBS    : logi  NA NA NA NA NA NA ...\n",
      " $ BS.     : logi  NA NA NA NA NA NA ...\n",
      " $ HDD     : num  273 307 168 NA 268 ...\n",
      " $ CDD     : int  0 0 0 NA 0 0 0 0 NA NA ...\n",
      " $ Stn_No  : Factor w/ 1341 levels \"1011500\",\"1012040\",..: 1 2 3 4 5 6 7 8 9 10 ...\n"
     ]
    }
   ],
   "source": [
    "head(WeatherStations)\n",
    "str(WeatherStations)\n",
    "\n"
   ]
  },
  {
   "cell_type": "markdown",
   "metadata": {
    "button": false,
    "new_sheet": false,
    "run_control": {
     "read_only": false
    }
   },
   "source": [
    "### 3. Cleaning the data"
   ]
  },
  {
   "cell_type": "markdown",
   "metadata": {
    "button": false,
    "new_sheet": false,
    "run_control": {
     "read_only": false
    }
   },
   "source": [
    "We are going to cluster the stations based on the Lat, Long, and Total Precepetation. Is there any missing Lat, Long or Total Precipitation ? If yes, remove entries that have missing values."
   ]
  },
  {
   "cell_type": "code",
   "execution_count": 5,
   "metadata": {
    "button": false,
    "new_sheet": false,
    "run_control": {
     "read_only": false
    }
   },
   "outputs": [
    {
     "data": {
      "text/html": [
       "<table>\n",
       "<thead><tr><th></th><th scope=col>Stn_Name</th><th scope=col>Lat</th><th scope=col>Long</th><th scope=col>Prov</th><th scope=col>Tm</th><th scope=col>DwTm</th><th scope=col>D</th><th scope=col>Tx</th><th scope=col>DwTx</th><th scope=col>Tn</th><th scope=col>...</th><th scope=col>DwP</th><th scope=col>P.N</th><th scope=col>S_G</th><th scope=col>Pd</th><th scope=col>BS</th><th scope=col>DwBS</th><th scope=col>BS.</th><th scope=col>HDD</th><th scope=col>CDD</th><th scope=col>Stn_No</th></tr></thead>\n",
       "<tbody>\n",
       "\t<tr><th scope=row>1</th><td>CHEMAINUS             </td><td>48.935                </td><td>-123.742              </td><td>BC                    </td><td>8.2                   </td><td> 0                    </td><td> NA                   </td><td>13.5                  </td><td>0                     </td><td> 1.0                  </td><td>...                   </td><td>0                     </td><td> NA                   </td><td> 0                    </td><td>12                    </td><td>NA                    </td><td>NA                    </td><td>NA                    </td><td>273.3                 </td><td>0                     </td><td>1011500               </td></tr>\n",
       "\t<tr><th scope=row>2</th><td>COWICHAN LAKE FORESTRY</td><td>48.824                </td><td>-124.133              </td><td>BC                    </td><td>7.0                   </td><td> 0                    </td><td>3.0                   </td><td>15.0                  </td><td>0                     </td><td>-3.0                  </td><td>...                   </td><td>0                     </td><td>104                   </td><td> 0                    </td><td>12                    </td><td>NA                    </td><td>NA                    </td><td>NA                    </td><td>307.0                 </td><td>0                     </td><td>1012040               </td></tr>\n",
       "\t<tr><th scope=row>3</th><td>LAKE COWICHAN         </td><td>48.829                </td><td>-124.052              </td><td>BC                    </td><td>6.8                   </td><td>13                    </td><td>2.8                   </td><td>16.0                  </td><td>9                     </td><td>-2.5                  </td><td>...                   </td><td>9                     </td><td> NA                   </td><td>NA                    </td><td>11                    </td><td>NA                    </td><td>NA                    </td><td>NA                    </td><td>168.1                 </td><td>0                     </td><td>1012055               </td></tr>\n",
       "\t<tr><th scope=row>5</th><td>DUNCAN KELVIN CREEK   </td><td>48.735                </td><td>-123.728              </td><td>BC                    </td><td>7.7                   </td><td> 2                    </td><td>3.4                   </td><td>14.5                  </td><td>2                     </td><td>-1.0                  </td><td>...                   </td><td>2                     </td><td> NA                   </td><td>NA                    </td><td>11                    </td><td>NA                    </td><td>NA                    </td><td>NA                    </td><td>267.7                 </td><td>0                     </td><td>1012573               </td></tr>\n",
       "\t<tr><th scope=row>6</th><td>ESQUIMALT HARBOUR     </td><td>48.432                </td><td>-123.439              </td><td>BC                    </td><td>8.8                   </td><td> 0                    </td><td> NA                   </td><td>13.1                  </td><td>0                     </td><td> 1.9                  </td><td>...                   </td><td>8                     </td><td> NA                   </td><td>NA                    </td><td>12                    </td><td>NA                    </td><td>NA                    </td><td>NA                    </td><td>258.6                 </td><td>0                     </td><td>1012710               </td></tr>\n",
       "\t<tr><th scope=row>7</th><td>GALIANO NORTH         </td><td>48.985                </td><td>-123.573              </td><td>BC                    </td><td>8.9                   </td><td> 7                    </td><td> NA                   </td><td>13.5                  </td><td>7                     </td><td> 2.0                  </td><td>...                   </td><td>7                     </td><td> NA                   </td><td> 0                    </td><td>10                    </td><td>NA                    </td><td>NA                    </td><td>NA                    </td><td>191.7                 </td><td>0                     </td><td>10130MN               </td></tr>\n",
       "</tbody>\n",
       "</table>\n"
      ],
      "text/latex": [
       "\\begin{tabular}{r|lllllllllllllllllllllllll}\n",
       "  & Stn\\_Name & Lat & Long & Prov & Tm & DwTm & D & Tx & DwTx & Tn & ... & DwP & P.N & S\\_G & Pd & BS & DwBS & BS. & HDD & CDD & Stn\\_No\\\\\n",
       "\\hline\n",
       "\t1 & CHEMAINUS              & 48.935                 & -123.742               & BC                     & 8.2                    &  0                     &  NA                    & 13.5                   & 0                      &  1.0                   & ...                    & 0                      &  NA                    &  0                     & 12                     & NA                     & NA                     & NA                     & 273.3                  & 0                      & 1011500               \\\\\n",
       "\t2 & COWICHAN LAKE FORESTRY & 48.824                 & -124.133               & BC                     & 7.0                    &  0                     & 3.0                    & 15.0                   & 0                      & -3.0                   & ...                    & 0                      & 104                    &  0                     & 12                     & NA                     & NA                     & NA                     & 307.0                  & 0                      & 1012040               \\\\\n",
       "\t3 & LAKE COWICHAN          & 48.829                 & -124.052               & BC                     & 6.8                    & 13                     & 2.8                    & 16.0                   & 9                      & -2.5                   & ...                    & 9                      &  NA                    & NA                     & 11                     & NA                     & NA                     & NA                     & 168.1                  & 0                      & 1012055               \\\\\n",
       "\t5 & DUNCAN KELVIN CREEK    & 48.735                 & -123.728               & BC                     & 7.7                    &  2                     & 3.4                    & 14.5                   & 2                      & -1.0                   & ...                    & 2                      &  NA                    & NA                     & 11                     & NA                     & NA                     & NA                     & 267.7                  & 0                      & 1012573               \\\\\n",
       "\t6 & ESQUIMALT HARBOUR      & 48.432                 & -123.439               & BC                     & 8.8                    &  0                     &  NA                    & 13.1                   & 0                      &  1.9                   & ...                    & 8                      &  NA                    & NA                     & 12                     & NA                     & NA                     & NA                     & 258.6                  & 0                      & 1012710               \\\\\n",
       "\t7 & GALIANO NORTH          & 48.985                 & -123.573               & BC                     & 8.9                    &  7                     &  NA                    & 13.5                   & 7                      &  2.0                   & ...                    & 7                      &  NA                    &  0                     & 10                     & NA                     & NA                     & NA                     & 191.7                  & 0                      & 10130MN               \\\\\n",
       "\\end{tabular}\n"
      ],
      "text/markdown": [
       "\n",
       "| <!--/--> | Stn_Name | Lat | Long | Prov | Tm | DwTm | D | Tx | DwTx | Tn | ... | DwP | P.N | S_G | Pd | BS | DwBS | BS. | HDD | CDD | Stn_No |\n",
       "|---|---|---|---|---|---|---|---|---|---|---|---|---|---|---|---|---|---|---|---|---|---|\n",
       "| 1 | CHEMAINUS              | 48.935                 | -123.742               | BC                     | 8.2                    |  0                     |  NA                    | 13.5                   | 0                      |  1.0                   | ...                    | 0                      |  NA                    |  0                     | 12                     | NA                     | NA                     | NA                     | 273.3                  | 0                      | 1011500                |\n",
       "| 2 | COWICHAN LAKE FORESTRY | 48.824                 | -124.133               | BC                     | 7.0                    |  0                     | 3.0                    | 15.0                   | 0                      | -3.0                   | ...                    | 0                      | 104                    |  0                     | 12                     | NA                     | NA                     | NA                     | 307.0                  | 0                      | 1012040                |\n",
       "| 3 | LAKE COWICHAN          | 48.829                 | -124.052               | BC                     | 6.8                    | 13                     | 2.8                    | 16.0                   | 9                      | -2.5                   | ...                    | 9                      |  NA                    | NA                     | 11                     | NA                     | NA                     | NA                     | 168.1                  | 0                      | 1012055                |\n",
       "| 5 | DUNCAN KELVIN CREEK    | 48.735                 | -123.728               | BC                     | 7.7                    |  2                     | 3.4                    | 14.5                   | 2                      | -1.0                   | ...                    | 2                      |  NA                    | NA                     | 11                     | NA                     | NA                     | NA                     | 267.7                  | 0                      | 1012573                |\n",
       "| 6 | ESQUIMALT HARBOUR      | 48.432                 | -123.439               | BC                     | 8.8                    |  0                     |  NA                    | 13.1                   | 0                      |  1.9                   | ...                    | 8                      |  NA                    | NA                     | 12                     | NA                     | NA                     | NA                     | 258.6                  | 0                      | 1012710                |\n",
       "| 7 | GALIANO NORTH          | 48.985                 | -123.573               | BC                     | 8.9                    |  7                     |  NA                    | 13.5                   | 7                      |  2.0                   | ...                    | 7                      |  NA                    |  0                     | 10                     | NA                     | NA                     | NA                     | 191.7                  | 0                      | 10130MN                |\n",
       "\n"
      ],
      "text/plain": [
       "  Stn_Name               Lat    Long     Prov Tm  DwTm D   Tx   DwTx Tn   ...\n",
       "1 CHEMAINUS              48.935 -123.742 BC   8.2  0    NA 13.5 0     1.0 ...\n",
       "2 COWICHAN LAKE FORESTRY 48.824 -124.133 BC   7.0  0   3.0 15.0 0    -3.0 ...\n",
       "3 LAKE COWICHAN          48.829 -124.052 BC   6.8 13   2.8 16.0 9    -2.5 ...\n",
       "5 DUNCAN KELVIN CREEK    48.735 -123.728 BC   7.7  2   3.4 14.5 2    -1.0 ...\n",
       "6 ESQUIMALT HARBOUR      48.432 -123.439 BC   8.8  0    NA 13.1 0     1.9 ...\n",
       "7 GALIANO NORTH          48.985 -123.573 BC   8.9  7    NA 13.5 7     2.0 ...\n",
       "  DwP P.N S_G Pd BS DwBS BS. HDD   CDD Stn_No \n",
       "1 0    NA  0  12 NA NA   NA  273.3 0   1011500\n",
       "2 0   104  0  12 NA NA   NA  307.0 0   1012040\n",
       "3 9    NA NA  11 NA NA   NA  168.1 0   1012055\n",
       "5 2    NA NA  11 NA NA   NA  267.7 0   1012573\n",
       "6 8    NA NA  12 NA NA   NA  258.6 0   1012710\n",
       "7 7    NA  0  10 NA NA   NA  191.7 0   10130MN"
      ]
     },
     "metadata": {},
     "output_type": "display_data"
    }
   ],
   "source": [
    "WeatherStations <- WeatherStations[complete.cases(WeatherStations$Lat, WeatherStations$Long, WeatherStations$P),]\n",
    "head(WeatherStations)\n",
    "\n",
    "\n"
   ]
  },
  {
   "cell_type": "markdown",
   "metadata": {
    "button": false,
    "new_sheet": false,
    "run_control": {
     "read_only": false
    }
   },
   "source": [
    "Filter for any entries that lie outside of Canada"
   ]
  },
  {
   "cell_type": "code",
   "execution_count": 6,
   "metadata": {
    "button": false,
    "new_sheet": false,
    "run_control": {
     "read_only": false
    },
    "scrolled": true
   },
   "outputs": [
    {
     "data": {
      "text/html": [
       "<table>\n",
       "<thead><tr><th scope=col>Stn_Name</th><th scope=col>Lat</th><th scope=col>Long</th><th scope=col>Prov</th><th scope=col>Tm</th><th scope=col>DwTm</th><th scope=col>D</th><th scope=col>Tx</th><th scope=col>DwTx</th><th scope=col>Tn</th><th scope=col>...</th><th scope=col>DwP</th><th scope=col>P.N</th><th scope=col>S_G</th><th scope=col>Pd</th><th scope=col>BS</th><th scope=col>DwBS</th><th scope=col>BS.</th><th scope=col>HDD</th><th scope=col>CDD</th><th scope=col>Stn_No</th></tr></thead>\n",
       "<tbody>\n",
       "\t<tr><td>CHEMAINUS             </td><td>48.935                </td><td>-123.742              </td><td>BC                    </td><td>8.2                   </td><td> 0                    </td><td> NA                   </td><td>13.5                  </td><td>0                     </td><td> 1.0                  </td><td>...                   </td><td>0                     </td><td> NA                   </td><td> 0                    </td><td>12                    </td><td>NA                    </td><td>NA                    </td><td>NA                    </td><td>273.3                 </td><td>0                     </td><td>1011500               </td></tr>\n",
       "\t<tr><td>COWICHAN LAKE FORESTRY</td><td>48.824                </td><td>-124.133              </td><td>BC                    </td><td>7.0                   </td><td> 0                    </td><td>3.0                   </td><td>15.0                  </td><td>0                     </td><td>-3.0                  </td><td>...                   </td><td>0                     </td><td>104                   </td><td> 0                    </td><td>12                    </td><td>NA                    </td><td>NA                    </td><td>NA                    </td><td>307.0                 </td><td>0                     </td><td>1012040               </td></tr>\n",
       "\t<tr><td>LAKE COWICHAN         </td><td>48.829                </td><td>-124.052              </td><td>BC                    </td><td>6.8                   </td><td>13                    </td><td>2.8                   </td><td>16.0                  </td><td>9                     </td><td>-2.5                  </td><td>...                   </td><td>9                     </td><td> NA                   </td><td>NA                    </td><td>11                    </td><td>NA                    </td><td>NA                    </td><td>NA                    </td><td>168.1                 </td><td>0                     </td><td>1012055               </td></tr>\n",
       "\t<tr><td>DUNCAN KELVIN CREEK   </td><td>48.735                </td><td>-123.728              </td><td>BC                    </td><td>7.7                   </td><td> 2                    </td><td>3.4                   </td><td>14.5                  </td><td>2                     </td><td>-1.0                  </td><td>...                   </td><td>2                     </td><td> NA                   </td><td>NA                    </td><td>11                    </td><td>NA                    </td><td>NA                    </td><td>NA                    </td><td>267.7                 </td><td>0                     </td><td>1012573               </td></tr>\n",
       "\t<tr><td>ESQUIMALT HARBOUR     </td><td>48.432                </td><td>-123.439              </td><td>BC                    </td><td>8.8                   </td><td> 0                    </td><td> NA                   </td><td>13.1                  </td><td>0                     </td><td> 1.9                  </td><td>...                   </td><td>8                     </td><td> NA                   </td><td>NA                    </td><td>12                    </td><td>NA                    </td><td>NA                    </td><td>NA                    </td><td>258.6                 </td><td>0                     </td><td>1012710               </td></tr>\n",
       "\t<tr><td>GALIANO NORTH         </td><td>48.985                </td><td>-123.573              </td><td>BC                    </td><td>8.9                   </td><td> 7                    </td><td> NA                   </td><td>13.5                  </td><td>7                     </td><td> 2.0                  </td><td>...                   </td><td>7                     </td><td> NA                   </td><td> 0                    </td><td>10                    </td><td>NA                    </td><td>NA                    </td><td>NA                    </td><td>191.7                 </td><td>0                     </td><td>10130MN               </td></tr>\n",
       "</tbody>\n",
       "</table>\n"
      ],
      "text/latex": [
       "\\begin{tabular}{r|lllllllllllllllllllllllll}\n",
       " Stn\\_Name & Lat & Long & Prov & Tm & DwTm & D & Tx & DwTx & Tn & ... & DwP & P.N & S\\_G & Pd & BS & DwBS & BS. & HDD & CDD & Stn\\_No\\\\\n",
       "\\hline\n",
       "\t CHEMAINUS              & 48.935                 & -123.742               & BC                     & 8.2                    &  0                     &  NA                    & 13.5                   & 0                      &  1.0                   & ...                    & 0                      &  NA                    &  0                     & 12                     & NA                     & NA                     & NA                     & 273.3                  & 0                      & 1011500               \\\\\n",
       "\t COWICHAN LAKE FORESTRY & 48.824                 & -124.133               & BC                     & 7.0                    &  0                     & 3.0                    & 15.0                   & 0                      & -3.0                   & ...                    & 0                      & 104                    &  0                     & 12                     & NA                     & NA                     & NA                     & 307.0                  & 0                      & 1012040               \\\\\n",
       "\t LAKE COWICHAN          & 48.829                 & -124.052               & BC                     & 6.8                    & 13                     & 2.8                    & 16.0                   & 9                      & -2.5                   & ...                    & 9                      &  NA                    & NA                     & 11                     & NA                     & NA                     & NA                     & 168.1                  & 0                      & 1012055               \\\\\n",
       "\t DUNCAN KELVIN CREEK    & 48.735                 & -123.728               & BC                     & 7.7                    &  2                     & 3.4                    & 14.5                   & 2                      & -1.0                   & ...                    & 2                      &  NA                    & NA                     & 11                     & NA                     & NA                     & NA                     & 267.7                  & 0                      & 1012573               \\\\\n",
       "\t ESQUIMALT HARBOUR      & 48.432                 & -123.439               & BC                     & 8.8                    &  0                     &  NA                    & 13.1                   & 0                      &  1.9                   & ...                    & 8                      &  NA                    & NA                     & 12                     & NA                     & NA                     & NA                     & 258.6                  & 0                      & 1012710               \\\\\n",
       "\t GALIANO NORTH          & 48.985                 & -123.573               & BC                     & 8.9                    &  7                     &  NA                    & 13.5                   & 7                      &  2.0                   & ...                    & 7                      &  NA                    &  0                     & 10                     & NA                     & NA                     & NA                     & 191.7                  & 0                      & 10130MN               \\\\\n",
       "\\end{tabular}\n"
      ],
      "text/markdown": [
       "\n",
       "| Stn_Name | Lat | Long | Prov | Tm | DwTm | D | Tx | DwTx | Tn | ... | DwP | P.N | S_G | Pd | BS | DwBS | BS. | HDD | CDD | Stn_No |\n",
       "|---|---|---|---|---|---|---|---|---|---|---|---|---|---|---|---|---|---|---|---|---|\n",
       "| CHEMAINUS              | 48.935                 | -123.742               | BC                     | 8.2                    |  0                     |  NA                    | 13.5                   | 0                      |  1.0                   | ...                    | 0                      |  NA                    |  0                     | 12                     | NA                     | NA                     | NA                     | 273.3                  | 0                      | 1011500                |\n",
       "| COWICHAN LAKE FORESTRY | 48.824                 | -124.133               | BC                     | 7.0                    |  0                     | 3.0                    | 15.0                   | 0                      | -3.0                   | ...                    | 0                      | 104                    |  0                     | 12                     | NA                     | NA                     | NA                     | 307.0                  | 0                      | 1012040                |\n",
       "| LAKE COWICHAN          | 48.829                 | -124.052               | BC                     | 6.8                    | 13                     | 2.8                    | 16.0                   | 9                      | -2.5                   | ...                    | 9                      |  NA                    | NA                     | 11                     | NA                     | NA                     | NA                     | 168.1                  | 0                      | 1012055                |\n",
       "| DUNCAN KELVIN CREEK    | 48.735                 | -123.728               | BC                     | 7.7                    |  2                     | 3.4                    | 14.5                   | 2                      | -1.0                   | ...                    | 2                      |  NA                    | NA                     | 11                     | NA                     | NA                     | NA                     | 267.7                  | 0                      | 1012573                |\n",
       "| ESQUIMALT HARBOUR      | 48.432                 | -123.439               | BC                     | 8.8                    |  0                     |  NA                    | 13.1                   | 0                      |  1.9                   | ...                    | 8                      |  NA                    | NA                     | 12                     | NA                     | NA                     | NA                     | 258.6                  | 0                      | 1012710                |\n",
       "| GALIANO NORTH          | 48.985                 | -123.573               | BC                     | 8.9                    |  7                     |  NA                    | 13.5                   | 7                      |  2.0                   | ...                    | 7                      |  NA                    |  0                     | 10                     | NA                     | NA                     | NA                     | 191.7                  | 0                      | 10130MN                |\n",
       "\n"
      ],
      "text/plain": [
       "  Stn_Name               Lat    Long     Prov Tm  DwTm D   Tx   DwTx Tn   ...\n",
       "1 CHEMAINUS              48.935 -123.742 BC   8.2  0    NA 13.5 0     1.0 ...\n",
       "2 COWICHAN LAKE FORESTRY 48.824 -124.133 BC   7.0  0   3.0 15.0 0    -3.0 ...\n",
       "3 LAKE COWICHAN          48.829 -124.052 BC   6.8 13   2.8 16.0 9    -2.5 ...\n",
       "4 DUNCAN KELVIN CREEK    48.735 -123.728 BC   7.7  2   3.4 14.5 2    -1.0 ...\n",
       "5 ESQUIMALT HARBOUR      48.432 -123.439 BC   8.8  0    NA 13.1 0     1.9 ...\n",
       "6 GALIANO NORTH          48.985 -123.573 BC   8.9  7    NA 13.5 7     2.0 ...\n",
       "  DwP P.N S_G Pd BS DwBS BS. HDD   CDD Stn_No \n",
       "1 0    NA  0  12 NA NA   NA  273.3 0   1011500\n",
       "2 0   104  0  12 NA NA   NA  307.0 0   1012040\n",
       "3 9    NA NA  11 NA NA   NA  168.1 0   1012055\n",
       "4 2    NA NA  11 NA NA   NA  267.7 0   1012573\n",
       "5 8    NA NA  12 NA NA   NA  258.6 0   1012710\n",
       "6 7    NA  0  10 NA NA   NA  191.7 0   10130MN"
      ]
     },
     "metadata": {},
     "output_type": "display_data"
    }
   ],
   "source": [
    "# Canada Coordinates\n",
    "llon <- -140\n",
    "ulon <- -50\n",
    "llat <- 40\n",
    "ulat <- 65\n",
    "\n",
    "filtered_stations <- subset(WeatherStations, Lat > llat & Lat < ulat & Long > llon & Long < ulon)\n",
    "rownames(filtered_stations) <- 1:nrow(filtered_stations)\n",
    "head(filtered_stations)\n",
    "\n",
    "\n",
    "\n"
   ]
  },
  {
   "cell_type": "markdown",
   "metadata": {
    "button": false,
    "new_sheet": false,
    "run_control": {
     "read_only": false
    }
   },
   "source": [
    "### 4. Data selection\n",
    "Lets Randomly sample dataset for thirty weather stations because we dont want to show a very big dendogram."
   ]
  },
  {
   "cell_type": "code",
   "execution_count": 7,
   "metadata": {
    "button": false,
    "new_sheet": false,
    "run_control": {
     "read_only": false
    }
   },
   "outputs": [
    {
     "data": {
      "text/html": [
       "<table>\n",
       "<thead><tr><th scope=col>Stn_Name</th><th scope=col>Lat</th><th scope=col>Long</th><th scope=col>Prov</th><th scope=col>Tm</th><th scope=col>DwTm</th><th scope=col>D</th><th scope=col>Tx</th><th scope=col>DwTx</th><th scope=col>Tn</th><th scope=col>...</th><th scope=col>DwP</th><th scope=col>P.N</th><th scope=col>S_G</th><th scope=col>Pd</th><th scope=col>BS</th><th scope=col>DwBS</th><th scope=col>BS.</th><th scope=col>HDD</th><th scope=col>CDD</th><th scope=col>Stn_No</th></tr></thead>\n",
       "<tbody>\n",
       "\t<tr><td>BOW ISLAND IRRIGATION AGDM</td><td>49.867                    </td><td>-111.383                  </td><td>AB                        </td><td> -4.9                     </td><td> 0                        </td><td>  NA                      </td><td>14.8                      </td><td>0                         </td><td>-22.2                     </td><td>...                       </td><td>3                         </td><td>NA                        </td><td>NA                        </td><td> 5                        </td><td>NA                        </td><td>NA                        </td><td>NA                        </td><td>640.4                     </td><td>0                         </td><td>3030772                   </td></tr>\n",
       "\t<tr><td>ONEFOUR CDA               </td><td>49.117                    </td><td>-110.467                  </td><td>AB                        </td><td> -6.0                     </td><td> 0                        </td><td>  NA                      </td><td>13.0                      </td><td>0                         </td><td>-26.3                     </td><td>...                       </td><td>0                         </td><td>NA                        </td><td> 0                        </td><td> 2                        </td><td>NA                        </td><td>NA                        </td><td>NA                        </td><td>672.0                     </td><td>0                         </td><td>3044923                   </td></tr>\n",
       "\t<tr><td>HEDLEY NP MINE            </td><td>49.369                    </td><td>-120.022                  </td><td>BC                        </td><td>  0.7                     </td><td> 6                        </td><td> 4.4                      </td><td>11.5                      </td><td>6                         </td><td> -8.5                     </td><td>...                       </td><td>6                         </td><td>NA                        </td><td>NA                        </td><td> 4                        </td><td>NA                        </td><td>NA                        </td><td>NA                        </td><td>379.9                     </td><td>0                         </td><td>1123390                   </td></tr>\n",
       "\t<tr><td>BUFFALO POUND LAKE        </td><td>50.550                    </td><td>-105.383                  </td><td>SK                        </td><td>-15.7                     </td><td> 0                        </td><td>  NA                      </td><td> 1.5                      </td><td>0                         </td><td>-32.0                     </td><td>...                       </td><td>0                         </td><td>NA                        </td><td> 0                        </td><td> 0                        </td><td>NA                        </td><td>NA                        </td><td>NA                        </td><td>943.1                     </td><td>0                         </td><td>4010984                   </td></tr>\n",
       "\t<tr><td>VERNON SILVER STAR LODGE  </td><td>50.359                    </td><td>-119.056                  </td><td>BC                        </td><td> -2.3                     </td><td>13                        </td><td>  NA                      </td><td> 4.5                      </td><td>2                         </td><td>-10.0                     </td><td>...                       </td><td>2                         </td><td>NA                        </td><td> 0                        </td><td>10                        </td><td>NA                        </td><td>NA                        </td><td>NA                        </td><td>305.2                     </td><td>0                         </td><td>1128584                   </td></tr>\n",
       "\t<tr><td>SCOTT                     </td><td>46.500                    </td><td> -71.083                  </td><td>QC                        </td><td>-17.2                     </td><td> 8                        </td><td>-7.3                      </td><td>-4.0                      </td><td>5                         </td><td>-31.5                     </td><td>...                       </td><td>2                         </td><td>NA                        </td><td>28                        </td><td>10                        </td><td>NA                        </td><td>NA                        </td><td>NA                        </td><td>703.8                     </td><td>0                         </td><td>7027840                   </td></tr>\n",
       "</tbody>\n",
       "</table>\n"
      ],
      "text/latex": [
       "\\begin{tabular}{r|lllllllllllllllllllllllll}\n",
       " Stn\\_Name & Lat & Long & Prov & Tm & DwTm & D & Tx & DwTx & Tn & ... & DwP & P.N & S\\_G & Pd & BS & DwBS & BS. & HDD & CDD & Stn\\_No\\\\\n",
       "\\hline\n",
       "\t BOW ISLAND IRRIGATION AGDM & 49.867                     & -111.383                   & AB                         &  -4.9                      &  0                         &   NA                       & 14.8                       & 0                          & -22.2                      & ...                        & 3                          & NA                         & NA                         &  5                         & NA                         & NA                         & NA                         & 640.4                      & 0                          & 3030772                   \\\\\n",
       "\t ONEFOUR CDA                & 49.117                     & -110.467                   & AB                         &  -6.0                      &  0                         &   NA                       & 13.0                       & 0                          & -26.3                      & ...                        & 0                          & NA                         &  0                         &  2                         & NA                         & NA                         & NA                         & 672.0                      & 0                          & 3044923                   \\\\\n",
       "\t HEDLEY NP MINE             & 49.369                     & -120.022                   & BC                         &   0.7                      &  6                         &  4.4                       & 11.5                       & 6                          &  -8.5                      & ...                        & 6                          & NA                         & NA                         &  4                         & NA                         & NA                         & NA                         & 379.9                      & 0                          & 1123390                   \\\\\n",
       "\t BUFFALO POUND LAKE         & 50.550                     & -105.383                   & SK                         & -15.7                      &  0                         &   NA                       &  1.5                       & 0                          & -32.0                      & ...                        & 0                          & NA                         &  0                         &  0                         & NA                         & NA                         & NA                         & 943.1                      & 0                          & 4010984                   \\\\\n",
       "\t VERNON SILVER STAR LODGE   & 50.359                     & -119.056                   & BC                         &  -2.3                      & 13                         &   NA                       &  4.5                       & 2                          & -10.0                      & ...                        & 2                          & NA                         &  0                         & 10                         & NA                         & NA                         & NA                         & 305.2                      & 0                          & 1128584                   \\\\\n",
       "\t SCOTT                      & 46.500                     &  -71.083                   & QC                         & -17.2                      &  8                         & -7.3                       & -4.0                       & 5                          & -31.5                      & ...                        & 2                          & NA                         & 28                         & 10                         & NA                         & NA                         & NA                         & 703.8                      & 0                          & 7027840                   \\\\\n",
       "\\end{tabular}\n"
      ],
      "text/markdown": [
       "\n",
       "| Stn_Name | Lat | Long | Prov | Tm | DwTm | D | Tx | DwTx | Tn | ... | DwP | P.N | S_G | Pd | BS | DwBS | BS. | HDD | CDD | Stn_No |\n",
       "|---|---|---|---|---|---|---|---|---|---|---|---|---|---|---|---|---|---|---|---|---|\n",
       "| BOW ISLAND IRRIGATION AGDM | 49.867                     | -111.383                   | AB                         |  -4.9                      |  0                         |   NA                       | 14.8                       | 0                          | -22.2                      | ...                        | 3                          | NA                         | NA                         |  5                         | NA                         | NA                         | NA                         | 640.4                      | 0                          | 3030772                    |\n",
       "| ONEFOUR CDA                | 49.117                     | -110.467                   | AB                         |  -6.0                      |  0                         |   NA                       | 13.0                       | 0                          | -26.3                      | ...                        | 0                          | NA                         |  0                         |  2                         | NA                         | NA                         | NA                         | 672.0                      | 0                          | 3044923                    |\n",
       "| HEDLEY NP MINE             | 49.369                     | -120.022                   | BC                         |   0.7                      |  6                         |  4.4                       | 11.5                       | 6                          |  -8.5                      | ...                        | 6                          | NA                         | NA                         |  4                         | NA                         | NA                         | NA                         | 379.9                      | 0                          | 1123390                    |\n",
       "| BUFFALO POUND LAKE         | 50.550                     | -105.383                   | SK                         | -15.7                      |  0                         |   NA                       |  1.5                       | 0                          | -32.0                      | ...                        | 0                          | NA                         |  0                         |  0                         | NA                         | NA                         | NA                         | 943.1                      | 0                          | 4010984                    |\n",
       "| VERNON SILVER STAR LODGE   | 50.359                     | -119.056                   | BC                         |  -2.3                      | 13                         |   NA                       |  4.5                       | 2                          | -10.0                      | ...                        | 2                          | NA                         |  0                         | 10                         | NA                         | NA                         | NA                         | 305.2                      | 0                          | 1128584                    |\n",
       "| SCOTT                      | 46.500                     |  -71.083                   | QC                         | -17.2                      |  8                         | -7.3                       | -4.0                       | 5                          | -31.5                      | ...                        | 2                          | NA                         | 28                         | 10                         | NA                         | NA                         | NA                         | 703.8                      | 0                          | 7027840                    |\n",
       "\n"
      ],
      "text/plain": [
       "  Stn_Name                   Lat    Long     Prov Tm    DwTm D    Tx   DwTx\n",
       "1 BOW ISLAND IRRIGATION AGDM 49.867 -111.383 AB    -4.9  0     NA 14.8 0   \n",
       "2 ONEFOUR CDA                49.117 -110.467 AB    -6.0  0     NA 13.0 0   \n",
       "3 HEDLEY NP MINE             49.369 -120.022 BC     0.7  6    4.4 11.5 6   \n",
       "4 BUFFALO POUND LAKE         50.550 -105.383 SK   -15.7  0     NA  1.5 0   \n",
       "5 VERNON SILVER STAR LODGE   50.359 -119.056 BC    -2.3 13     NA  4.5 2   \n",
       "6 SCOTT                      46.500  -71.083 QC   -17.2  8   -7.3 -4.0 5   \n",
       "  Tn    ... DwP P.N S_G Pd BS DwBS BS. HDD   CDD Stn_No \n",
       "1 -22.2 ... 3   NA  NA   5 NA NA   NA  640.4 0   3030772\n",
       "2 -26.3 ... 0   NA   0   2 NA NA   NA  672.0 0   3044923\n",
       "3  -8.5 ... 6   NA  NA   4 NA NA   NA  379.9 0   1123390\n",
       "4 -32.0 ... 0   NA   0   0 NA NA   NA  943.1 0   4010984\n",
       "5 -10.0 ... 2   NA   0  10 NA NA   NA  305.2 0   1128584\n",
       "6 -31.5 ... 2   NA  28  10 NA NA   NA  703.8 0   7027840"
      ]
     },
     "metadata": {},
     "output_type": "display_data"
    }
   ],
   "source": [
    "number_stations <- 30 # number of stations\n",
    "set.seed(123) # ensure reproducibility\n",
    "random_stations <- filtered_stations[sample.int(nrow(filtered_stations))[1:number_stations],]\n",
    "rownames(random_stations) <- 1:nrow(random_stations)\n",
    "head(random_stations)"
   ]
  },
  {
   "cell_type": "markdown",
   "metadata": {
    "button": false,
    "new_sheet": false,
    "run_control": {
     "read_only": false
    }
   },
   "source": [
    "### 5. Clustering\n",
    "\n",
    "In this exercise, we will use Agglomorative algorithm. It would be interesting to assign weather stations clustered by total precipitation. Cluster data using total precipitation and location, and then use __ggdendrogram__ to plot dendrogram of clusters:"
   ]
  },
  {
   "cell_type": "code",
   "execution_count": 8,
   "metadata": {
    "button": false,
    "new_sheet": false,
    "run_control": {
     "read_only": false
    }
   },
   "outputs": [
    {
     "data": {
      "image/png": "[encoded data removed]",
      "text/plain": [
       "plot without title"
      ]
     },
     "metadata": {},
     "output_type": "display_data"
    }
   ],
   "source": [
    "temp_loc_dataframe <- scale(data.frame(\"TotalPrecipitation\" = random_stations$P,\n",
    "                                       \"Lat\" = random_stations$Lat,\n",
    "                                       \"Long\" = random_stations$Long), \n",
    "                            center = TRUE, scale = TRUE)\n",
    "\n",
    "rownames(temp_loc_dataframe) <- paste(random_stations$Tn, random_stations$Tm, random_stations$Tx, random_stations$Stn_Name, random_stations$Lat, random_stations$Long, sep=\", \")\n",
    "\n",
    "D <- dist(as.matrix(temp_loc_dataframe))\n",
    "hc <- hclust(D)\n",
    "ggdendrogram(hc, rotate = TRUE, theme_dendro = TRUE, color = \"tomato\")"
   ]
  },
  {
   "cell_type": "markdown",
   "metadata": {
    "button": false,
    "new_sheet": false,
    "run_control": {
     "read_only": false
    }
   },
   "source": [
    "Choose threshold of __1.5__ to create distinct clusters:"
   ]
  },
  {
   "cell_type": "code",
   "execution_count": 9,
   "metadata": {
    "button": false,
    "new_sheet": false,
    "run_control": {
     "read_only": false
    }
   },
   "outputs": [
    {
     "data": {
      "text/html": [
       "<dl class=dl-horizontal>\n",
       "\t<dt>-22.2, -4.9, 14.8, BOW ISLAND IRRIGATION AGDM, 49.867, -111.383</dt>\n",
       "\t\t<dd>1</dd>\n",
       "\t<dt>-26.3, -6, 13, ONEFOUR CDA, 49.117, -110.467</dt>\n",
       "\t\t<dd>1</dd>\n",
       "\t<dt>-8.5, 0.7, 11.5, HEDLEY NP MINE, 49.369, -120.022</dt>\n",
       "\t\t<dd>1</dd>\n",
       "\t<dt>-32, -15.7, 1.5, BUFFALO POUND LAKE, 50.55, -105.383</dt>\n",
       "\t\t<dd>1</dd>\n",
       "\t<dt>-10, -2.3, 4.5, VERNON SILVER STAR LODGE, 50.359, -119.056</dt>\n",
       "\t\t<dd>2</dd>\n",
       "\t<dt>-31.5, -17.2, -4, SCOTT, 46.5, -71.083</dt>\n",
       "\t\t<dd>3</dd>\n",
       "\t<dt>-26, -8.9, 8.5, CORNER BROOK, 48.95, -57.95</dt>\n",
       "\t\t<dd>4</dd>\n",
       "\t<dt>NA, NA, NA, LA GRANDE IV A, 53.757, -73.679</dt>\n",
       "\t\t<dd>5</dd>\n",
       "\t<dt>-39.5, -18.1, 1.8, MCCREARY, 50.712, -99.53</dt>\n",
       "\t\t<dd>1</dd>\n",
       "\t<dt>-39.1, -17.7, 3.3, MEADOW LAKE, 54.133, -108.517</dt>\n",
       "\t\t<dd>6</dd>\n",
       "\t<dt>-37.6, -21.9, -5.7, UPSALA (AUT), 49.033, -90.467</dt>\n",
       "\t\t<dd>1</dd>\n",
       "\t<dt>-32, -18, -7.5, ST JEAN DE CHERBOURG, 48.883, -67.117</dt>\n",
       "\t\t<dd>3</dd>\n",
       "\t<dt>-17, -7.4, 4.8, YARMOUTH A, 43.827, -66.088</dt>\n",
       "\t\t<dd>7</dd>\n",
       "\t<dt>-31.5, -17.6, -4, ANGERS, 45.55, -75.55</dt>\n",
       "\t\t<dd>3</dd>\n",
       "\t<dt>-24.1, -13.3, 3.6, KITSCOTY AGCM, 53.353, -110.416</dt>\n",
       "\t\t<dd>6</dd>\n",
       "\t<dt>-36.4, -20.7, -4.6, JONQUIERE, 48.425, -71.143</dt>\n",
       "\t\t<dd>3</dd>\n",
       "\t<dt>-31.5, -17.2, -4, COE HILL, 44.923, -77.885</dt>\n",
       "\t\t<dd>3</dd>\n",
       "\t<dt>4, 8.1, 13.7, BALLENAS ISLAND, 49.35, -124.16</dt>\n",
       "\t\t<dd>2</dd>\n",
       "\t<dt>-24.6, -8, 11.7, SPIRIT RIVER AUTO STATION, 55.695, -119.23</dt>\n",
       "\t\t<dd>6</dd>\n",
       "\t<dt>-4.8, 3.6, 12.4, NELSON CS, 49.491, -117.305</dt>\n",
       "\t\t<dd>2</dd>\n",
       "\t<dt>-33.5, -17.2, -2.5, ST PROSPER, 46.217, -70.5</dt>\n",
       "\t\t<dd>3</dd>\n",
       "\t<dt>-42.5, -24.6, -4, KEY LAKE, 57.25, -105.617</dt>\n",
       "\t\t<dd>6</dd>\n",
       "\t<dt>-29.8, -12.4, 6.5, ASSINIBOIA AIRPORT, 49.729, -105.946</dt>\n",
       "\t\t<dd>1</dd>\n",
       "\t<dt>-34.2, -15.1, 5.7, TULLIBY LAKE AGCM, 53.664, -110.081</dt>\n",
       "\t\t<dd>6</dd>\n",
       "\t<dt>NA, NA, NA, SONYA SUNDANCE MEADOWS, 44.217, -78.95</dt>\n",
       "\t\t<dd>3</dd>\n",
       "\t<dt>NA, NA, NA, REGINA SIAST SNOW, 50.408, -104.582</dt>\n",
       "\t\t<dd>1</dd>\n",
       "\t<dt>-30.7, -11.5, 7.1, ISLAND LAKE SOUTH, 54.821, -113.543</dt>\n",
       "\t\t<dd>6</dd>\n",
       "\t<dt>-36, -17.8, -5, NICOLET, 46.2, -72.617</dt>\n",
       "\t\t<dd>3</dd>\n",
       "\t<dt>-34.2, -17, -3, SAWYERVILLE NORD, 45.367, -71.533</dt>\n",
       "\t\t<dd>3</dd>\n",
       "\t<dt>-42, -31.6, -17.8, INUKJUAK A, 58.472, -78.077</dt>\n",
       "\t\t<dd>5</dd>\n",
       "</dl>\n"
      ],
      "text/latex": [
       "\\begin{description*}\n",
       "\\item[-22.2, -4.9, 14.8, BOW ISLAND IRRIGATION AGDM, 49.867, -111.383] 1\n",
       "\\item[-26.3, -6, 13, ONEFOUR CDA, 49.117, -110.467] 1\n",
       "\\item[-8.5, 0.7, 11.5, HEDLEY NP MINE, 49.369, -120.022] 1\n",
       "\\item[-32, -15.7, 1.5, BUFFALO POUND LAKE, 50.55, -105.383] 1\n",
       "\\item[-10, -2.3, 4.5, VERNON SILVER STAR LODGE, 50.359, -119.056] 2\n",
       "\\item[-31.5, -17.2, -4, SCOTT, 46.5, -71.083] 3\n",
       "\\item[-26, -8.9, 8.5, CORNER BROOK, 48.95, -57.95] 4\n",
       "\\item[NA, NA, NA, LA GRANDE IV A, 53.757, -73.679] 5\n",
       "\\item[-39.5, -18.1, 1.8, MCCREARY, 50.712, -99.53] 1\n",
       "\\item[-39.1, -17.7, 3.3, MEADOW LAKE, 54.133, -108.517] 6\n",
       "\\item[-37.6, -21.9, -5.7, UPSALA (AUT), 49.033, -90.467] 1\n",
       "\\item[-32, -18, -7.5, ST JEAN DE CHERBOURG, 48.883, -67.117] 3\n",
       "\\item[-17, -7.4, 4.8, YARMOUTH A, 43.827, -66.088] 7\n",
       "\\item[-31.5, -17.6, -4, ANGERS, 45.55, -75.55] 3\n",
       "\\item[-24.1, -13.3, 3.6, KITSCOTY AGCM, 53.353, -110.416] 6\n",
       "\\item[-36.4, -20.7, -4.6, JONQUIERE, 48.425, -71.143] 3\n",
       "\\item[-31.5, -17.2, -4, COE HILL, 44.923, -77.885] 3\n",
       "\\item[4, 8.1, 13.7, BALLENAS ISLAND, 49.35, -124.16] 2\n",
       "\\item[-24.6, -8, 11.7, SPIRIT RIVER AUTO STATION, 55.695, -119.23] 6\n",
       "\\item[-4.8, 3.6, 12.4, NELSON CS, 49.491, -117.305] 2\n",
       "\\item[-33.5, -17.2, -2.5, ST PROSPER, 46.217, -70.5] 3\n",
       "\\item[-42.5, -24.6, -4, KEY LAKE, 57.25, -105.617] 6\n",
       "\\item[-29.8, -12.4, 6.5, ASSINIBOIA AIRPORT, 49.729, -105.946] 1\n",
       "\\item[-34.2, -15.1, 5.7, TULLIBY LAKE AGCM, 53.664, -110.081] 6\n",
       "\\item[NA, NA, NA, SONYA SUNDANCE MEADOWS, 44.217, -78.95] 3\n",
       "\\item[NA, NA, NA, REGINA SIAST SNOW, 50.408, -104.582] 1\n",
       "\\item[-30.7, -11.5, 7.1, ISLAND LAKE SOUTH, 54.821, -113.543] 6\n",
       "\\item[-36, -17.8, -5, NICOLET, 46.2, -72.617] 3\n",
       "\\item[-34.2, -17, -3, SAWYERVILLE NORD, 45.367, -71.533] 3\n",
       "\\item[-42, -31.6, -17.8, INUKJUAK A, 58.472, -78.077] 5\n",
       "\\end{description*}\n"
      ],
      "text/markdown": [
       "-22.2, -4.9, 14.8, BOW ISLAND IRRIGATION AGDM, 49.867, -111.383\n",
       ":   1-26.3, -6, 13, ONEFOUR CDA, 49.117, -110.467\n",
       ":   1-8.5, 0.7, 11.5, HEDLEY NP MINE, 49.369, -120.022\n",
       ":   1-32, -15.7, 1.5, BUFFALO POUND LAKE, 50.55, -105.383\n",
       ":   1-10, -2.3, 4.5, VERNON SILVER STAR LODGE, 50.359, -119.056\n",
       ":   2-31.5, -17.2, -4, SCOTT, 46.5, -71.083\n",
       ":   3-26, -8.9, 8.5, CORNER BROOK, 48.95, -57.95\n",
       ":   4NA, NA, NA, LA GRANDE IV A, 53.757, -73.679\n",
       ":   5-39.5, -18.1, 1.8, MCCREARY, 50.712, -99.53\n",
       ":   1-39.1, -17.7, 3.3, MEADOW LAKE, 54.133, -108.517\n",
       ":   6-37.6, -21.9, -5.7, UPSALA (AUT), 49.033, -90.467\n",
       ":   1-32, -18, -7.5, ST JEAN DE CHERBOURG, 48.883, -67.117\n",
       ":   3-17, -7.4, 4.8, YARMOUTH A, 43.827, -66.088\n",
       ":   7-31.5, -17.6, -4, ANGERS, 45.55, -75.55\n",
       ":   3-24.1, -13.3, 3.6, KITSCOTY AGCM, 53.353, -110.416\n",
       ":   6-36.4, -20.7, -4.6, JONQUIERE, 48.425, -71.143\n",
       ":   3-31.5, -17.2, -4, COE HILL, 44.923, -77.885\n",
       ":   34, 8.1, 13.7, BALLENAS ISLAND, 49.35, -124.16\n",
       ":   2-24.6, -8, 11.7, SPIRIT RIVER AUTO STATION, 55.695, -119.23\n",
       ":   6-4.8, 3.6, 12.4, NELSON CS, 49.491, -117.305\n",
       ":   2-33.5, -17.2, -2.5, ST PROSPER, 46.217, -70.5\n",
       ":   3-42.5, -24.6, -4, KEY LAKE, 57.25, -105.617\n",
       ":   6-29.8, -12.4, 6.5, ASSINIBOIA AIRPORT, 49.729, -105.946\n",
       ":   1-34.2, -15.1, 5.7, TULLIBY LAKE AGCM, 53.664, -110.081\n",
       ":   6NA, NA, NA, SONYA SUNDANCE MEADOWS, 44.217, -78.95\n",
       ":   3NA, NA, NA, REGINA SIAST SNOW, 50.408, -104.582\n",
       ":   1-30.7, -11.5, 7.1, ISLAND LAKE SOUTH, 54.821, -113.543\n",
       ":   6-36, -17.8, -5, NICOLET, 46.2, -72.617\n",
       ":   3-34.2, -17, -3, SAWYERVILLE NORD, 45.367, -71.533\n",
       ":   3-42, -31.6, -17.8, INUKJUAK A, 58.472, -78.077\n",
       ":   5\n",
       "\n"
      ],
      "text/plain": [
       "-22.2, -4.9, 14.8, BOW ISLAND IRRIGATION AGDM, 49.867, -111.383 \n",
       "                                                              1 \n",
       "                   -26.3, -6, 13, ONEFOUR CDA, 49.117, -110.467 \n",
       "                                                              1 \n",
       "              -8.5, 0.7, 11.5, HEDLEY NP MINE, 49.369, -120.022 \n",
       "                                                              1 \n",
       "           -32, -15.7, 1.5, BUFFALO POUND LAKE, 50.55, -105.383 \n",
       "                                                              1 \n",
       "     -10, -2.3, 4.5, VERNON SILVER STAR LODGE, 50.359, -119.056 \n",
       "                                                              2 \n",
       "                         -31.5, -17.2, -4, SCOTT, 46.5, -71.083 \n",
       "                                                              3 \n",
       "                    -26, -8.9, 8.5, CORNER BROOK, 48.95, -57.95 \n",
       "                                                              4 \n",
       "                    NA, NA, NA, LA GRANDE IV A, 53.757, -73.679 \n",
       "                                                              5 \n",
       "                    -39.5, -18.1, 1.8, MCCREARY, 50.712, -99.53 \n",
       "                                                              1 \n",
       "               -39.1, -17.7, 3.3, MEADOW LAKE, 54.133, -108.517 \n",
       "                                                              6 \n",
       "              -37.6, -21.9, -5.7, UPSALA (AUT), 49.033, -90.467 \n",
       "                                                              1 \n",
       "          -32, -18, -7.5, ST JEAN DE CHERBOURG, 48.883, -67.117 \n",
       "                                                              3 \n",
       "                    -17, -7.4, 4.8, YARMOUTH A, 43.827, -66.088 \n",
       "                                                              7 \n",
       "                        -31.5, -17.6, -4, ANGERS, 45.55, -75.55 \n",
       "                                                              3 \n",
       "             -24.1, -13.3, 3.6, KITSCOTY AGCM, 53.353, -110.416 \n",
       "                                                              6 \n",
       "                 -36.4, -20.7, -4.6, JONQUIERE, 48.425, -71.143 \n",
       "                                                              3 \n",
       "                    -31.5, -17.2, -4, COE HILL, 44.923, -77.885 \n",
       "                                                              3 \n",
       "                  4, 8.1, 13.7, BALLENAS ISLAND, 49.35, -124.16 \n",
       "                                                              2 \n",
       "    -24.6, -8, 11.7, SPIRIT RIVER AUTO STATION, 55.695, -119.23 \n",
       "                                                              6 \n",
       "                   -4.8, 3.6, 12.4, NELSON CS, 49.491, -117.305 \n",
       "                                                              2 \n",
       "                  -33.5, -17.2, -2.5, ST PROSPER, 46.217, -70.5 \n",
       "                                                              3 \n",
       "                    -42.5, -24.6, -4, KEY LAKE, 57.25, -105.617 \n",
       "                                                              6 \n",
       "        -29.8, -12.4, 6.5, ASSINIBOIA AIRPORT, 49.729, -105.946 \n",
       "                                                              1 \n",
       "         -34.2, -15.1, 5.7, TULLIBY LAKE AGCM, 53.664, -110.081 \n",
       "                                                              6 \n",
       "             NA, NA, NA, SONYA SUNDANCE MEADOWS, 44.217, -78.95 \n",
       "                                                              3 \n",
       "                NA, NA, NA, REGINA SIAST SNOW, 50.408, -104.582 \n",
       "                                                              1 \n",
       "         -30.7, -11.5, 7.1, ISLAND LAKE SOUTH, 54.821, -113.543 \n",
       "                                                              6 \n",
       "                         -36, -17.8, -5, NICOLET, 46.2, -72.617 \n",
       "                                                              3 \n",
       "              -34.2, -17, -3, SAWYERVILLE NORD, 45.367, -71.533 \n",
       "                                                              3 \n",
       "                 -42, -31.6, -17.8, INUKJUAK A, 58.472, -78.077 \n",
       "                                                              5 "
      ]
     },
     "metadata": {},
     "output_type": "display_data"
    }
   ],
   "source": [
    "threshold <- 1.5 # define threshold\n",
    "\n",
    "groups <- cutree(hc, h=threshold) # cut three at defined threshold\n",
    "num_clusters <- max(groups) # number of clusters\n",
    "\n",
    "# show groups\n",
    "groups\n",
    "\n",
    "\n",
    "\n"
   ]
  },
  {
   "cell_type": "markdown",
   "metadata": {
    "button": false,
    "new_sheet": false,
    "run_control": {
     "read_only": false
    }
   },
   "source": [
    "### Add cluster labels to dataframe"
   ]
  },
  {
   "cell_type": "code",
   "execution_count": 10,
   "metadata": {
    "button": false,
    "new_sheet": false,
    "run_control": {
     "read_only": false
    },
    "scrolled": true
   },
   "outputs": [
    {
     "data": {
      "text/html": [
       "<table>\n",
       "<thead><tr><th scope=col>Stn_Name</th><th scope=col>Lat</th><th scope=col>Long</th><th scope=col>Prov</th><th scope=col>Tm</th><th scope=col>DwTm</th><th scope=col>D</th><th scope=col>Tx</th><th scope=col>DwTx</th><th scope=col>Tn</th><th scope=col>...</th><th scope=col>P.N</th><th scope=col>S_G</th><th scope=col>Pd</th><th scope=col>BS</th><th scope=col>DwBS</th><th scope=col>BS.</th><th scope=col>HDD</th><th scope=col>CDD</th><th scope=col>Stn_No</th><th scope=col>clusters</th></tr></thead>\n",
       "<tbody>\n",
       "\t<tr><td>BOW ISLAND IRRIGATION AGDM</td><td>49.867                    </td><td>-111.383                  </td><td>AB                        </td><td> -4.9                     </td><td> 0                        </td><td>  NA                      </td><td>14.8                      </td><td>0                         </td><td>-22.2                     </td><td>...                       </td><td>NA                        </td><td>NA                        </td><td> 5                        </td><td>NA                        </td><td>NA                        </td><td>NA                        </td><td>640.4                     </td><td>0                         </td><td>3030772                   </td><td>1                         </td></tr>\n",
       "\t<tr><td>ONEFOUR CDA               </td><td>49.117                    </td><td>-110.467                  </td><td>AB                        </td><td> -6.0                     </td><td> 0                        </td><td>  NA                      </td><td>13.0                      </td><td>0                         </td><td>-26.3                     </td><td>...                       </td><td>NA                        </td><td> 0                        </td><td> 2                        </td><td>NA                        </td><td>NA                        </td><td>NA                        </td><td>672.0                     </td><td>0                         </td><td>3044923                   </td><td>1                         </td></tr>\n",
       "\t<tr><td>HEDLEY NP MINE            </td><td>49.369                    </td><td>-120.022                  </td><td>BC                        </td><td>  0.7                     </td><td> 6                        </td><td> 4.4                      </td><td>11.5                      </td><td>6                         </td><td> -8.5                     </td><td>...                       </td><td>NA                        </td><td>NA                        </td><td> 4                        </td><td>NA                        </td><td>NA                        </td><td>NA                        </td><td>379.9                     </td><td>0                         </td><td>1123390                   </td><td>1                         </td></tr>\n",
       "\t<tr><td>BUFFALO POUND LAKE        </td><td>50.550                    </td><td>-105.383                  </td><td>SK                        </td><td>-15.7                     </td><td> 0                        </td><td>  NA                      </td><td> 1.5                      </td><td>0                         </td><td>-32.0                     </td><td>...                       </td><td>NA                        </td><td> 0                        </td><td> 0                        </td><td>NA                        </td><td>NA                        </td><td>NA                        </td><td>943.1                     </td><td>0                         </td><td>4010984                   </td><td>1                         </td></tr>\n",
       "\t<tr><td>VERNON SILVER STAR LODGE  </td><td>50.359                    </td><td>-119.056                  </td><td>BC                        </td><td> -2.3                     </td><td>13                        </td><td>  NA                      </td><td> 4.5                      </td><td>2                         </td><td>-10.0                     </td><td>...                       </td><td>NA                        </td><td> 0                        </td><td>10                        </td><td>NA                        </td><td>NA                        </td><td>NA                        </td><td>305.2                     </td><td>0                         </td><td>1128584                   </td><td>2                         </td></tr>\n",
       "\t<tr><td>SCOTT                     </td><td>46.500                    </td><td> -71.083                  </td><td>QC                        </td><td>-17.2                     </td><td> 8                        </td><td>-7.3                      </td><td>-4.0                      </td><td>5                         </td><td>-31.5                     </td><td>...                       </td><td>NA                        </td><td>28                        </td><td>10                        </td><td>NA                        </td><td>NA                        </td><td>NA                        </td><td>703.8                     </td><td>0                         </td><td>7027840                   </td><td>3                         </td></tr>\n",
       "</tbody>\n",
       "</table>\n"
      ],
      "text/latex": [
       "\\begin{tabular}{r|llllllllllllllllllllllllll}\n",
       " Stn\\_Name & Lat & Long & Prov & Tm & DwTm & D & Tx & DwTx & Tn & ... & P.N & S\\_G & Pd & BS & DwBS & BS. & HDD & CDD & Stn\\_No & clusters\\\\\n",
       "\\hline\n",
       "\t BOW ISLAND IRRIGATION AGDM & 49.867                     & -111.383                   & AB                         &  -4.9                      &  0                         &   NA                       & 14.8                       & 0                          & -22.2                      & ...                        & NA                         & NA                         &  5                         & NA                         & NA                         & NA                         & 640.4                      & 0                          & 3030772                    & 1                         \\\\\n",
       "\t ONEFOUR CDA                & 49.117                     & -110.467                   & AB                         &  -6.0                      &  0                         &   NA                       & 13.0                       & 0                          & -26.3                      & ...                        & NA                         &  0                         &  2                         & NA                         & NA                         & NA                         & 672.0                      & 0                          & 3044923                    & 1                         \\\\\n",
       "\t HEDLEY NP MINE             & 49.369                     & -120.022                   & BC                         &   0.7                      &  6                         &  4.4                       & 11.5                       & 6                          &  -8.5                      & ...                        & NA                         & NA                         &  4                         & NA                         & NA                         & NA                         & 379.9                      & 0                          & 1123390                    & 1                         \\\\\n",
       "\t BUFFALO POUND LAKE         & 50.550                     & -105.383                   & SK                         & -15.7                      &  0                         &   NA                       &  1.5                       & 0                          & -32.0                      & ...                        & NA                         &  0                         &  0                         & NA                         & NA                         & NA                         & 943.1                      & 0                          & 4010984                    & 1                         \\\\\n",
       "\t VERNON SILVER STAR LODGE   & 50.359                     & -119.056                   & BC                         &  -2.3                      & 13                         &   NA                       &  4.5                       & 2                          & -10.0                      & ...                        & NA                         &  0                         & 10                         & NA                         & NA                         & NA                         & 305.2                      & 0                          & 1128584                    & 2                         \\\\\n",
       "\t SCOTT                      & 46.500                     &  -71.083                   & QC                         & -17.2                      &  8                         & -7.3                       & -4.0                       & 5                          & -31.5                      & ...                        & NA                         & 28                         & 10                         & NA                         & NA                         & NA                         & 703.8                      & 0                          & 7027840                    & 3                         \\\\\n",
       "\\end{tabular}\n"
      ],
      "text/markdown": [
       "\n",
       "| Stn_Name | Lat | Long | Prov | Tm | DwTm | D | Tx | DwTx | Tn | ... | P.N | S_G | Pd | BS | DwBS | BS. | HDD | CDD | Stn_No | clusters |\n",
       "|---|---|---|---|---|---|---|---|---|---|---|---|---|---|---|---|---|---|---|---|---|\n",
       "| BOW ISLAND IRRIGATION AGDM | 49.867                     | -111.383                   | AB                         |  -4.9                      |  0                         |   NA                       | 14.8                       | 0                          | -22.2                      | ...                        | NA                         | NA                         |  5                         | NA                         | NA                         | NA                         | 640.4                      | 0                          | 3030772                    | 1                          |\n",
       "| ONEFOUR CDA                | 49.117                     | -110.467                   | AB                         |  -6.0                      |  0                         |   NA                       | 13.0                       | 0                          | -26.3                      | ...                        | NA                         |  0                         |  2                         | NA                         | NA                         | NA                         | 672.0                      | 0                          | 3044923                    | 1                          |\n",
       "| HEDLEY NP MINE             | 49.369                     | -120.022                   | BC                         |   0.7                      |  6                         |  4.4                       | 11.5                       | 6                          |  -8.5                      | ...                        | NA                         | NA                         |  4                         | NA                         | NA                         | NA                         | 379.9                      | 0                          | 1123390                    | 1                          |\n",
       "| BUFFALO POUND LAKE         | 50.550                     | -105.383                   | SK                         | -15.7                      |  0                         |   NA                       |  1.5                       | 0                          | -32.0                      | ...                        | NA                         |  0                         |  0                         | NA                         | NA                         | NA                         | 943.1                      | 0                          | 4010984                    | 1                          |\n",
       "| VERNON SILVER STAR LODGE   | 50.359                     | -119.056                   | BC                         |  -2.3                      | 13                         |   NA                       |  4.5                       | 2                          | -10.0                      | ...                        | NA                         |  0                         | 10                         | NA                         | NA                         | NA                         | 305.2                      | 0                          | 1128584                    | 2                          |\n",
       "| SCOTT                      | 46.500                     |  -71.083                   | QC                         | -17.2                      |  8                         | -7.3                       | -4.0                       | 5                          | -31.5                      | ...                        | NA                         | 28                         | 10                         | NA                         | NA                         | NA                         | 703.8                      | 0                          | 7027840                    | 3                          |\n",
       "\n"
      ],
      "text/plain": [
       "  Stn_Name                   Lat    Long     Prov Tm    DwTm D    Tx   DwTx\n",
       "1 BOW ISLAND IRRIGATION AGDM 49.867 -111.383 AB    -4.9  0     NA 14.8 0   \n",
       "2 ONEFOUR CDA                49.117 -110.467 AB    -6.0  0     NA 13.0 0   \n",
       "3 HEDLEY NP MINE             49.369 -120.022 BC     0.7  6    4.4 11.5 6   \n",
       "4 BUFFALO POUND LAKE         50.550 -105.383 SK   -15.7  0     NA  1.5 0   \n",
       "5 VERNON SILVER STAR LODGE   50.359 -119.056 BC    -2.3 13     NA  4.5 2   \n",
       "6 SCOTT                      46.500  -71.083 QC   -17.2  8   -7.3 -4.0 5   \n",
       "  Tn    ... P.N S_G Pd BS DwBS BS. HDD   CDD Stn_No  clusters\n",
       "1 -22.2 ... NA  NA   5 NA NA   NA  640.4 0   3030772 1       \n",
       "2 -26.3 ... NA   0   2 NA NA   NA  672.0 0   3044923 1       \n",
       "3  -8.5 ... NA  NA   4 NA NA   NA  379.9 0   1123390 1       \n",
       "4 -32.0 ... NA   0   0 NA NA   NA  943.1 0   4010984 1       \n",
       "5 -10.0 ... NA   0  10 NA NA   NA  305.2 0   1128584 2       \n",
       "6 -31.5 ... NA  28  10 NA NA   NA  703.8 0   7027840 3       "
      ]
     },
     "metadata": {},
     "output_type": "display_data"
    }
   ],
   "source": [
    "random_stations <- cbind(random_stations, clusters =as.factor(as.vector(groups)))\n",
    "head(random_stations)"
   ]
  },
  {
   "cell_type": "markdown",
   "metadata": {
    "button": false,
    "new_sheet": false,
    "run_control": {
     "read_only": false
    }
   },
   "source": [
    "### Check out clusters centroidsd"
   ]
  },
  {
   "cell_type": "code",
   "execution_count": 11,
   "metadata": {
    "button": false,
    "new_sheet": false,
    "run_control": {
     "read_only": false
    },
    "scrolled": true
   },
   "outputs": [
    {
     "data": {
      "text/html": [
       "<table>\n",
       "<thead><tr><th scope=col>cluster</th><th scope=col>Lat</th><th scope=col>Long</th></tr></thead>\n",
       "<tbody>\n",
       "\t<tr><td>1         </td><td>49.84812  </td><td>-105.97250</td></tr>\n",
       "\t<tr><td>2         </td><td>49.73333  </td><td>-120.17367</td></tr>\n",
       "\t<tr><td>3         </td><td>46.25356  </td><td> -72.93089</td></tr>\n",
       "\t<tr><td>4         </td><td>48.95000  </td><td> -57.95000</td></tr>\n",
       "\t<tr><td>5         </td><td>56.11450  </td><td> -75.87800</td></tr>\n",
       "\t<tr><td>6         </td><td>54.81933  </td><td>-111.23400</td></tr>\n",
       "\t<tr><td>7         </td><td>43.82700  </td><td> -66.08800</td></tr>\n",
       "</tbody>\n",
       "</table>\n"
      ],
      "text/latex": [
       "\\begin{tabular}{r|lll}\n",
       " cluster & Lat & Long\\\\\n",
       "\\hline\n",
       "\t 1          & 49.84812   & -105.97250\\\\\n",
       "\t 2          & 49.73333   & -120.17367\\\\\n",
       "\t 3          & 46.25356   &  -72.93089\\\\\n",
       "\t 4          & 48.95000   &  -57.95000\\\\\n",
       "\t 5          & 56.11450   &  -75.87800\\\\\n",
       "\t 6          & 54.81933   & -111.23400\\\\\n",
       "\t 7          & 43.82700   &  -66.08800\\\\\n",
       "\\end{tabular}\n"
      ],
      "text/markdown": [
       "\n",
       "| cluster | Lat | Long |\n",
       "|---|---|---|\n",
       "| 1          | 49.84812   | -105.97250 |\n",
       "| 2          | 49.73333   | -120.17367 |\n",
       "| 3          | 46.25356   |  -72.93089 |\n",
       "| 4          | 48.95000   |  -57.95000 |\n",
       "| 5          | 56.11450   |  -75.87800 |\n",
       "| 6          | 54.81933   | -111.23400 |\n",
       "| 7          | 43.82700   |  -66.08800 |\n",
       "\n"
      ],
      "text/plain": [
       "  cluster Lat      Long      \n",
       "1 1       49.84812 -105.97250\n",
       "2 2       49.73333 -120.17367\n",
       "3 3       46.25356  -72.93089\n",
       "4 4       48.95000  -57.95000\n",
       "5 5       56.11450  -75.87800\n",
       "6 6       54.81933 -111.23400\n",
       "7 7       43.82700  -66.08800"
      ]
     },
     "metadata": {},
     "output_type": "display_data"
    }
   ],
   "source": [
    "clusters_centers_dataframe <- aggregate(random_stations[, c(\"Lat\", \"Long\")], list(cluster = random_stations$clusters), mean)\n",
    "clusters_centers_dataframe"
   ]
  }
 ],
 "metadata": {
  "kernelspec": {
   "display_name": "R",
   "language": "R",
   "name": "ir"
  },
  "language_info": {
   "codemirror_mode": "r",
   "file_extension": ".r",
   "mimetype": "text/x-r-source",
   "name": "R",
   "pygments_lexer": "r",
   "version": "3.6.1"
  },
  "widgets": {
   "state": {},
   "version": "1.1.2"
  }
 },
 "nbformat": 4,
 "nbformat_minor": 1
}
