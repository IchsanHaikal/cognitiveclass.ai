{
 "cells": [
  {
   "cell_type": "markdown",
   "metadata": {},
   "source": [
    "<h1 align=center><font size = 5> Exercise: Desnity-based Clustering (DBSCAN) </font></h1>"
   ]
  },
  {
   "cell_type": "markdown",
   "metadata": {},
   "source": [
    "## The problem\n",
    "We would like to analyze kernels of wheat to find a method through which we can group kernels by size. We will first consider clustering by just the size of the kernel (kernel length and width), and then we will look at creating clusters based on all numerical variables in the dataset.\n",
    "In this notebook, we will load and explore <font color = \"green\"> 'seeds.txt' </font> in R, which is a dataset containing measurements of geometrical properties of kernels belonging to three different varieties of wheat. \n",
    "\n",
    "The DBSCAN algorithm combines data points that are closely packed together into clusters based on the parameters **eps** and **minPts**. \n",
    "\n",
    "The **eps** parameter corresponds to the size of the neighborhood. \n",
    "\n",
    "The **minPts** parameter corresponds to the minimum number of points that must exist in this neighborhood to define it as a dense area. \n",
    "\n",
    "This exercise covers:\n",
    "\n",
    "1. Installing and loading the DBSCAN library and the data in R\n",
    "2. Creating a subset containing kernel length and width from the datatset\n",
    "3. Using the dbscan function to obtain clusters\n",
    "4. Converting the clusters to factors \n",
    "5. Attaching the clusters to the measurements\n",
    "6. Visualizing the results\n",
    "7. Considering all numerical variables\n",
    "8. Conclusion\n"
   ]
  },
  {
   "cell_type": "markdown",
   "metadata": {},
   "source": [
    "## Installing and loading the DBSCAN library and the data in R\n",
    "We begin by installing the dbscan package and loading it along with the dataset .\n",
    "\n"
   ]
  },
  {
   "cell_type": "code",
   "execution_count": 1,
   "metadata": {},
   "outputs": [
    {
     "name": "stderr",
     "output_type": "stream",
     "text": [
      "also installing the dependencies 'DEoptimR', 'processx', 'rprojroot', 'diffobj', 'rematch2', 'mclust', 'flexmix', 'prabclus', 'diptest', 'robustbase', 'kernlab', 'brio', 'callr', 'cli', 'desc', 'ellipsis', 'lifecycle', 'pkgload', 'praise', 'ps', 'rlang', 'waldo', 'withr', 'fpc', 'microbenchmark', 'testthat', 'dendextend'\n",
      "\n"
     ]
    },
    {
     "name": "stdout",
     "output_type": "stream",
     "text": [
      "\n",
      "  There are binary versions available but the source versions are later:\n",
      "               binary source needs_compilation\n",
      "DEoptimR        1.0-8 1.0-11             FALSE\n",
      "processx        3.5.2  3.8.0              TRUE\n",
      "rprojroot       2.0.2  2.0.3             FALSE\n",
      "diffobj         0.3.4  0.3.5              TRUE\n",
      "mclust          5.4.7  6.0.0              TRUE\n",
      "flexmix        2.3-17 2.3-18             FALSE\n",
      "robustbase     0.93-6 0.95-0              TRUE\n",
      "kernlab        0.9-29 0.9-31              TRUE\n",
      "brio            1.1.2  1.1.3              TRUE\n",
      "callr           3.7.0  3.7.3             FALSE\n",
      "cli             2.5.0  3.5.0              TRUE\n",
      "desc            1.3.0  1.4.2             FALSE\n",
      "lifecycle       1.0.0  1.0.3             FALSE\n",
      "pkgload         1.2.1  1.3.2             FALSE\n",
      "ps              1.6.0  1.7.2              TRUE\n",
      "rlang          0.4.11  1.0.6              TRUE\n",
      "waldo           0.2.5  0.4.0             FALSE\n",
      "withr           2.4.2  2.5.0             FALSE\n",
      "fpc             2.2-9 2.2-10             FALSE\n",
      "microbenchmark  1.4-7  1.4.9              TRUE\n",
      "testthat        3.0.2  3.1.6              TRUE\n",
      "dendextend     1.15.1 1.16.0             FALSE\n",
      "dbscan          1.1-8 1.1-11              TRUE\n",
      "\n",
      "  Binaries will be installed\n",
      "package 'processx' successfully unpacked and MD5 sums checked\n",
      "package 'diffobj' successfully unpacked and MD5 sums checked\n",
      "package 'rematch2' successfully unpacked and MD5 sums checked\n",
      "package 'mclust' successfully unpacked and MD5 sums checked\n",
      "package 'prabclus' successfully unpacked and MD5 sums checked\n",
      "package 'diptest' successfully unpacked and MD5 sums checked\n",
      "package 'robustbase' successfully unpacked and MD5 sums checked\n",
      "package 'kernlab' successfully unpacked and MD5 sums checked\n",
      "package 'brio' successfully unpacked and MD5 sums checked\n",
      "package 'cli' successfully unpacked and MD5 sums checked\n",
      "package 'ellipsis' successfully unpacked and MD5 sums checked\n",
      "package 'praise' successfully unpacked and MD5 sums checked\n",
      "package 'ps' successfully unpacked and MD5 sums checked\n",
      "package 'rlang' successfully unpacked and MD5 sums checked\n"
     ]
    },
    {
     "name": "stderr",
     "output_type": "stream",
     "text": [
      "Warning message:\n",
      "\"cannot remove prior installation of package 'rlang'\"Warning message in file.copy(savedcopy, lib, recursive = TRUE):\n",
      "\"problem copying C:\\Users\\Erlangga\\anaconda3\\envs\\RKernel\\Lib\\R\\library\\00LOCK\\rlang\\libs\\x64\\rlang.dll to C:\\Users\\Erlangga\\anaconda3\\envs\\RKernel\\Lib\\R\\library\\rlang\\libs\\x64\\rlang.dll: Permission denied\"Warning message:\n",
      "\"restored 'rlang'\""
     ]
    },
    {
     "name": "stdout",
     "output_type": "stream",
     "text": [
      "package 'microbenchmark' successfully unpacked and MD5 sums checked\n",
      "package 'testthat' successfully unpacked and MD5 sums checked\n",
      "package 'dbscan' successfully unpacked and MD5 sums checked\n",
      "\n",
      "The downloaded binary packages are in\n",
      "\tC:\\Users\\Erlangga\\AppData\\Local\\Temp\\RtmpwfNT6c\\downloaded_packages\n"
     ]
    },
    {
     "name": "stderr",
     "output_type": "stream",
     "text": [
      "installing the source packages 'DEoptimR', 'rprojroot', 'flexmix', 'callr', 'desc', 'lifecycle', 'pkgload', 'waldo', 'withr', 'fpc', 'dendextend'\n",
      "\n",
      "Warning message in install.packages(\"dbscan\", dependencies = TRUE):\n",
      "\"installation of package 'callr' had non-zero exit status\"Warning message in install.packages(\"dbscan\", dependencies = TRUE):\n",
      "\"installation of package 'lifecycle' had non-zero exit status\"Warning message in install.packages(\"dbscan\", dependencies = TRUE):\n",
      "\"installation of package 'waldo' had non-zero exit status\"Warning message in install.packages(\"dbscan\", dependencies = TRUE):\n",
      "\"installation of package 'pkgload' had non-zero exit status\"Warning message:\n",
      "\"package 'dbscan' was built under R version 3.6.3\""
     ]
    }
   ],
   "source": [
    "# Installing the library 'dbscan'\n",
    "install.packages(\"dbscan\", dependencies = TRUE)\n",
    "library('dbscan')"
   ]
  },
  {
   "cell_type": "code",
   "execution_count": 2,
   "metadata": {},
   "outputs": [
    {
     "data": {
      "text/html": [
       "<table>\n",
       "<thead><tr><th scope=col>area</th><th scope=col>perimeter</th><th scope=col>compactness</th><th scope=col>length</th><th scope=col>width</th><th scope=col>asymmetry_coeff</th><th scope=col>groove_length</th><th scope=col>type</th></tr></thead>\n",
       "<tbody>\n",
       "\t<tr><td>15.26 </td><td>14.84 </td><td>0.8710</td><td>5.763 </td><td>3.312 </td><td>2.221 </td><td>5.220 </td><td>1     </td></tr>\n",
       "\t<tr><td>14.88 </td><td>14.57 </td><td>0.8811</td><td>5.554 </td><td>3.333 </td><td>1.018 </td><td>4.956 </td><td>1     </td></tr>\n",
       "\t<tr><td>14.29 </td><td>14.09 </td><td>0.9050</td><td>5.291 </td><td>3.337 </td><td>2.699 </td><td>4.825 </td><td>1     </td></tr>\n",
       "\t<tr><td>13.84 </td><td>13.94 </td><td>0.8955</td><td>5.324 </td><td>3.379 </td><td>2.259 </td><td>4.805 </td><td>1     </td></tr>\n",
       "\t<tr><td>16.14 </td><td>14.99 </td><td>0.9034</td><td>5.658 </td><td>3.562 </td><td>1.355 </td><td>5.175 </td><td>1     </td></tr>\n",
       "\t<tr><td>14.38 </td><td>14.21 </td><td>0.8951</td><td>5.386 </td><td>3.312 </td><td>2.462 </td><td>4.956 </td><td>1     </td></tr>\n",
       "</tbody>\n",
       "</table>\n"
      ],
      "text/latex": [
       "\\begin{tabular}{r|llllllll}\n",
       " area & perimeter & compactness & length & width & asymmetry\\_coeff & groove\\_length & type\\\\\n",
       "\\hline\n",
       "\t 15.26  & 14.84  & 0.8710 & 5.763  & 3.312  & 2.221  & 5.220  & 1     \\\\\n",
       "\t 14.88  & 14.57  & 0.8811 & 5.554  & 3.333  & 1.018  & 4.956  & 1     \\\\\n",
       "\t 14.29  & 14.09  & 0.9050 & 5.291  & 3.337  & 2.699  & 4.825  & 1     \\\\\n",
       "\t 13.84  & 13.94  & 0.8955 & 5.324  & 3.379  & 2.259  & 4.805  & 1     \\\\\n",
       "\t 16.14  & 14.99  & 0.9034 & 5.658  & 3.562  & 1.355  & 5.175  & 1     \\\\\n",
       "\t 14.38  & 14.21  & 0.8951 & 5.386  & 3.312  & 2.462  & 4.956  & 1     \\\\\n",
       "\\end{tabular}\n"
      ],
      "text/markdown": [
       "\n",
       "| area | perimeter | compactness | length | width | asymmetry_coeff | groove_length | type |\n",
       "|---|---|---|---|---|---|---|---|\n",
       "| 15.26  | 14.84  | 0.8710 | 5.763  | 3.312  | 2.221  | 5.220  | 1      |\n",
       "| 14.88  | 14.57  | 0.8811 | 5.554  | 3.333  | 1.018  | 4.956  | 1      |\n",
       "| 14.29  | 14.09  | 0.9050 | 5.291  | 3.337  | 2.699  | 4.825  | 1      |\n",
       "| 13.84  | 13.94  | 0.8955 | 5.324  | 3.379  | 2.259  | 4.805  | 1      |\n",
       "| 16.14  | 14.99  | 0.9034 | 5.658  | 3.562  | 1.355  | 5.175  | 1      |\n",
       "| 14.38  | 14.21  | 0.8951 | 5.386  | 3.312  | 2.462  | 4.956  | 1      |\n",
       "\n"
      ],
      "text/plain": [
       "  area  perimeter compactness length width asymmetry_coeff groove_length type\n",
       "1 15.26 14.84     0.8710      5.763  3.312 2.221           5.220         1   \n",
       "2 14.88 14.57     0.8811      5.554  3.333 1.018           4.956         1   \n",
       "3 14.29 14.09     0.9050      5.291  3.337 2.699           4.825         1   \n",
       "4 13.84 13.94     0.8955      5.324  3.379 2.259           4.805         1   \n",
       "5 16.14 14.99     0.9034      5.658  3.562 1.355           5.175         1   \n",
       "6 14.38 14.21     0.8951      5.386  3.312 2.462           4.956         1   "
      ]
     },
     "metadata": {},
     "output_type": "display_data"
    }
   ],
   "source": [
    "# Load data\n",
    "seeds <- read.csv(\"https://ibm.box.com/shared/static/c1aw37ex3sx99pb9q2l8fwz643wnbeo6.txt\", sep = \"\t\")\n",
    "head(seeds)"
   ]
  },
  {
   "cell_type": "markdown",
   "metadata": {},
   "source": [
    "## Creating a subset from the dataset\n"
   ]
  },
  {
   "cell_type": "code",
   "execution_count": 3,
   "metadata": {},
   "outputs": [
    {
     "data": {
      "text/html": [
       "<table>\n",
       "<thead><tr><th scope=col>width</th><th scope=col>length</th></tr></thead>\n",
       "<tbody>\n",
       "\t<tr><td>3.312</td><td>5.763</td></tr>\n",
       "\t<tr><td>3.333</td><td>5.554</td></tr>\n",
       "\t<tr><td>3.337</td><td>5.291</td></tr>\n",
       "\t<tr><td>3.379</td><td>5.324</td></tr>\n",
       "\t<tr><td>3.562</td><td>5.658</td></tr>\n",
       "\t<tr><td>3.312</td><td>5.386</td></tr>\n",
       "</tbody>\n",
       "</table>\n"
      ],
      "text/latex": [
       "\\begin{tabular}{r|ll}\n",
       " width & length\\\\\n",
       "\\hline\n",
       "\t 3.312 & 5.763\\\\\n",
       "\t 3.333 & 5.554\\\\\n",
       "\t 3.337 & 5.291\\\\\n",
       "\t 3.379 & 5.324\\\\\n",
       "\t 3.562 & 5.658\\\\\n",
       "\t 3.312 & 5.386\\\\\n",
       "\\end{tabular}\n"
      ],
      "text/markdown": [
       "\n",
       "| width | length |\n",
       "|---|---|\n",
       "| 3.312 | 5.763 |\n",
       "| 3.333 | 5.554 |\n",
       "| 3.337 | 5.291 |\n",
       "| 3.379 | 5.324 |\n",
       "| 3.562 | 5.658 |\n",
       "| 3.312 | 5.386 |\n",
       "\n"
      ],
      "text/plain": [
       "  width length\n",
       "1 3.312 5.763 \n",
       "2 3.333 5.554 \n",
       "3 3.337 5.291 \n",
       "4 3.379 5.324 \n",
       "5 3.562 5.658 \n",
       "6 3.312 5.386 "
      ]
     },
     "metadata": {},
     "output_type": "display_data"
    }
   ],
   "source": [
    "# Creating the subset: The subset contains the kernel width and the kernel length\n",
    "seeds.sub <- subset(seeds, select = c(width,length))\n",
    "head(seeds.sub)\n"
   ]
  },
  {
   "cell_type": "markdown",
   "metadata": {},
   "source": [
    "## Using the dbscan function to obtain clusters\n",
    "Use the dbscan function to obtain clusters and store them in clusters_assignments1  \n",
    "For this exercise we will use eps = 0.8 and minPts = 4  \n",
    "Note: You can change the values to see the formation of different clusters  \n",
    "Noise points are assigned to cluster 0 by default  "
   ]
  },
  {
   "cell_type": "code",
   "execution_count": 4,
   "metadata": {},
   "outputs": [
    {
     "data": {
      "text/plain": [
       "DBSCAN clustering for 210 objects.\n",
       "Parameters: eps = 0.08, minPts = 4\n",
       "The clustering contains 4 cluster(s) and 40 noise points.\n",
       "\n",
       "  0   1   2   3   4 \n",
       " 40 128   8   4  30 \n",
       "\n",
       "Available fields: cluster, eps, minPts"
      ]
     },
     "metadata": {},
     "output_type": "display_data"
    }
   ],
   "source": [
    "clusters_assignments1 <- dbscan(seeds.sub, eps = .08, minPts = 4)\n",
    "clusters_assignments1 \n",
    "\n",
    "\n",
    "\n"
   ]
  },
  {
   "cell_type": "markdown",
   "metadata": {},
   "source": [
    "## Converting the clusters to factors\n"
   ]
  },
  {
   "cell_type": "code",
   "execution_count": 5,
   "metadata": {},
   "outputs": [
    {
     "data": {
      "text/html": [
       "<ol class=list-inline>\n",
       "\t<li>1</li>\n",
       "\t<li>1</li>\n",
       "\t<li>2</li>\n",
       "\t<li>2</li>\n",
       "\t<li>0</li>\n",
       "\t<li>2</li>\n",
       "</ol>\n",
       "\n",
       "<details>\n",
       "\t<summary style=display:list-item;cursor:pointer>\n",
       "\t\t<strong>Levels</strong>:\n",
       "\t</summary>\n",
       "\t<ol class=list-inline>\n",
       "\t\t<li>'0'</li>\n",
       "\t\t<li>'1'</li>\n",
       "\t\t<li>'2'</li>\n",
       "\t\t<li>'3'</li>\n",
       "\t\t<li>'4'</li>\n",
       "\t</ol>\n",
       "</details>"
      ],
      "text/latex": [
       "\\begin{enumerate*}\n",
       "\\item 1\n",
       "\\item 1\n",
       "\\item 2\n",
       "\\item 2\n",
       "\\item 0\n",
       "\\item 2\n",
       "\\end{enumerate*}\n",
       "\n",
       "\\emph{Levels}: \\begin{enumerate*}\n",
       "\\item '0'\n",
       "\\item '1'\n",
       "\\item '2'\n",
       "\\item '3'\n",
       "\\item '4'\n",
       "\\end{enumerate*}\n"
      ],
      "text/markdown": [
       "1. 1\n",
       "2. 1\n",
       "3. 2\n",
       "4. 2\n",
       "5. 0\n",
       "6. 2\n",
       "\n",
       "\n",
       "\n",
       "**Levels**: 1. '0'\n",
       "2. '1'\n",
       "3. '2'\n",
       "4. '3'\n",
       "5. '4'\n",
       "\n",
       "\n"
      ],
      "text/plain": [
       "[1] 1 1 2 2 0 2\n",
       "Levels: 0 1 2 3 4"
      ]
     },
     "metadata": {},
     "output_type": "display_data"
    }
   ],
   "source": [
    "# Clusters must be converted to factor before plotting in different colors\n",
    "clusters_assignments1$cluster <- as.factor(clusters_assignments1$cluster)\n",
    "head(clusters_assignments1$cluster)\n",
    "\n",
    "\n"
   ]
  },
  {
   "cell_type": "markdown",
   "metadata": {},
   "source": [
    "## Attaching the clusters to the measurements\n"
   ]
  },
  {
   "cell_type": "code",
   "execution_count": 6,
   "metadata": {},
   "outputs": [
    {
     "data": {
      "text/html": [
       "<table>\n",
       "<thead><tr><th scope=col>width</th><th scope=col>length</th><th scope=col>cluster_no</th></tr></thead>\n",
       "<tbody>\n",
       "\t<tr><td>3.312</td><td>5.763</td><td>1    </td></tr>\n",
       "\t<tr><td>3.333</td><td>5.554</td><td>1    </td></tr>\n",
       "\t<tr><td>3.337</td><td>5.291</td><td>2    </td></tr>\n",
       "\t<tr><td>3.379</td><td>5.324</td><td>2    </td></tr>\n",
       "\t<tr><td>3.562</td><td>5.658</td><td>0    </td></tr>\n",
       "\t<tr><td>3.312</td><td>5.386</td><td>2    </td></tr>\n",
       "</tbody>\n",
       "</table>\n"
      ],
      "text/latex": [
       "\\begin{tabular}{r|lll}\n",
       " width & length & cluster\\_no\\\\\n",
       "\\hline\n",
       "\t 3.312 & 5.763 & 1    \\\\\n",
       "\t 3.333 & 5.554 & 1    \\\\\n",
       "\t 3.337 & 5.291 & 2    \\\\\n",
       "\t 3.379 & 5.324 & 2    \\\\\n",
       "\t 3.562 & 5.658 & 0    \\\\\n",
       "\t 3.312 & 5.386 & 2    \\\\\n",
       "\\end{tabular}\n"
      ],
      "text/markdown": [
       "\n",
       "| width | length | cluster_no |\n",
       "|---|---|---|\n",
       "| 3.312 | 5.763 | 1     |\n",
       "| 3.333 | 5.554 | 1     |\n",
       "| 3.337 | 5.291 | 2     |\n",
       "| 3.379 | 5.324 | 2     |\n",
       "| 3.562 | 5.658 | 0     |\n",
       "| 3.312 | 5.386 | 2     |\n",
       "\n"
      ],
      "text/plain": [
       "  width length cluster_no\n",
       "1 3.312 5.763  1         \n",
       "2 3.333 5.554  1         \n",
       "3 3.337 5.291  2         \n",
       "4 3.379 5.324  2         \n",
       "5 3.562 5.658  0         \n",
       "6 3.312 5.386  2         "
      ]
     },
     "metadata": {},
     "output_type": "display_data"
    }
   ],
   "source": [
    "# Combine the cluster assignments with the subset\n",
    "seeds.sub$cluster_no <- clusters_assignments1$cluster\n",
    "head(seeds.sub)\n",
    "\n"
   ]
  },
  {
   "cell_type": "markdown",
   "metadata": {},
   "source": [
    "## Visualizing the results\n"
   ]
  },
  {
   "cell_type": "code",
   "execution_count": 7,
   "metadata": {},
   "outputs": [
    {
     "data": {
      "image/png": "[encoded data removed]",
      "text/plain": [
       "Plot with title \"Scatterplot Displaying Clusters\""
      ]
     },
     "metadata": {},
     "output_type": "display_data"
    }
   ],
   "source": [
    "# Visualize results (noise is shown in black) using a simple plot\n",
    "plot(seeds.sub$width, seeds.sub$length, col = clusters_assignments1$cluster, pch = 16, main = \"Scatterplot Displaying Clusters\", xlab = \"Kernel Width\", ylab = \"Kernel Length\")\n",
    "legend(x = 2.6, y = 6.75, legend = levels(clusters_assignments1$cluster), col = c(1:5), pch = 16, title = \"Clusters\")\n",
    "\n",
    "\n",
    "\n"
   ]
  },
  {
   "cell_type": "markdown",
   "metadata": {},
   "source": [
    "## Considering all numerical variables\n"
   ]
  },
  {
   "cell_type": "code",
   "execution_count": 8,
   "metadata": {},
   "outputs": [
    {
     "data": {
      "text/plain": [
       "DBSCAN clustering for 210 objects.\n",
       "Parameters: eps = 0.9, minPts = 4\n",
       "The clustering contains 4 cluster(s) and 15 noise points.\n",
       "\n",
       "  0   1   2   3   4 \n",
       " 15 134   4  52   5 \n",
       "\n",
       "Available fields: cluster, eps, minPts"
      ]
     },
     "metadata": {},
     "output_type": "display_data"
    },
    {
     "data": {
      "image/png": "[encoded data removed]",
      "text/plain": [
       "plot without title"
      ]
     },
     "metadata": {},
     "output_type": "display_data"
    }
   ],
   "source": [
    "# Create subset including all numerical variables only.\n",
    "# Note: The variable 'type' is categorical.\n",
    "seeds.submain <- seeds[1:7]\n",
    "# We will run the dbscan algorithm with eps = 0.9 and minPts = 4.\n",
    "# Note: Using the previous value of eps = 0.08 will create only one cluster containing all datapoints.\n",
    "clusters_assignments2 <- dbscan(seeds.submain, eps = .9, minPts = 4)\n",
    "clusters_assignments2\n",
    "# Clusters must be converted to factor before plotting in different colors\n",
    "clusters_assignments2$cluster <- as.factor(clusters_assignments2$cluster)\n",
    "# Linking the assigned cluster to each station\n",
    "seeds.submain$cluster_no <- clusters_assignments2$cluster\n",
    "# Visualize results using a pairs plot (noise is shown in black)\n",
    "pairs(seeds.submain, col = clusters_assignments2$cluster, pch = 16, main = \"Scatterplot Displaying Clusters\")\n",
    "\n",
    "\n",
    "\n",
    "\n",
    "\n",
    "\n",
    "\n",
    "\n",
    "\n"
   ]
  },
  {
   "cell_type": "markdown",
   "metadata": {},
   "source": [
    "<div class=\"alert alert-success alertsuccess\" style=\"margin-top: 20px\">\n",
    "<font size = 3><strong>Aside:</strong></font>\n",
    "<br>\n",
    "<br>\n",
    "A pairs plot produces a matrix of scatterplots for each variable of the input dataset. To interpret a pairs plot consider it as a matrix with rows and columns. The variable stated in a row represents the variable that is used for the y-axis of all plots in that row. The variable stated in a column is the variable used for the x-axis of all plots in that column.<p></p>\n",
    "\n",
    "</div>"
   ]
  },
  {
   "cell_type": "markdown",
   "metadata": {},
   "source": [
    "## Conclusion\n",
    "\n",
    "The results from both implementations of the DBSCAN algorithm provide somewhat similar clusters when considering the geometric size of the kernel (kernel length and width). In both cases, cluster 1 represents kernels of a smaller geometric size, which comprises more than 60% of the datapoints. However, the implementation using all the numerical variables has fewer noise points (represented as cluster 0)."
   ]
  }
 ],
 "metadata": {
  "kernelspec": {
   "display_name": "R",
   "language": "R",
   "name": "ir"
  },
  "language_info": {
   "codemirror_mode": "r",
   "file_extension": ".r",
   "mimetype": "text/x-r-source",
   "name": "R",
   "pygments_lexer": "r",
   "version": "3.6.1"
  },
  "widgets": {
   "state": {},
   "version": "1.1.2"
  }
 },
 "nbformat": 4,
 "nbformat_minor": 1
}
